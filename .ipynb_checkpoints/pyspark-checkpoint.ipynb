{
 "cells": [
  {
   "cell_type": "markdown",
   "metadata": {},
   "source": [
    "## Install required packages"
   ]
  },
  {
   "cell_type": "markdown",
   "metadata": {},
   "source": [
    "```\n",
    "pip install -r requirements.txt\n",
    "```"
   ]
  },
  {
   "cell_type": "markdown",
   "metadata": {},
   "source": [
    "## Check if you have Java"
   ]
  },
  {
   "cell_type": "markdown",
   "metadata": {},
   "source": [
    "!java -version "
   ]
  },
  {
   "cell_type": "markdown",
   "metadata": {},
   "source": [
    "If you do not have java installed,\n",
    "run \n",
    "```\n",
    "sudo apt-get update\n",
    "sudo apt-get install openjdk-8-jdk\n",
    "```"
   ]
  },
  {
   "cell_type": "markdown",
   "metadata": {},
   "source": [
    "## Working with Spark"
   ]
  },
  {
   "cell_type": "markdown",
   "metadata": {},
   "source": [
    "First, load pyspark"
   ]
  },
  {
   "cell_type": "code",
   "execution_count": 1,
   "metadata": {},
   "outputs": [
    {
     "name": "stderr",
     "output_type": "stream",
     "text": [
      "Setting default log level to \"WARN\".\n",
      "To adjust logging level use sc.setLogLevel(newLevel). For SparkR, use setLogLevel(newLevel).\n",
      "23/06/13 18:54:16 WARN NativeCodeLoader: Unable to load native-hadoop library for your platform... using builtin-java classes where applicable\n",
      "23/06/13 18:54:16 WARN Utils: Service 'SparkUI' could not bind on port 4040. Attempting port 4041.\n",
      "23/06/13 18:54:27 WARN GarbageCollectionMetrics: To enable non-built-in garbage collector(s) List(G1 Concurrent GC), users should configure it(them) to spark.eventLog.gcMetrics.youngGenerationGarbageCollectors or spark.eventLog.gcMetrics.oldGenerationGarbageCollectors\n"
     ]
    }
   ],
   "source": [
    "from pyspark.sql import SparkSession\n",
    "\n",
    "spark = SparkSession.builder.appName('SparkExample.com').getOrCreate()\n",
    "\n",
    "# We load the csv into an RDD (Resilient Distributed Dataset) named tweetsCSV\n",
    "sc = spark.sparkContext.textFile(\"training.1600000.processed.noemoticon.csv\")\n",
    "def process_string(s):\n",
    "    split = s.split(',')\n",
    "    if len(split) != 6:\n",
    "        split[5] = ''.join(split[5:])\n",
    "        split = split[:6]\n",
    "    \n",
    "    for i in range(6):\n",
    "        split[i] = split[i][1:-1]\n",
    "    return split\n",
    "sc = sc.map(lambda s: process_string(s))"
   ]
  },
  {
   "cell_type": "code",
   "execution_count": 2,
   "metadata": {},
   "outputs": [
    {
     "name": "stderr",
     "output_type": "stream",
     "text": [
      "                                                                                \r"
     ]
    },
    {
     "data": {
      "text/plain": [
       "[['0',\n",
       "  '1467810369',\n",
       "  'Mon Apr 06 22:19:45 PDT 2009',\n",
       "  'NO_QUERY',\n",
       "  '_TheSpecialOne_',\n",
       "  \"@switchfoot http://twitpic.com/2y1zl - Awww that's a bummer.  You shoulda got David Carr of Third Day to do it. ;D\"],\n",
       " ['0',\n",
       "  '1467810672',\n",
       "  'Mon Apr 06 22:19:49 PDT 2009',\n",
       "  'NO_QUERY',\n",
       "  'scotthamilton',\n",
       "  \"is upset that he can't update his Facebook by texting it... and might cry as a result  School today also. Blah!\"],\n",
       " ['0',\n",
       "  '1467810917',\n",
       "  'Mon Apr 06 22:19:53 PDT 2009',\n",
       "  'NO_QUERY',\n",
       "  'mattycus',\n",
       "  '@Kenichan I dived many times for the ball. Managed to save 50%  The rest go out of bounds'],\n",
       " ['0',\n",
       "  '1467811184',\n",
       "  'Mon Apr 06 22:19:57 PDT 2009',\n",
       "  'NO_QUERY',\n",
       "  'ElleCTF',\n",
       "  'my whole body feels itchy and like its on fire '],\n",
       " ['0',\n",
       "  '1467811193',\n",
       "  'Mon Apr 06 22:19:57 PDT 2009',\n",
       "  'NO_QUERY',\n",
       "  'Karoli',\n",
       "  \"@nationwideclass no it's not behaving at all. i'm mad. why am i here? because I can't see you all over there. \"]]"
      ]
     },
     "execution_count": 2,
     "metadata": {},
     "output_type": "execute_result"
    }
   ],
   "source": [
    "# \"take\" the first 5 items\n",
    "sc.take(5)"
   ]
  },
  {
   "cell_type": "code",
   "execution_count": 3,
   "metadata": {},
   "outputs": [
    {
     "name": "stdout",
     "output_type": "stream",
     "text": [
      "root\n",
      " |-- target: string (nullable = true)\n",
      " |-- ids: string (nullable = true)\n",
      " |-- date: string (nullable = true)\n",
      " |-- flag: string (nullable = true)\n",
      " |-- user: string (nullable = true)\n",
      " |-- text: string (nullable = true)\n",
      "\n"
     ]
    },
    {
     "name": "stderr",
     "output_type": "stream",
     "text": [
      "[Stage 2:>                                                          (0 + 1) / 1]\r"
     ]
    },
    {
     "name": "stdout",
     "output_type": "stream",
     "text": [
      "+------+----------+--------------------+--------+---------------+--------------------+\n",
      "|target|       ids|                date|    flag|           user|                text|\n",
      "+------+----------+--------------------+--------+---------------+--------------------+\n",
      "|     0|1467810369|Mon Apr 06 22:19:...|NO_QUERY|_TheSpecialOne_|@switchfoot http:...|\n",
      "|     0|1467810672|Mon Apr 06 22:19:...|NO_QUERY|  scotthamilton|is upset that he ...|\n",
      "|     0|1467810917|Mon Apr 06 22:19:...|NO_QUERY|       mattycus|@Kenichan I dived...|\n",
      "|     0|1467811184|Mon Apr 06 22:19:...|NO_QUERY|        ElleCTF|my whole body fee...|\n",
      "|     0|1467811193|Mon Apr 06 22:19:...|NO_QUERY|         Karoli|@nationwideclass ...|\n",
      "|     0|1467811372|Mon Apr 06 22:20:...|NO_QUERY|       joy_wolf|@Kwesidei not the...|\n",
      "|     0|1467811592|Mon Apr 06 22:20:...|NO_QUERY|        mybirch|         Need a hug |\n",
      "|     0|1467811594|Mon Apr 06 22:20:...|NO_QUERY|           coZZ|@LOLTrish hey  lo...|\n",
      "|     0|1467811795|Mon Apr 06 22:20:...|NO_QUERY|2Hood4Hollywood|@Tatiana_K nope t...|\n",
      "|     0|1467812025|Mon Apr 06 22:20:...|NO_QUERY|        mimismo|@twittera que me ...|\n",
      "|     0|1467812416|Mon Apr 06 22:20:...|NO_QUERY| erinx3leannexo|spring break in p...|\n",
      "|     0|1467812579|Mon Apr 06 22:20:...|NO_QUERY|   pardonlauren|I just re-pierced...|\n",
      "|     0|1467812723|Mon Apr 06 22:20:...|NO_QUERY|           TLeC|@caregiving I cou...|\n",
      "|     0|1467812771|Mon Apr 06 22:20:...|NO_QUERY|robrobbierobert|@octolinz16 It it...|\n",
      "|     0|1467812784|Mon Apr 06 22:20:...|NO_QUERY|    bayofwolves|@smarrison i woul...|\n",
      "|     0|1467812799|Mon Apr 06 22:20:...|NO_QUERY|     HairByJess|@iamjazzyfizzle I...|\n",
      "|     0|1467812964|Mon Apr 06 22:20:...|NO_QUERY| lovesongwriter|Hollis' death sce...|\n",
      "|     0|1467813137|Mon Apr 06 22:20:...|NO_QUERY|       armotley|about to file taxes |\n",
      "|     0|1467813579|Mon Apr 06 22:20:...|NO_QUERY|     starkissed|@LettyA ahh ive a...|\n",
      "|     0|1467813782|Mon Apr 06 22:20:...|NO_QUERY|      gi_gi_bee|@FakerPattyPattz ...|\n",
      "+------+----------+--------------------+--------+---------------+--------------------+\n",
      "only showing top 20 rows\n",
      "\n"
     ]
    },
    {
     "name": "stderr",
     "output_type": "stream",
     "text": [
      "23/06/01 20:39:39 WARN PythonRunner: Detected deadlock while completing task 0.0 in stage 2 (TID 2): Attempting to kill Python Worker\n",
      "                                                                                \r"
     ]
    }
   ],
   "source": [
    "deptColumns = [\"target\",\"ids\", \"date\", \"flag\", \"user\", \"text\"]\n",
    "# Create data frame\n",
    "tweetsDF = sc.toDF(deptColumns)\n",
    "tweetsDF.printSchema()\n",
    "tweetsDF.show(truncate=True)"
   ]
  },
  {
   "cell_type": "code",
   "execution_count": 4,
   "metadata": {},
   "outputs": [
    {
     "name": "stderr",
     "output_type": "stream",
     "text": [
      "                                                                                \r"
     ]
    },
    {
     "data": {
      "text/plain": [
       "[Row(date='Mon Apr 06 22:20:31 PDT 2009'),\n",
       " Row(date='Fri May 01 23:36:21 PDT 2009'),\n",
       " Row(date='Sun May 10 19:35:12 PDT 2009'),\n",
       " Row(date='Mon May 18 05:57:55 PDT 2009'),\n",
       " Row(date='Fri May 29 09:28:23 PDT 2009'),\n",
       " Row(date='Fri May 29 16:40:47 PDT 2009'),\n",
       " Row(date='Fri May 29 17:14:18 PDT 2009'),\n",
       " Row(date='Sat May 30 06:45:57 PDT 2009'),\n",
       " Row(date='Sat May 30 09:35:11 PDT 2009'),\n",
       " Row(date='Sun May 31 13:30:47 PDT 2009'),\n",
       " Row(date='Tue Jun 02 10:24:34 PDT 2009'),\n",
       " Row(date='Wed Jun 03 04:26:07 PDT 2009'),\n",
       " Row(date='Fri Jun 05 11:58:06 PDT 2009'),\n",
       " Row(date='Mon Jun 15 13:45:23 PDT 2009'),\n",
       " Row(date='Mon Jun 15 19:52:47 PDT 2009'),\n",
       " Row(date='Mon Jun 15 19:58:11 PDT 2009'),\n",
       " Row(date='Mon Jun 15 20:07:56 PDT 2009'),\n",
       " Row(date='Tue Jun 16 10:54:52 PDT 2009'),\n",
       " Row(date='Tue Jun 16 13:27:11 PDT 2009'),\n",
       " Row(date='Tue Jun 16 15:58:45 PDT 2009'),\n",
       " Row(date='Tue Jun 16 16:02:00 PDT 2009'),\n",
       " Row(date='Tue Jun 16 16:29:21 PDT 2009'),\n",
       " Row(date='Wed Jun 17 18:09:47 PDT 2009'),\n",
       " Row(date='Thu Jun 18 18:44:09 PDT 2009'),\n",
       " Row(date='Thu Jun 18 18:56:55 PDT 2009'),\n",
       " Row(date='Thu Jun 18 20:55:02 PDT 2009'),\n",
       " Row(date='Fri Jun 19 11:07:13 PDT 2009'),\n",
       " Row(date='Fri Jun 19 12:09:56 PDT 2009'),\n",
       " Row(date='Fri Jun 19 13:05:41 PDT 2009'),\n",
       " Row(date='Fri Jun 19 15:40:16 PDT 2009'),\n",
       " Row(date='Fri Jun 19 16:40:57 PDT 2009'),\n",
       " Row(date='Fri Jun 19 19:26:36 PDT 2009'),\n",
       " Row(date='Sat Jun 20 11:58:14 PDT 2009'),\n",
       " Row(date='Sat Jun 20 12:10:23 PDT 2009'),\n",
       " Row(date='Mon Jun 22 12:22:26 PDT 2009'),\n",
       " Row(date='Fri May 22 04:28:31 PDT 2009'),\n",
       " Row(date='Sat May 30 06:44:27 PDT 2009'),\n",
       " Row(date='Sun May 31 19:17:18 PDT 2009'),\n",
       " Row(date='Mon Jun 01 18:10:31 PDT 2009'),\n",
       " Row(date='Mon Jun 15 20:30:47 PDT 2009'),\n",
       " Row(date='Mon Jun 15 21:25:32 PDT 2009')]"
      ]
     },
     "execution_count": 4,
     "metadata": {},
     "output_type": "execute_result"
    }
   ],
   "source": [
    "# Select-Where query (selecting all the tweets of use \"mimismo\")\n",
    "tweetsDF.where(tweetsDF.user=='starkissed').select(tweetsDF.date).collect()"
   ]
  },
  {
   "cell_type": "code",
   "execution_count": 5,
   "metadata": {},
   "outputs": [],
   "source": [
    "tweetsDF.createOrReplaceTempView(\"tweets\")"
   ]
  },
  {
   "cell_type": "markdown",
   "metadata": {},
   "source": [
    "### You can also use SQL queries "
   ]
  },
  {
   "cell_type": "code",
   "execution_count": 6,
   "metadata": {},
   "outputs": [
    {
     "name": "stderr",
     "output_type": "stream",
     "text": [
      "[Stage 4:>                                                          (0 + 1) / 1]\r"
     ]
    },
    {
     "name": "stdout",
     "output_type": "stream",
     "text": [
      "+------+----------+--------------------+--------+---------------+--------------------+\n",
      "|target|       ids|                date|    flag|           user|                text|\n",
      "+------+----------+--------------------+--------+---------------+--------------------+\n",
      "|     0|1467810369|Mon Apr 06 22:19:...|NO_QUERY|_TheSpecialOne_|@switchfoot http:...|\n",
      "|     0|1467810672|Mon Apr 06 22:19:...|NO_QUERY|  scotthamilton|is upset that he ...|\n",
      "|     0|1467810917|Mon Apr 06 22:19:...|NO_QUERY|       mattycus|@Kenichan I dived...|\n",
      "|     0|1467811184|Mon Apr 06 22:19:...|NO_QUERY|        ElleCTF|my whole body fee...|\n",
      "|     0|1467811193|Mon Apr 06 22:19:...|NO_QUERY|         Karoli|@nationwideclass ...|\n",
      "|     0|1467811372|Mon Apr 06 22:20:...|NO_QUERY|       joy_wolf|@Kwesidei not the...|\n",
      "|     0|1467811592|Mon Apr 06 22:20:...|NO_QUERY|        mybirch|         Need a hug |\n",
      "|     0|1467811594|Mon Apr 06 22:20:...|NO_QUERY|           coZZ|@LOLTrish hey  lo...|\n",
      "|     0|1467811795|Mon Apr 06 22:20:...|NO_QUERY|2Hood4Hollywood|@Tatiana_K nope t...|\n",
      "|     0|1467812025|Mon Apr 06 22:20:...|NO_QUERY|        mimismo|@twittera que me ...|\n",
      "+------+----------+--------------------+--------+---------------+--------------------+\n",
      "\n"
     ]
    },
    {
     "name": "stderr",
     "output_type": "stream",
     "text": [
      "23/06/01 20:39:44 WARN PythonRunner: Detected deadlock while completing task 0.0 in stage 4 (TID 11): Attempting to kill Python Worker\n",
      "                                                                                \r"
     ]
    }
   ],
   "source": [
    "\n",
    "temp_df = spark.sql(\"SELECT * FROM tweets LIMIT 10\")\n",
    "temp_df.show()"
   ]
  },
  {
   "cell_type": "markdown",
   "metadata": {},
   "source": [
    "## Introduction to NetworkX\n"
   ]
  },
  {
   "cell_type": "code",
   "execution_count": 7,
   "metadata": {},
   "outputs": [],
   "source": [
    "import networkx as nx"
   ]
  },
  {
   "cell_type": "code",
   "execution_count": 8,
   "metadata": {},
   "outputs": [
    {
     "name": "stdout",
     "output_type": "stream",
     "text": [
      "Nodes: [234, 'hello']\n",
      "Edges: [(234, 'hello')]\n"
     ]
    }
   ],
   "source": [
    "G = nx.Graph()\n",
    "\n",
    "G.add_node(234)\n",
    "G.add_node(\"hello\")\n",
    "G.add_edge(234,\"hello\")\n",
    "\n",
    "print(\"Nodes:\", G.nodes())\n",
    "print(\"Edges:\", G.edges())\n",
    "\n"
   ]
  },
  {
   "cell_type": "code",
   "execution_count": 9,
   "metadata": {},
   "outputs": [
    {
     "data": {
      "text/plain": [
       "AtlasView({'hello': {}})"
      ]
     },
     "execution_count": 9,
     "metadata": {},
     "output_type": "execute_result"
    }
   ],
   "source": [
    "G[234]"
   ]
  },
  {
   "cell_type": "code",
   "execution_count": 10,
   "metadata": {},
   "outputs": [
    {
     "data": {
      "text/plain": [
       "AtlasView({234: {}})"
      ]
     },
     "execution_count": 10,
     "metadata": {},
     "output_type": "execute_result"
    }
   ],
   "source": [
    "G['hello']"
   ]
  },
  {
   "cell_type": "code",
   "execution_count": 11,
   "metadata": {},
   "outputs": [],
   "source": [
    "G.add_edge('Alice', 'Bob', know= 10, friends=5)"
   ]
  },
  {
   "cell_type": "code",
   "execution_count": 12,
   "metadata": {},
   "outputs": [
    {
     "name": "stdout",
     "output_type": "stream",
     "text": [
      "Nodes: [234, 'hello', 'Alice', 'Bob']\n",
      "Edges: [(234, 'hello'), ('Alice', 'Bob')]\n"
     ]
    }
   ],
   "source": [
    "print(\"Nodes:\", G.nodes())\n",
    "print(\"Edges:\", G.edges())"
   ]
  },
  {
   "cell_type": "code",
   "execution_count": 13,
   "metadata": {},
   "outputs": [
    {
     "data": {
      "text/plain": [
       "AtlasView({'Alice': {'know': 10, 'friends': 5}})"
      ]
     },
     "execution_count": 13,
     "metadata": {},
     "output_type": "execute_result"
    }
   ],
   "source": [
    "G['Bob']"
   ]
  },
  {
   "cell_type": "code",
   "execution_count": 14,
   "metadata": {},
   "outputs": [
    {
     "data": {
      "text/plain": [
       "AtlasView({'Bob': {'know': 10, 'friends': 5}})"
      ]
     },
     "execution_count": 14,
     "metadata": {},
     "output_type": "execute_result"
    }
   ],
   "source": [
    "G['Alice']"
   ]
  },
  {
   "cell_type": "code",
   "execution_count": 15,
   "metadata": {},
   "outputs": [],
   "source": [
    "G['Bob']['Alice']['know'] += 1"
   ]
  },
  {
   "cell_type": "code",
   "execution_count": 16,
   "metadata": {},
   "outputs": [
    {
     "data": {
      "text/plain": [
       "AtlasView({'Bob': {'know': 11, 'friends': 5}})"
      ]
     },
     "execution_count": 16,
     "metadata": {},
     "output_type": "execute_result"
    }
   ],
   "source": [
    "G['Alice']"
   ]
  },
  {
   "cell_type": "markdown",
   "metadata": {},
   "source": [
    "## Analyzing graphs"
   ]
  },
  {
   "cell_type": "code",
   "execution_count": 17,
   "metadata": {},
   "outputs": [],
   "source": [
    "G.add_edge('Alice', 'Carlos')\n",
    "G.add_edge('Carlos', 'Dave')\n",
    "G.add_edge('Dave', 'Bob')\n",
    "G.add_edge('Alice', 'Eve')"
   ]
  },
  {
   "cell_type": "code",
   "execution_count": 18,
   "metadata": {},
   "outputs": [
    {
     "data": {
      "text/plain": [
       "[{234, 'hello'}, {'Alice', 'Bob', 'Carlos', 'Dave', 'Eve'}]"
      ]
     },
     "execution_count": 18,
     "metadata": {},
     "output_type": "execute_result"
    }
   ],
   "source": [
    "components = nx.connected_components(G)\n",
    "list(components)"
   ]
  },
  {
   "cell_type": "code",
   "execution_count": 19,
   "metadata": {},
   "outputs": [
    {
     "data": {
      "text/plain": [
       "DegreeView({234: 1, 'hello': 1, 'Alice': 3, 'Bob': 2, 'Carlos': 2, 'Dave': 2, 'Eve': 1})"
      ]
     },
     "execution_count": 19,
     "metadata": {},
     "output_type": "execute_result"
    }
   ],
   "source": [
    "nx.degree(G)"
   ]
  },
  {
   "cell_type": "code",
   "execution_count": 20,
   "metadata": {},
   "outputs": [
    {
     "data": {
      "text/plain": [
       "2"
      ]
     },
     "execution_count": 20,
     "metadata": {},
     "output_type": "execute_result"
    }
   ],
   "source": [
    "nx.degree(G,'Bob')"
   ]
  },
  {
   "cell_type": "code",
   "execution_count": 21,
   "metadata": {},
   "outputs": [
    {
     "data": {
      "text/plain": [
       "True"
      ]
     },
     "execution_count": 21,
     "metadata": {},
     "output_type": "execute_result"
    }
   ],
   "source": [
    "nx.has_path(G, 'Alice', 'Dave')"
   ]
  },
  {
   "cell_type": "code",
   "execution_count": 22,
   "metadata": {},
   "outputs": [
    {
     "data": {
      "text/plain": [
       "False"
      ]
     },
     "execution_count": 22,
     "metadata": {},
     "output_type": "execute_result"
    }
   ],
   "source": [
    "nx.has_path(G, 'Alice', 'hello')"
   ]
  },
  {
   "cell_type": "code",
   "execution_count": 23,
   "metadata": {},
   "outputs": [
    {
     "data": {
      "text/plain": [
       "['Alice', 'Carlos', 'Dave']"
      ]
     },
     "execution_count": 23,
     "metadata": {},
     "output_type": "execute_result"
    }
   ],
   "source": [
    "nx.shortest_path(G, 'Alice', 'Dave')"
   ]
  },
  {
   "cell_type": "markdown",
   "metadata": {},
   "source": [
    "## Let's connect graphs and Twitter!"
   ]
  },
  {
   "cell_type": "code",
   "execution_count": 24,
   "metadata": {},
   "outputs": [],
   "source": [
    "import re\n",
    "wordTokenizerRegex = re.compile(\"[ ,.;]\")\n",
    "\n",
    "# Split to words and flatten using flatMap (to have one big RDD with all words). Then, we filter only hashtags (starting with \"#\")\n",
    "hashTags = sc.flatMap(lambda xs: [x.split(' ') for x in xs]).flatMap(lambda x: x).filter(lambda w: w.startswith(\"#\"))"
   ]
  },
  {
   "cell_type": "code",
   "execution_count": 25,
   "metadata": {},
   "outputs": [
    {
     "name": "stderr",
     "output_type": "stream",
     "text": [
      "[Stage 5:=======>                                                   (1 + 7) / 8]\r"
     ]
    },
    {
     "name": "stdout",
     "output_type": "stream",
     "text": [
      "44108\n",
      "['#itm', '#therapyfail', '#fb', '#TTSC?', '#24', '#gayforpeavy', '#FML', '#3', '#camerafail', '#', '#...We', '#fb', '#travian', '#wow', '#art', '#fail', '#KrispyKreme', '#fb', '#24', '#the', '#twitter', '#fail', '#CNN', '#1', '#Kulula', '#surface', '#c25k', '#drupal', '#epicfail', '#rails', '#mhbigcatch', '#stuckrecord', '#twitteriffic', '#startrek', '#earthquake', '#php', '#poken', '#error', '#tracy', '#fb', '#dwsr', '#Italy', '#Earthquake', '#fantasysurfer', '#titsuptuesday', '#N85', '#heyxboxlive', '#House', '#babypunch', '#cob', '#ticket', '#fb', '#fb', '#terremoto', '#earthquake', '#italy', '#fail', '#&amp;$(#&amp;$!(@#$(!@#*$(#!(', '#@&amp;$(!@#($*(!@#*$(!@#&amp;$(!@#$&amp;!(@#!#@($...', '#itm', '#AutomationAtaCost', '#gsoc', '#rockbox', '#niceweather', '#Berlin', '#goodlife', '#Ambients', '#theinbetweeners', '#Twilight', '#Summers', '#mmuk09', '#i36', '#spotify', '#fb', '#pman', '#spbpuk', '#dreams', '#dreams', '#dwsr', '#fb', '#wolframalpha', '#search', '#semantic-web', '#Virgin', '#liquor', '#Easter.', '#liquor', '#Easter.', '#WCH', '#tired', '#barcodes.', '#nickdarcy', '#IgniteCardiff', '#untwitter', '#house', '#fb', '#qt4', '#fb', '#iPhone', '#Chow']\n"
     ]
    },
    {
     "name": "stderr",
     "output_type": "stream",
     "text": [
      "                                                                                \r"
     ]
    }
   ],
   "source": [
    "# how many hashtags did we find\n",
    "print(hashTags.count())\n",
    "\n",
    "# examine the first 100\n",
    "print(hashTags.take(100))"
   ]
  },
  {
   "cell_type": "code",
   "execution_count": 26,
   "metadata": {},
   "outputs": [
    {
     "name": "stderr",
     "output_type": "stream",
     "text": [
      "                                                                                \r"
     ]
    }
   ],
   "source": [
    "# count unique words and sort them in descending order of count\n",
    "countedHashTags = hashTags.map(lambda w: (w, 1)).reduceByKey(lambda a, b: a + b).sortBy(lambda tup: tup[1], ascending = False)"
   ]
  },
  {
   "cell_type": "code",
   "execution_count": 27,
   "metadata": {},
   "outputs": [
    {
     "data": {
      "text/plain": [
       "[('#followfriday', 1861),\n",
       " ('#fb', 1728),\n",
       " ('#squarespace', 843),\n",
       " ('#FF', 503),\n",
       " ('#seb-day', 498),\n",
       " ('#', 485),\n",
       " ('#FollowFriday', 414),\n",
       " ('#1', 403),\n",
       " ('#musicmonday', 385),\n",
       " ('#iranelection', 342),\n",
       " ('#ff', 334),\n",
       " ('#fail', 288),\n",
       " ('#BSB', 273),\n",
       " ('#iremember', 263),\n",
       " ('#myweakness', 260),\n",
       " ('#asot400', 254),\n",
       " ('#marsiscoming', 245),\n",
       " ('#mcflyforgermany', 230),\n",
       " ('#2', 228),\n",
       " ('#andyhurleyday', 187),\n",
       " ('#inaperfectworld', 177),\n",
       " ('#iPhone', 175),\n",
       " ('#delongeday', 165),\n",
       " ('#haveyouever', 164),\n",
       " ('#f1', 163),\n",
       " ('#mileymonday', 155),\n",
       " ('#trackle', 153),\n",
       " ('#tcot', 151),\n",
       " ('#spymaster', 149),\n",
       " ('#bgt', 146),\n",
       " ('#e3', 126),\n",
       " ('#iphone', 122),\n",
       " ('#followfriday!', 120),\n",
       " ('#IranElection', 112),\n",
       " ('#E3', 111),\n",
       " ('#hhrs', 105),\n",
       " ('#clothdiapers', 104),\n",
       " ('#dontyouhate', 102),\n",
       " ('#goodsex', 102),\n",
       " ('#bradiewebb', 102),\n",
       " ('#mmwanted', 97),\n",
       " ('#flylady', 94),\n",
       " (\"#tag'\", 92),\n",
       " ('#asylm', 91),\n",
       " ('#BGT', 89),\n",
       " ('#chesterday', 87),\n",
       " ('#F1', 86),\n",
       " ('#hoppusday', 84),\n",
       " ('#andyclemmensen', 84),\n",
       " ('#eu09', 83),\n",
       " ('#3', 82),\n",
       " ('#140conf', 80),\n",
       " ('#chuckmemondays', 79),\n",
       " ('#shaundiviney', 76),\n",
       " ('#twitter', 74),\n",
       " ('#3hotwords', 71),\n",
       " ('#shortstack', 71),\n",
       " ('#happybdaykrisallen', 70),\n",
       " ('#peterfacinelli', 68),\n",
       " ('#zenjar', 68),\n",
       " ('#BTS', 68),\n",
       " ('#ASOT400', 66),\n",
       " ('#music', 65),\n",
       " ('#apprentice', 64),\n",
       " ('#PakCricket', 64),\n",
       " ('#followfriday.', 63),\n",
       " ('#tweetdeck', 61),\n",
       " ('#xboxe3', 56),\n",
       " ('#whatsmysection', 56),\n",
       " ('#jtv', 54),\n",
       " ('#3turnoffwords', 53),\n",
       " ('#follow', 53),\n",
       " ('#LVATT', 53),\n",
       " ('#IMISSCATH', 52),\n",
       " ('#ONTD', 51),\n",
       " ('#chuck', 51),\n",
       " ('#4', 51),\n",
       " ('#iloveyou', 50),\n",
       " ('#bb10', 50),\n",
       " ('#nascar', 50),\n",
       " ('#jonaskevin', 47),\n",
       " ('#robotpickuplines', 47),\n",
       " ('#TwitterTakeover', 46),\n",
       " ('#masterchef', 46),\n",
       " ('#Squarespace', 45),\n",
       " ('#30SECONDSTOMARS', 44),\n",
       " ('#mcfly', 44),\n",
       " ('#fixreplies', 43),\n",
       " ('#sytycd', 42),\n",
       " ('#jonasliveonfb', 42),\n",
       " ('#writechat', 42),\n",
       " ('#LOFNOTC', 41),\n",
       " ('#movie', 41),\n",
       " ('#CGFT', 40),\n",
       " ('#MCRchat', 40),\n",
       " ('#apple', 40),\n",
       " ('#frenchieb-day', 39),\n",
       " ('#wordpress', 38),\n",
       " ('#3wordsaftersex', 38),\n",
       " ('#2.', 38)]"
      ]
     },
     "execution_count": 27,
     "metadata": {},
     "output_type": "execute_result"
    }
   ],
   "source": [
    "#show top 100 words\n",
    "countedHashTags.take(100)"
   ]
  },
  {
   "cell_type": "markdown",
   "metadata": {},
   "source": [
    "## Filtering tweets with selected hashtag #musicmonday"
   ]
  },
  {
   "cell_type": "code",
   "execution_count": 28,
   "metadata": {},
   "outputs": [
    {
     "name": "stderr",
     "output_type": "stream",
     "text": [
      "                                                                                \r"
     ]
    },
    {
     "data": {
      "text/html": [
       "<div>\n",
       "<style scoped>\n",
       "    .dataframe tbody tr th:only-of-type {\n",
       "        vertical-align: middle;\n",
       "    }\n",
       "\n",
       "    .dataframe tbody tr th {\n",
       "        vertical-align: top;\n",
       "    }\n",
       "\n",
       "    .dataframe thead th {\n",
       "        text-align: right;\n",
       "    }\n",
       "</style>\n",
       "<table border=\"1\" class=\"dataframe\">\n",
       "  <thead>\n",
       "    <tr style=\"text-align: right;\">\n",
       "      <th></th>\n",
       "      <th>target</th>\n",
       "      <th>ids</th>\n",
       "      <th>date</th>\n",
       "      <th>flag</th>\n",
       "      <th>user</th>\n",
       "      <th>text</th>\n",
       "    </tr>\n",
       "  </thead>\n",
       "  <tbody>\n",
       "    <tr>\n",
       "      <th>0</th>\n",
       "      <td>0</td>\n",
       "      <td>1565096048</td>\n",
       "      <td>Mon Apr 20 05:53:13 PDT 2009</td>\n",
       "      <td>NO_QUERY</td>\n",
       "      <td>_whatshername</td>\n",
       "      <td>wanted to post Butch Walker's &amp;quot;#1 Summer ...</td>\n",
       "    </tr>\n",
       "    <tr>\n",
       "      <th>1</th>\n",
       "      <td>0</td>\n",
       "      <td>1565528649</td>\n",
       "      <td>Mon Apr 20 06:58:21 PDT 2009</td>\n",
       "      <td>NO_QUERY</td>\n",
       "      <td>breezydayz</td>\n",
       "      <td>Listening to some Morningwood &amp;quot;Sugarbaby&amp;...</td>\n",
       "    </tr>\n",
       "    <tr>\n",
       "      <th>2</th>\n",
       "      <td>0</td>\n",
       "      <td>1833334416</td>\n",
       "      <td>Sun May 17 22:58:17 PDT 2009</td>\n",
       "      <td>NO_QUERY</td>\n",
       "      <td>dimabm</td>\n",
       "      <td>yay for #musicmonday !!! Too bad I can't tweet...</td>\n",
       "    </tr>\n",
       "    <tr>\n",
       "      <th>3</th>\n",
       "      <td>0</td>\n",
       "      <td>1833583078</td>\n",
       "      <td>Sun May 17 23:45:36 PDT 2009</td>\n",
       "      <td>NO_QUERY</td>\n",
       "      <td>Galiiit</td>\n",
       "      <td>#musicmonday Green Day 21st Century Breakdown....</td>\n",
       "    </tr>\n",
       "    <tr>\n",
       "      <th>4</th>\n",
       "      <td>0</td>\n",
       "      <td>1833589369</td>\n",
       "      <td>Sun May 17 23:46:51 PDT 2009</td>\n",
       "      <td>NO_QUERY</td>\n",
       "      <td>SketchStudios</td>\n",
       "      <td>@MyMelodie Thats a bummer for people who have ...</td>\n",
       "    </tr>\n",
       "  </tbody>\n",
       "</table>\n",
       "</div>"
      ],
      "text/plain": [
       "  target         ids                          date      flag           user  \\\n",
       "0      0  1565096048  Mon Apr 20 05:53:13 PDT 2009  NO_QUERY  _whatshername   \n",
       "1      0  1565528649  Mon Apr 20 06:58:21 PDT 2009  NO_QUERY     breezydayz   \n",
       "2      0  1833334416  Sun May 17 22:58:17 PDT 2009  NO_QUERY         dimabm   \n",
       "3      0  1833583078  Sun May 17 23:45:36 PDT 2009  NO_QUERY        Galiiit   \n",
       "4      0  1833589369  Sun May 17 23:46:51 PDT 2009  NO_QUERY  SketchStudios   \n",
       "\n",
       "                                                text  \n",
       "0  wanted to post Butch Walker's &quot;#1 Summer ...  \n",
       "1  Listening to some Morningwood &quot;Sugarbaby&...  \n",
       "2  yay for #musicmonday !!! Too bad I can't tweet...  \n",
       "3  #musicmonday Green Day 21st Century Breakdown....  \n",
       "4  @MyMelodie Thats a bummer for people who have ...  "
      ]
     },
     "execution_count": 28,
     "metadata": {},
     "output_type": "execute_result"
    }
   ],
   "source": [
    "temp_df = spark.sql(\"SELECT * FROM tweets WHERE LOWER(text) LIKE '%#musicmonday%'\")\n",
    "temp_df = temp_df.toPandas()\n",
    "temp_df.head()"
   ]
  },
  {
   "cell_type": "markdown",
   "metadata": {},
   "source": [
    "Once we have the required dataframe - we save it (to avoid having to re-run spark again next time)"
   ]
  },
  {
   "cell_type": "code",
   "execution_count": 29,
   "metadata": {},
   "outputs": [],
   "source": [
    "temp_df.to_csv(\"musicmonday.csv\")"
   ]
  },
  {
   "cell_type": "markdown",
   "metadata": {},
   "source": [
    "Now, let's construct a graph"
   ]
  },
  {
   "cell_type": "code",
   "execution_count": 30,
   "metadata": {},
   "outputs": [],
   "source": [
    "def addMentionedColumn(df):\n",
    "    \n",
    "    def mentionsList(txt):\n",
    "        allWords = [word.strip(\"\"\" ,.:'\\\";\"\"\").lower() for word in txt.split()]\n",
    "        allNames = [word.strip(\"@\") for word in allWords if word.startswith(\"@\")]\n",
    "        uniqueNames = list(set(allNames))\n",
    "        return uniqueNames\n",
    "    \n",
    "    df[\"mentioned\"] = df[\"text\"].apply(mentionsList)"
   ]
  },
  {
   "cell_type": "code",
   "execution_count": 31,
   "metadata": {},
   "outputs": [],
   "source": [
    "addMentionedColumn(temp_df)"
   ]
  },
  {
   "cell_type": "code",
   "execution_count": 32,
   "metadata": {},
   "outputs": [
    {
     "data": {
      "text/html": [
       "<div>\n",
       "<style scoped>\n",
       "    .dataframe tbody tr th:only-of-type {\n",
       "        vertical-align: middle;\n",
       "    }\n",
       "\n",
       "    .dataframe tbody tr th {\n",
       "        vertical-align: top;\n",
       "    }\n",
       "\n",
       "    .dataframe thead th {\n",
       "        text-align: right;\n",
       "    }\n",
       "</style>\n",
       "<table border=\"1\" class=\"dataframe\">\n",
       "  <thead>\n",
       "    <tr style=\"text-align: right;\">\n",
       "      <th></th>\n",
       "      <th>target</th>\n",
       "      <th>ids</th>\n",
       "      <th>date</th>\n",
       "      <th>flag</th>\n",
       "      <th>user</th>\n",
       "      <th>text</th>\n",
       "      <th>mentioned</th>\n",
       "    </tr>\n",
       "  </thead>\n",
       "  <tbody>\n",
       "    <tr>\n",
       "      <th>0</th>\n",
       "      <td>0</td>\n",
       "      <td>1565096048</td>\n",
       "      <td>Mon Apr 20 05:53:13 PDT 2009</td>\n",
       "      <td>NO_QUERY</td>\n",
       "      <td>_whatshername</td>\n",
       "      <td>wanted to post Butch Walker's &amp;quot;#1 Summer ...</td>\n",
       "      <td>[]</td>\n",
       "    </tr>\n",
       "    <tr>\n",
       "      <th>1</th>\n",
       "      <td>0</td>\n",
       "      <td>1565528649</td>\n",
       "      <td>Mon Apr 20 06:58:21 PDT 2009</td>\n",
       "      <td>NO_QUERY</td>\n",
       "      <td>breezydayz</td>\n",
       "      <td>Listening to some Morningwood &amp;quot;Sugarbaby&amp;...</td>\n",
       "      <td>[]</td>\n",
       "    </tr>\n",
       "    <tr>\n",
       "      <th>2</th>\n",
       "      <td>0</td>\n",
       "      <td>1833334416</td>\n",
       "      <td>Sun May 17 22:58:17 PDT 2009</td>\n",
       "      <td>NO_QUERY</td>\n",
       "      <td>dimabm</td>\n",
       "      <td>yay for #musicmonday !!! Too bad I can't tweet...</td>\n",
       "      <td>[]</td>\n",
       "    </tr>\n",
       "    <tr>\n",
       "      <th>3</th>\n",
       "      <td>0</td>\n",
       "      <td>1833583078</td>\n",
       "      <td>Sun May 17 23:45:36 PDT 2009</td>\n",
       "      <td>NO_QUERY</td>\n",
       "      <td>Galiiit</td>\n",
       "      <td>#musicmonday Green Day 21st Century Breakdown....</td>\n",
       "      <td>[]</td>\n",
       "    </tr>\n",
       "    <tr>\n",
       "      <th>4</th>\n",
       "      <td>0</td>\n",
       "      <td>1833589369</td>\n",
       "      <td>Sun May 17 23:46:51 PDT 2009</td>\n",
       "      <td>NO_QUERY</td>\n",
       "      <td>SketchStudios</td>\n",
       "      <td>@MyMelodie Thats a bummer for people who have ...</td>\n",
       "      <td>[mymelodie]</td>\n",
       "    </tr>\n",
       "    <tr>\n",
       "      <th>5</th>\n",
       "      <td>0</td>\n",
       "      <td>1834974520</td>\n",
       "      <td>Mon May 18 04:46:48 PDT 2009</td>\n",
       "      <td>NO_QUERY</td>\n",
       "      <td>acchanosaurus</td>\n",
       "      <td>#musicmonday now listening to @katyperry - thi...</td>\n",
       "      <td>[katyperry]</td>\n",
       "    </tr>\n",
       "    <tr>\n",
       "      <th>6</th>\n",
       "      <td>0</td>\n",
       "      <td>1835193221</td>\n",
       "      <td>Mon May 18 05:23:20 PDT 2009</td>\n",
       "      <td>NO_QUERY</td>\n",
       "      <td>piroteknix</td>\n",
       "      <td>I'd really like to say I'm not listening to NI...</td>\n",
       "      <td>[]</td>\n",
       "    </tr>\n",
       "    <tr>\n",
       "      <th>7</th>\n",
       "      <td>0</td>\n",
       "      <td>1835316387</td>\n",
       "      <td>Mon May 18 05:42:13 PDT 2009</td>\n",
       "      <td>NO_QUERY</td>\n",
       "      <td>carmelabalboa</td>\n",
       "      <td>I Really Want You - James Blunt #musicmonday T...</td>\n",
       "      <td>[]</td>\n",
       "    </tr>\n",
       "    <tr>\n",
       "      <th>8</th>\n",
       "      <td>0</td>\n",
       "      <td>1835708717</td>\n",
       "      <td>Mon May 18 06:35:11 PDT 2009</td>\n",
       "      <td>NO_QUERY</td>\n",
       "      <td>GlmmC</td>\n",
       "      <td>workingworking working  need a holiday!!! #mus...</td>\n",
       "      <td>[]</td>\n",
       "    </tr>\n",
       "    <tr>\n",
       "      <th>9</th>\n",
       "      <td>0</td>\n",
       "      <td>1835998304</td>\n",
       "      <td>Mon May 18 07:10:25 PDT 2009</td>\n",
       "      <td>NO_QUERY</td>\n",
       "      <td>samuy</td>\n",
       "      <td>#musicmonday NO MONDAY playlist yet.  [suggest...</td>\n",
       "      <td>[]</td>\n",
       "    </tr>\n",
       "  </tbody>\n",
       "</table>\n",
       "</div>"
      ],
      "text/plain": [
       "  target         ids                          date      flag           user  \\\n",
       "0      0  1565096048  Mon Apr 20 05:53:13 PDT 2009  NO_QUERY  _whatshername   \n",
       "1      0  1565528649  Mon Apr 20 06:58:21 PDT 2009  NO_QUERY     breezydayz   \n",
       "2      0  1833334416  Sun May 17 22:58:17 PDT 2009  NO_QUERY         dimabm   \n",
       "3      0  1833583078  Sun May 17 23:45:36 PDT 2009  NO_QUERY        Galiiit   \n",
       "4      0  1833589369  Sun May 17 23:46:51 PDT 2009  NO_QUERY  SketchStudios   \n",
       "5      0  1834974520  Mon May 18 04:46:48 PDT 2009  NO_QUERY  acchanosaurus   \n",
       "6      0  1835193221  Mon May 18 05:23:20 PDT 2009  NO_QUERY     piroteknix   \n",
       "7      0  1835316387  Mon May 18 05:42:13 PDT 2009  NO_QUERY  carmelabalboa   \n",
       "8      0  1835708717  Mon May 18 06:35:11 PDT 2009  NO_QUERY          GlmmC   \n",
       "9      0  1835998304  Mon May 18 07:10:25 PDT 2009  NO_QUERY          samuy   \n",
       "\n",
       "                                                text    mentioned  \n",
       "0  wanted to post Butch Walker's &quot;#1 Summer ...           []  \n",
       "1  Listening to some Morningwood &quot;Sugarbaby&...           []  \n",
       "2  yay for #musicmonday !!! Too bad I can't tweet...           []  \n",
       "3  #musicmonday Green Day 21st Century Breakdown....           []  \n",
       "4  @MyMelodie Thats a bummer for people who have ...  [mymelodie]  \n",
       "5  #musicmonday now listening to @katyperry - thi...  [katyperry]  \n",
       "6  I'd really like to say I'm not listening to NI...           []  \n",
       "7  I Really Want You - James Blunt #musicmonday T...           []  \n",
       "8  workingworking working  need a holiday!!! #mus...           []  \n",
       "9  #musicmonday NO MONDAY playlist yet.  [suggest...           []  "
      ]
     },
     "execution_count": 32,
     "metadata": {},
     "output_type": "execute_result"
    }
   ],
   "source": [
    "temp_df.head(10)"
   ]
  },
  {
   "cell_type": "code",
   "execution_count": 33,
   "metadata": {},
   "outputs": [],
   "source": [
    "def mentionGraph(df):\n",
    "    g = nx.Graph()\n",
    "    \n",
    "    for  (index, target, ids, date, flag, user, text, mentionedUsers) in df.itertuples():\n",
    "        for mentionedUser in mentionedUsers: \n",
    "            if (user in g) and (mentionedUser in g[user]):\n",
    "                g[user][mentionedUser][\"numberMentions\"] += 1\n",
    "            else:\n",
    "                g.add_edge(user, mentionedUser, numberMentions=1)\n",
    "    \n",
    "    return g"
   ]
  },
  {
   "cell_type": "code",
   "execution_count": 34,
   "metadata": {},
   "outputs": [],
   "source": [
    "musicGraph = mentionGraph(temp_df)"
   ]
  },
  {
   "cell_type": "code",
   "execution_count": 35,
   "metadata": {},
   "outputs": [
    {
     "name": "stdout",
     "output_type": "stream",
     "text": [
      "# nodes: 173\n",
      "# edges: 98\n"
     ]
    }
   ],
   "source": [
    "print(\"# nodes:\", len(musicGraph.nodes()))\n",
    "print(\"# edges:\", len(musicGraph.edges()))"
   ]
  },
  {
   "cell_type": "markdown",
   "metadata": {},
   "source": [
    "## Visualize Mention Graph"
   ]
  },
  {
   "cell_type": "code",
   "execution_count": 36,
   "metadata": {},
   "outputs": [
    {
     "data": {
      "text/html": [
       "        <script type=\"text/javascript\">\n",
       "        window.PlotlyConfig = {MathJaxConfig: 'local'};\n",
       "        if (window.MathJax && window.MathJax.Hub && window.MathJax.Hub.Config) {window.MathJax.Hub.Config({SVG: {font: \"STIX-Web\"}});}\n",
       "        if (typeof require !== 'undefined') {\n",
       "        require.undef(\"plotly\");\n",
       "        requirejs.config({\n",
       "            paths: {\n",
       "                'plotly': ['https://cdn.plot.ly/plotly-2.20.0.min']\n",
       "            }\n",
       "        });\n",
       "        require(['plotly'], function(Plotly) {\n",
       "            window._Plotly = Plotly;\n",
       "        });\n",
       "        }\n",
       "        </script>\n",
       "        "
      ]
     },
     "metadata": {},
     "output_type": "display_data"
    }
   ],
   "source": [
    "\n",
    "from plotly.offline import download_plotlyjs, init_notebook_mode, plot, iplot\n",
    "from plotly.graph_objs import *\n",
    "\n",
    "init_notebook_mode(connected=True)"
   ]
  },
  {
   "cell_type": "code",
   "execution_count": 37,
   "metadata": {},
   "outputs": [],
   "source": [
    "import random\n",
    "def addRandomPositions(graph):\n",
    "    posDict = dict((node,(random.gauss(0,10),random.gauss(0,10))) for node in graph.nodes())\n",
    "    nx.set_node_attributes(graph, posDict, \"pos\")"
   ]
  },
  {
   "cell_type": "code",
   "execution_count": 38,
   "metadata": {},
   "outputs": [],
   "source": [
    "addRandomPositions(musicGraph)"
   ]
  },
  {
   "cell_type": "code",
   "execution_count": 39,
   "metadata": {},
   "outputs": [
    {
     "data": {
      "text/plain": [
       "(-13.779285036744607, 5.898142850240584)"
      ]
     },
     "execution_count": 39,
     "metadata": {},
     "output_type": "execute_result"
    }
   ],
   "source": [
    "nx.get_node_attributes(musicGraph, 'pos')['acchanosaurus']"
   ]
  },
  {
   "cell_type": "code",
   "execution_count": 40,
   "metadata": {},
   "outputs": [],
   "source": [
    "def plotNetwork(graph):\n",
    "    scatters=[]\n",
    "\n",
    "    for (node1, node2) in graph.edges():\n",
    "        x0, y0 = graph.nodes[node1]['pos']\n",
    "        x1, y1 = graph.nodes[node2]['pos']\n",
    "        edgeWidth = graph[node1][node2]['numberMentions']\n",
    "        s = Scatter(\n",
    "                x=[x0, x1],\n",
    "                y=[y0, y1],\n",
    "                hoverinfo='none',\n",
    "                mode='lines', \n",
    "                line=Line(width=1 ,color='#888'))\n",
    "        scatters.append(s)\n",
    "\n",
    "\n",
    "\n",
    "    for node in graph.nodes():\n",
    "        xPos, yPos = graph.nodes[node]['pos']\n",
    "        s = Scatter(\n",
    "                x=[xPos], \n",
    "                y=[yPos], \n",
    "                hoverinfo='none',\n",
    "                mode='markers', \n",
    "                marker=dict(\n",
    "                    color=\"#888\", \n",
    "                    size=10,         \n",
    "                    line=dict(width=2)))\n",
    "        scatters.append(s)\n",
    "    \n",
    "    layout = Layout(showlegend=False)\n",
    "    fig = Figure(data=scatters, layout=layout)\n",
    "    iplot(fig, show_link=False )"
   ]
  },
  {
   "cell_type": "code",
   "execution_count": 41,
   "metadata": {},
   "outputs": [
    {
     "name": "stderr",
     "output_type": "stream",
     "text": [
      "/home/eddie/miniconda-mio/envs/pyspark/lib/python3.11/site-packages/plotly/graph_objs/_deprecations.py:378: DeprecationWarning:\n",
      "\n",
      "plotly.graph_objs.Line is deprecated.\n",
      "Please replace it with one of the following more specific types\n",
      "  - plotly.graph_objs.scatter.Line\n",
      "  - plotly.graph_objs.layout.shape.Line\n",
      "  - etc.\n",
      "\n",
      "\n"
     ]
    },
    {
     "data": {
      "application/vnd.plotly.v1+json": {
       "config": {
        "linkText": "Export to plot.ly",
        "plotlyServerURL": "https://plot.ly",
        "showLink": false
       },
       "data": [
        {
         "hoverinfo": "none",
         "line": {
          "color": "#888",
          "width": 1
         },
         "mode": "lines",
         "type": "scatter",
         "x": [
          -21.685130247772506,
          9.300677017933207
         ],
         "y": [
          -0.6859453979243356,
          -4.4281673916917015
         ]
        },
        {
         "hoverinfo": "none",
         "line": {
          "color": "#888",
          "width": 1
         },
         "mode": "lines",
         "type": "scatter",
         "x": [
          -13.779285036744607,
          -0.7310990297918758
         ],
         "y": [
          5.898142850240584,
          -9.354058739445218
         ]
        },
        {
         "hoverinfo": "none",
         "line": {
          "color": "#888",
          "width": 1
         },
         "mode": "lines",
         "type": "scatter",
         "x": [
          0.1744592615811025,
          -14.738682194317086
         ],
         "y": [
          -1.1348961717523434,
          8.156340178082862
         ]
        },
        {
         "hoverinfo": "none",
         "line": {
          "color": "#888",
          "width": 1
         },
         "mode": "lines",
         "type": "scatter",
         "x": [
          9.34557240098908,
          12.169142095854337
         ],
         "y": [
          0.4313166163179522,
          16.40306729275234
         ]
        },
        {
         "hoverinfo": "none",
         "line": {
          "color": "#888",
          "width": 1
         },
         "mode": "lines",
         "type": "scatter",
         "x": [
          3.6326646588444107,
          1.905029217077987
         ],
         "y": [
          -1.4756471194383631,
          -7.099563953563344
         ]
        },
        {
         "hoverinfo": "none",
         "line": {
          "color": "#888",
          "width": 1
         },
         "mode": "lines",
         "type": "scatter",
         "x": [
          -16.2909189497966,
          -11.553292544980156
         ],
         "y": [
          5.645084946451373,
          3.2809011757388564
         ]
        },
        {
         "hoverinfo": "none",
         "line": {
          "color": "#888",
          "width": 1
         },
         "mode": "lines",
         "type": "scatter",
         "x": [
          -0.9472272877365316,
          3.6425205213278526
         ],
         "y": [
          -4.23980044061418,
          10.807510162810859
         ]
        },
        {
         "hoverinfo": "none",
         "line": {
          "color": "#888",
          "width": 1
         },
         "mode": "lines",
         "type": "scatter",
         "x": [
          15.679733889620024,
          -4.598675256467904
         ],
         "y": [
          3.3711792397441593,
          -10.356386865556448
         ]
        },
        {
         "hoverinfo": "none",
         "line": {
          "color": "#888",
          "width": 1
         },
         "mode": "lines",
         "type": "scatter",
         "x": [
          5.193585347708125,
          8.471068409496226
         ],
         "y": [
          -5.357081213311661,
          -8.45781832025705
         ]
        },
        {
         "hoverinfo": "none",
         "line": {
          "color": "#888",
          "width": 1
         },
         "mode": "lines",
         "type": "scatter",
         "x": [
          -13.344963661516292,
          5.558812741164841
         ],
         "y": [
          -12.918651326395585,
          -5.74234940606536
         ]
        },
        {
         "hoverinfo": "none",
         "line": {
          "color": "#888",
          "width": 1
         },
         "mode": "lines",
         "type": "scatter",
         "x": [
          11.426561691695863,
          -14.155822592040346
         ],
         "y": [
          -6.665940645406766,
          -4.314145598094317
         ]
        },
        {
         "hoverinfo": "none",
         "line": {
          "color": "#888",
          "width": 1
         },
         "mode": "lines",
         "type": "scatter",
         "x": [
          3.526484994931132,
          5.961434891198717
         ],
         "y": [
          -3.648910154028087,
          -10.171849435588875
         ]
        },
        {
         "hoverinfo": "none",
         "line": {
          "color": "#888",
          "width": 1
         },
         "mode": "lines",
         "type": "scatter",
         "x": [
          14.543780775965471,
          -9.255428238495067
         ],
         "y": [
          9.717896588068353,
          -15.222742746865027
         ]
        },
        {
         "hoverinfo": "none",
         "line": {
          "color": "#888",
          "width": 1
         },
         "mode": "lines",
         "type": "scatter",
         "x": [
          2.456982085072308,
          -3.012863303628775
         ],
         "y": [
          12.149540375815487,
          5.457380638474051
         ]
        },
        {
         "hoverinfo": "none",
         "line": {
          "color": "#888",
          "width": 1
         },
         "mode": "lines",
         "type": "scatter",
         "x": [
          -10.023324666324378,
          -18.597436559150292
         ],
         "y": [
          -9.028219495242066,
          -1.9297521300317286
         ]
        },
        {
         "hoverinfo": "none",
         "line": {
          "color": "#888",
          "width": 1
         },
         "mode": "lines",
         "type": "scatter",
         "x": [
          8.151228046517248,
          -0.5501248003318392
         ],
         "y": [
          8.171330607969175,
          -6.099994514669404
         ]
        },
        {
         "hoverinfo": "none",
         "line": {
          "color": "#888",
          "width": 1
         },
         "mode": "lines",
         "type": "scatter",
         "x": [
          -3.3935408679056804,
          7.3745511361259535
         ],
         "y": [
          0.4530057944101925,
          -6.175946114355426
         ]
        },
        {
         "hoverinfo": "none",
         "line": {
          "color": "#888",
          "width": 1
         },
         "mode": "lines",
         "type": "scatter",
         "x": [
          -3.3935408679056804,
          0.9240499081143705
         ],
         "y": [
          0.4530057944101925,
          -8.758021369285418
         ]
        },
        {
         "hoverinfo": "none",
         "line": {
          "color": "#888",
          "width": 1
         },
         "mode": "lines",
         "type": "scatter",
         "x": [
          -3.3935408679056804,
          4.1839798803505275
         ],
         "y": [
          0.4530057944101925,
          17.84419898340317
         ]
        },
        {
         "hoverinfo": "none",
         "line": {
          "color": "#888",
          "width": 1
         },
         "mode": "lines",
         "type": "scatter",
         "x": [
          3.5113503118250406,
          11.984411059777731
         ],
         "y": [
          -8.609841389471784,
          -6.671404271103451
         ]
        },
        {
         "hoverinfo": "none",
         "line": {
          "color": "#888",
          "width": 1
         },
         "mode": "lines",
         "type": "scatter",
         "x": [
          -3.805586079305235,
          11.168963247643495
         ],
         "y": [
          -13.23234660705393,
          -4.454509035314048
         ]
        },
        {
         "hoverinfo": "none",
         "line": {
          "color": "#888",
          "width": 1
         },
         "mode": "lines",
         "type": "scatter",
         "x": [
          3.874567535872222,
          18.039446034006833
         ],
         "y": [
          -2.1613086096570773,
          -3.400315534373285
         ]
        },
        {
         "hoverinfo": "none",
         "line": {
          "color": "#888",
          "width": 1
         },
         "mode": "lines",
         "type": "scatter",
         "x": [
          18.039446034006833,
          16.37121533437886
         ],
         "y": [
          -3.400315534373285,
          4.5642090288912325
         ]
        },
        {
         "hoverinfo": "none",
         "line": {
          "color": "#888",
          "width": 1
         },
         "mode": "lines",
         "type": "scatter",
         "x": [
          18.039446034006833,
          -20.732841239868268
         ],
         "y": [
          -3.400315534373285,
          -1.0474080450146692
         ]
        },
        {
         "hoverinfo": "none",
         "line": {
          "color": "#888",
          "width": 1
         },
         "mode": "lines",
         "type": "scatter",
         "x": [
          18.039446034006833,
          19.700169678245484
         ],
         "y": [
          -3.400315534373285,
          -4.905028246382784
         ]
        },
        {
         "hoverinfo": "none",
         "line": {
          "color": "#888",
          "width": 1
         },
         "mode": "lines",
         "type": "scatter",
         "x": [
          18.039446034006833,
          -13.71220926008101
         ],
         "y": [
          -3.400315534373285,
          4.206558928319928
         ]
        },
        {
         "hoverinfo": "none",
         "line": {
          "color": "#888",
          "width": 1
         },
         "mode": "lines",
         "type": "scatter",
         "x": [
          11.151124680643766,
          -8.024767679818128
         ],
         "y": [
          -13.6825214789269,
          17.084790753784958
         ]
        },
        {
         "hoverinfo": "none",
         "line": {
          "color": "#888",
          "width": 1
         },
         "mode": "lines",
         "type": "scatter",
         "x": [
          -8.024767679818128,
          -20.732841239868268
         ],
         "y": [
          17.084790753784958,
          -1.0474080450146692
         ]
        },
        {
         "hoverinfo": "none",
         "line": {
          "color": "#888",
          "width": 1
         },
         "mode": "lines",
         "type": "scatter",
         "x": [
          -8.024767679818128,
          6.506017688822156
         ],
         "y": [
          17.084790753784958,
          11.600810979599157
         ]
        },
        {
         "hoverinfo": "none",
         "line": {
          "color": "#888",
          "width": 1
         },
         "mode": "lines",
         "type": "scatter",
         "x": [
          9.66636791593676,
          -3.2967840477594486
         ],
         "y": [
          -8.80824708205615,
          1.9018136130483656
         ]
        },
        {
         "hoverinfo": "none",
         "line": {
          "color": "#888",
          "width": 1
         },
         "mode": "lines",
         "type": "scatter",
         "x": [
          -3.2967840477594486,
          16.37121533437886
         ],
         "y": [
          1.9018136130483656,
          4.5642090288912325
         ]
        },
        {
         "hoverinfo": "none",
         "line": {
          "color": "#888",
          "width": 1
         },
         "mode": "lines",
         "type": "scatter",
         "x": [
          -3.2967840477594486,
          -20.732841239868268
         ],
         "y": [
          1.9018136130483656,
          -1.0474080450146692
         ]
        },
        {
         "hoverinfo": "none",
         "line": {
          "color": "#888",
          "width": 1
         },
         "mode": "lines",
         "type": "scatter",
         "x": [
          5.516024154531266,
          -0.39185903556080803
         ],
         "y": [
          0.7118703654150784,
          4.0276332133048705
         ]
        },
        {
         "hoverinfo": "none",
         "line": {
          "color": "#888",
          "width": 1
         },
         "mode": "lines",
         "type": "scatter",
         "x": [
          -11.47986239159813,
          -12.721706941959015
         ],
         "y": [
          -15.90075079298978,
          1.1508258113554384
         ]
        },
        {
         "hoverinfo": "none",
         "line": {
          "color": "#888",
          "width": 1
         },
         "mode": "lines",
         "type": "scatter",
         "x": [
          5.22081540696476,
          2.065012590055837
         ],
         "y": [
          13.51231111624325,
          14.985464396381733
         ]
        },
        {
         "hoverinfo": "none",
         "line": {
          "color": "#888",
          "width": 1
         },
         "mode": "lines",
         "type": "scatter",
         "x": [
          11.567472904464944,
          -9.18692670717951
         ],
         "y": [
          15.178295242450204,
          4.6142890883636625
         ]
        },
        {
         "hoverinfo": "none",
         "line": {
          "color": "#888",
          "width": 1
         },
         "mode": "lines",
         "type": "scatter",
         "x": [
          -18.951217605529223,
          -2.502683280914341
         ],
         "y": [
          -7.163447814314773,
          9.234516775112127
         ]
        },
        {
         "hoverinfo": "none",
         "line": {
          "color": "#888",
          "width": 1
         },
         "mode": "lines",
         "type": "scatter",
         "x": [
          10.967112693445102,
          -0.09740145717931915
         ],
         "y": [
          7.432725423915559,
          11.784298111703642
         ]
        },
        {
         "hoverinfo": "none",
         "line": {
          "color": "#888",
          "width": 1
         },
         "mode": "lines",
         "type": "scatter",
         "x": [
          16.37121533437886,
          5.944710398807999
         ],
         "y": [
          4.5642090288912325,
          9.863217822536233
         ]
        },
        {
         "hoverinfo": "none",
         "line": {
          "color": "#888",
          "width": 1
         },
         "mode": "lines",
         "type": "scatter",
         "x": [
          16.37121533437886,
          5.809834854927542
         ],
         "y": [
          4.5642090288912325,
          -2.5161831614124224
         ]
        },
        {
         "hoverinfo": "none",
         "line": {
          "color": "#888",
          "width": 1
         },
         "mode": "lines",
         "type": "scatter",
         "x": [
          -13.178173033177604,
          17.776613455734516
         ],
         "y": [
          -4.076377105345899,
          4.17272970199667
         ]
        },
        {
         "hoverinfo": "none",
         "line": {
          "color": "#888",
          "width": 1
         },
         "mode": "lines",
         "type": "scatter",
         "x": [
          -13.178173033177604,
          -3.5135531960250606
         ],
         "y": [
          -4.076377105345899,
          7.972007310878966
         ]
        },
        {
         "hoverinfo": "none",
         "line": {
          "color": "#888",
          "width": 1
         },
         "mode": "lines",
         "type": "scatter",
         "x": [
          -13.178173033177604,
          -4.694346695097119
         ],
         "y": [
          -4.076377105345899,
          8.14583284462339
         ]
        },
        {
         "hoverinfo": "none",
         "line": {
          "color": "#888",
          "width": 1
         },
         "mode": "lines",
         "type": "scatter",
         "x": [
          2.8278482487173346,
          7.19937690534933
         ],
         "y": [
          8.384689052488795,
          13.503985974636855
         ]
        },
        {
         "hoverinfo": "none",
         "line": {
          "color": "#888",
          "width": 1
         },
         "mode": "lines",
         "type": "scatter",
         "x": [
          1.1803051824875905,
          -6.673984272320311
         ],
         "y": [
          -1.5407967981086699,
          3.199718922866082
         ]
        },
        {
         "hoverinfo": "none",
         "line": {
          "color": "#888",
          "width": 1
         },
         "mode": "lines",
         "type": "scatter",
         "x": [
          3.245419016363045,
          -22.71486164318251
         ],
         "y": [
          -12.52870629579672,
          -4.955632183833462
         ]
        },
        {
         "hoverinfo": "none",
         "line": {
          "color": "#888",
          "width": 1
         },
         "mode": "lines",
         "type": "scatter",
         "x": [
          13.468642328158804,
          8.322288078762966
         ],
         "y": [
          -5.719650511016646,
          -4.176909124267737
         ]
        },
        {
         "hoverinfo": "none",
         "line": {
          "color": "#888",
          "width": 1
         },
         "mode": "lines",
         "type": "scatter",
         "x": [
          13.468642328158804,
          -6.688995912133564
         ],
         "y": [
          -5.719650511016646,
          18.955088172045674
         ]
        },
        {
         "hoverinfo": "none",
         "line": {
          "color": "#888",
          "width": 1
         },
         "mode": "lines",
         "type": "scatter",
         "x": [
          -2.9781797698620087,
          4.504903988571338
         ],
         "y": [
          15.052798299724268,
          -7.550710153225033
         ]
        },
        {
         "hoverinfo": "none",
         "line": {
          "color": "#888",
          "width": 1
         },
         "mode": "lines",
         "type": "scatter",
         "x": [
          -20.732841239868268,
          8.999169553496952
         ],
         "y": [
          -1.0474080450146692,
          -3.480390889443736
         ]
        },
        {
         "hoverinfo": "none",
         "line": {
          "color": "#888",
          "width": 1
         },
         "mode": "lines",
         "type": "scatter",
         "x": [
          -9.859723344800482,
          0.8873083467420657
         ],
         "y": [
          26.858221313458696,
          11.407987040077082
         ]
        },
        {
         "hoverinfo": "none",
         "line": {
          "color": "#888",
          "width": 1
         },
         "mode": "lines",
         "type": "scatter",
         "x": [
          -9.859723344800482,
          -1.0092546248266046
         ],
         "y": [
          26.858221313458696,
          -17.61532057380435
         ]
        },
        {
         "hoverinfo": "none",
         "line": {
          "color": "#888",
          "width": 1
         },
         "mode": "lines",
         "type": "scatter",
         "x": [
          1.7784348782667374,
          -9.621154619797515
         ],
         "y": [
          3.999900146056794,
          1.5864636195993123
         ]
        },
        {
         "hoverinfo": "none",
         "line": {
          "color": "#888",
          "width": 1
         },
         "mode": "lines",
         "type": "scatter",
         "x": [
          -2.785720990040778,
          8.747867834949814
         ],
         "y": [
          -16.173057309565834,
          1.6685829197669007
         ]
        },
        {
         "hoverinfo": "none",
         "line": {
          "color": "#888",
          "width": 1
         },
         "mode": "lines",
         "type": "scatter",
         "x": [
          -15.020065478414555,
          6.57458804691434
         ],
         "y": [
          1.0409826731529632,
          -0.9897469032694755
         ]
        },
        {
         "hoverinfo": "none",
         "line": {
          "color": "#888",
          "width": 1
         },
         "mode": "lines",
         "type": "scatter",
         "x": [
          12.237350955307065,
          14.891709015251347
         ],
         "y": [
          -4.574772264241918,
          -10.183595391139018
         ]
        },
        {
         "hoverinfo": "none",
         "line": {
          "color": "#888",
          "width": 1
         },
         "mode": "lines",
         "type": "scatter",
         "x": [
          -6.562053857880881,
          -3.2600406008642446
         ],
         "y": [
          10.158124809531524,
          -23.30780361602595
         ]
        },
        {
         "hoverinfo": "none",
         "line": {
          "color": "#888",
          "width": 1
         },
         "mode": "lines",
         "type": "scatter",
         "x": [
          3.082936987629867,
          -12.709746886685396
         ],
         "y": [
          -3.594518893892209,
          8.62817930644236
         ]
        },
        {
         "hoverinfo": "none",
         "line": {
          "color": "#888",
          "width": 1
         },
         "mode": "lines",
         "type": "scatter",
         "x": [
          -12.709746886685396,
          10.496056414249706
         ],
         "y": [
          8.62817930644236,
          -7.211776281990944
         ]
        },
        {
         "hoverinfo": "none",
         "line": {
          "color": "#888",
          "width": 1
         },
         "mode": "lines",
         "type": "scatter",
         "x": [
          -12.709746886685396,
          2.02399811931425
         ],
         "y": [
          8.62817930644236,
          9.882457244365291
         ]
        },
        {
         "hoverinfo": "none",
         "line": {
          "color": "#888",
          "width": 1
         },
         "mode": "lines",
         "type": "scatter",
         "x": [
          -8.279929131297687,
          4.514845011807757
         ],
         "y": [
          -3.0050565514002106,
          9.68822074023078
         ]
        },
        {
         "hoverinfo": "none",
         "line": {
          "color": "#888",
          "width": 1
         },
         "mode": "lines",
         "type": "scatter",
         "x": [
          3.0811123097573514,
          20.8980612377534
         ],
         "y": [
          2.5579065381527895,
          -9.970530675171641
         ]
        },
        {
         "hoverinfo": "none",
         "line": {
          "color": "#888",
          "width": 1
         },
         "mode": "lines",
         "type": "scatter",
         "x": [
          -11.885272658157245,
          -2.132896519812111
         ],
         "y": [
          -0.6453810667322406,
          -8.718736768333478
         ]
        },
        {
         "hoverinfo": "none",
         "line": {
          "color": "#888",
          "width": 1
         },
         "mode": "lines",
         "type": "scatter",
         "x": [
          -3.4928083465762154,
          -6.661343718337529
         ],
         "y": [
          8.131048925494508,
          -11.383393382239538
         ]
        },
        {
         "hoverinfo": "none",
         "line": {
          "color": "#888",
          "width": 1
         },
         "mode": "lines",
         "type": "scatter",
         "x": [
          -8.864692910987703,
          8.72128423326687
         ],
         "y": [
          6.005633008011941,
          -16.330172475396054
         ]
        },
        {
         "hoverinfo": "none",
         "line": {
          "color": "#888",
          "width": 1
         },
         "mode": "lines",
         "type": "scatter",
         "x": [
          1.2384634992358048,
          2.5681603530114936
         ],
         "y": [
          13.398018425946969,
          -5.026339581688516
         ]
        },
        {
         "hoverinfo": "none",
         "line": {
          "color": "#888",
          "width": 1
         },
         "mode": "lines",
         "type": "scatter",
         "x": [
          -4.646293074311753,
          -17.90981810776813
         ],
         "y": [
          -12.622483635783698,
          -2.419647678153488
         ]
        },
        {
         "hoverinfo": "none",
         "line": {
          "color": "#888",
          "width": 1
         },
         "mode": "lines",
         "type": "scatter",
         "x": [
          3.0918310709142682,
          6.4305772057498265
         ],
         "y": [
          -7.629586755511121,
          26.055579693866203
         ]
        },
        {
         "hoverinfo": "none",
         "line": {
          "color": "#888",
          "width": 1
         },
         "mode": "lines",
         "type": "scatter",
         "x": [
          2.7468531312391784,
          18.534571069659375
         ],
         "y": [
          -16.079757643646648,
          10.483549553323712
         ]
        },
        {
         "hoverinfo": "none",
         "line": {
          "color": "#888",
          "width": 1
         },
         "mode": "lines",
         "type": "scatter",
         "x": [
          -5.579440638867048,
          -5.228390186355211
         ],
         "y": [
          -6.997906626361593,
          -8.481868379903865
         ]
        },
        {
         "hoverinfo": "none",
         "line": {
          "color": "#888",
          "width": 1
         },
         "mode": "lines",
         "type": "scatter",
         "x": [
          -12.440252625011263,
          -13.22191973190414
         ],
         "y": [
          17.952812357319456,
          -10.179959419150759
         ]
        },
        {
         "hoverinfo": "none",
         "line": {
          "color": "#888",
          "width": 1
         },
         "mode": "lines",
         "type": "scatter",
         "x": [
          -6.044115165319973,
          -3.618098014000431
         ],
         "y": [
          7.157454587183068,
          11.141845937116589
         ]
        },
        {
         "hoverinfo": "none",
         "line": {
          "color": "#888",
          "width": 1
         },
         "mode": "lines",
         "type": "scatter",
         "x": [
          -1.7459513624262262,
          7.2779902803010845
         ],
         "y": [
          7.829563438329052,
          12.35418444885524
         ]
        },
        {
         "hoverinfo": "none",
         "line": {
          "color": "#888",
          "width": 1
         },
         "mode": "lines",
         "type": "scatter",
         "x": [
          26.237577973787115,
          5.474464571390464
         ],
         "y": [
          2.909881597940766,
          7.786043677929105
         ]
        },
        {
         "hoverinfo": "none",
         "line": {
          "color": "#888",
          "width": 1
         },
         "mode": "lines",
         "type": "scatter",
         "x": [
          -1.1080382324175182,
          -12.573301221632212
         ],
         "y": [
          0.8719699025156507,
          -1.5791589740897536
         ]
        },
        {
         "hoverinfo": "none",
         "line": {
          "color": "#888",
          "width": 1
         },
         "mode": "lines",
         "type": "scatter",
         "x": [
          -6.659190714325534,
          -6.911217610923606
         ],
         "y": [
          -6.405663399532466,
          -7.317891922347521
         ]
        },
        {
         "hoverinfo": "none",
         "line": {
          "color": "#888",
          "width": 1
         },
         "mode": "lines",
         "type": "scatter",
         "x": [
          7.478506541610463,
          -2.9277509991008683
         ],
         "y": [
          -1.146178135927791,
          8.26275185949906
         ]
        },
        {
         "hoverinfo": "none",
         "line": {
          "color": "#888",
          "width": 1
         },
         "mode": "lines",
         "type": "scatter",
         "x": [
          9.517751681897689,
          -6.028844877752055
         ],
         "y": [
          0.6938698196890648,
          -4.613147712083613
         ]
        },
        {
         "hoverinfo": "none",
         "line": {
          "color": "#888",
          "width": 1
         },
         "mode": "lines",
         "type": "scatter",
         "x": [
          2.1962972633917124,
          0.4766763872010876
         ],
         "y": [
          -3.878863550834768,
          13.355376005709195
         ]
        },
        {
         "hoverinfo": "none",
         "line": {
          "color": "#888",
          "width": 1
         },
         "mode": "lines",
         "type": "scatter",
         "x": [
          -1.1245748922777967,
          -2.4698286658070874
         ],
         "y": [
          -4.122760603536778,
          -15.68479488095138
         ]
        },
        {
         "hoverinfo": "none",
         "line": {
          "color": "#888",
          "width": 1
         },
         "mode": "lines",
         "type": "scatter",
         "x": [
          7.906445978390093,
          15.848663132122384
         ],
         "y": [
          10.18091516518454,
          5.763408439317229
         ]
        },
        {
         "hoverinfo": "none",
         "line": {
          "color": "#888",
          "width": 1
         },
         "mode": "lines",
         "type": "scatter",
         "x": [
          -6.798745293841387,
          11.292038966140595
         ],
         "y": [
          7.816069983985551,
          -6.009669081731853
         ]
        },
        {
         "hoverinfo": "none",
         "line": {
          "color": "#888",
          "width": 1
         },
         "mode": "lines",
         "type": "scatter",
         "x": [
          -4.935220296657501,
          0.5838562569712057
         ],
         "y": [
          6.347106464148613,
          -11.434374736668877
         ]
        },
        {
         "hoverinfo": "none",
         "line": {
          "color": "#888",
          "width": 1
         },
         "mode": "lines",
         "type": "scatter",
         "x": [
          -23.490033010423772,
          3.4126312973743325
         ],
         "y": [
          -4.596519579249174,
          5.098267036330386
         ]
        },
        {
         "hoverinfo": "none",
         "line": {
          "color": "#888",
          "width": 1
         },
         "mode": "lines",
         "type": "scatter",
         "x": [
          19.415581330520897,
          -0.00946920170929982
         ],
         "y": [
          -12.512912908138157,
          13.858573657403532
         ]
        },
        {
         "hoverinfo": "none",
         "line": {
          "color": "#888",
          "width": 1
         },
         "mode": "lines",
         "type": "scatter",
         "x": [
          -11.146538905602153,
          0.2780317253524234
         ],
         "y": [
          32.624335685315195,
          -16.062907646482632
         ]
        },
        {
         "hoverinfo": "none",
         "line": {
          "color": "#888",
          "width": 1
         },
         "mode": "lines",
         "type": "scatter",
         "x": [
          -1.5879397681099936,
          1.3051535147829574
         ],
         "y": [
          11.266407505581267,
          -4.341662676191229
         ]
        },
        {
         "hoverinfo": "none",
         "line": {
          "color": "#888",
          "width": 1
         },
         "mode": "lines",
         "type": "scatter",
         "x": [
          -4.042893560824278,
          1.8481227620948604
         ],
         "y": [
          -4.3677686011319565,
          4.493434641552705
         ]
        },
        {
         "hoverinfo": "none",
         "line": {
          "color": "#888",
          "width": 1
         },
         "mode": "lines",
         "type": "scatter",
         "x": [
          -8.841117972299601,
          -4.37272252364004
         ],
         "y": [
          17.313993042525723,
          8.985449804203016
         ]
        },
        {
         "hoverinfo": "none",
         "line": {
          "color": "#888",
          "width": 1
         },
         "mode": "lines",
         "type": "scatter",
         "x": [
          -5.77884639176658,
          -12.024979840667353
         ],
         "y": [
          0.018370071781481912,
          12.49436249528953
         ]
        },
        {
         "hoverinfo": "none",
         "line": {
          "color": "#888",
          "width": 1
         },
         "mode": "lines",
         "type": "scatter",
         "x": [
          7.805945801437531,
          -4.332332855696264
         ],
         "y": [
          -18.35343859564061,
          -11.05957131049093
         ]
        },
        {
         "hoverinfo": "none",
         "line": {
          "color": "#888",
          "width": 1
         },
         "mode": "lines",
         "type": "scatter",
         "x": [
          13.00673053051726,
          -13.327637776822517
         ],
         "y": [
          12.993955812655022,
          2.6328561301301336
         ]
        },
        {
         "hoverinfo": "none",
         "line": {
          "color": "#888",
          "width": 1
         },
         "mode": "lines",
         "type": "scatter",
         "x": [
          9.233276842616828,
          -4.037672847704929
         ],
         "y": [
          -0.04503127734858854,
          -13.588272253210317
         ]
        },
        {
         "hoverinfo": "none",
         "line": {
          "color": "#888",
          "width": 1
         },
         "mode": "lines",
         "type": "scatter",
         "x": [
          9.233276842616828,
          7.569676368547872
         ],
         "y": [
          -0.04503127734858854,
          -7.9773274363505555
         ]
        },
        {
         "hoverinfo": "none",
         "line": {
          "color": "#888",
          "width": 1
         },
         "mode": "lines",
         "type": "scatter",
         "x": [
          -8.876060825469573,
          4.64490511861017
         ],
         "y": [
          -2.0571160366371135,
          9.12821752672829
         ]
        },
        {
         "hoverinfo": "none",
         "line": {
          "color": "#888",
          "width": 1
         },
         "mode": "lines",
         "type": "scatter",
         "x": [
          4.178013522028631,
          13.91917180336582
         ],
         "y": [
          1.2824642873686556,
          0.605350034871278
         ]
        },
        {
         "hoverinfo": "none",
         "line": {
          "color": "#888",
          "width": 1
         },
         "mode": "lines",
         "type": "scatter",
         "x": [
          -13.402566245591084,
          2.9601442605052695
         ],
         "y": [
          6.494046900763342,
          13.985401490110734
         ]
        },
        {
         "hoverinfo": "none",
         "line": {
          "color": "#888",
          "width": 1
         },
         "mode": "lines",
         "type": "scatter",
         "x": [
          5.362811521845362,
          2.2732880786406486
         ],
         "y": [
          -4.749946306421248,
          3.5913032868457013
         ]
        },
        {
         "hoverinfo": "none",
         "marker": {
          "color": "#888",
          "line": {
           "width": 2
          },
          "size": 10
         },
         "mode": "markers",
         "type": "scatter",
         "x": [
          -21.685130247772506
         ],
         "y": [
          -0.6859453979243356
         ]
        },
        {
         "hoverinfo": "none",
         "marker": {
          "color": "#888",
          "line": {
           "width": 2
          },
          "size": 10
         },
         "mode": "markers",
         "type": "scatter",
         "x": [
          9.300677017933207
         ],
         "y": [
          -4.4281673916917015
         ]
        },
        {
         "hoverinfo": "none",
         "marker": {
          "color": "#888",
          "line": {
           "width": 2
          },
          "size": 10
         },
         "mode": "markers",
         "type": "scatter",
         "x": [
          -13.779285036744607
         ],
         "y": [
          5.898142850240584
         ]
        },
        {
         "hoverinfo": "none",
         "marker": {
          "color": "#888",
          "line": {
           "width": 2
          },
          "size": 10
         },
         "mode": "markers",
         "type": "scatter",
         "x": [
          -0.7310990297918758
         ],
         "y": [
          -9.354058739445218
         ]
        },
        {
         "hoverinfo": "none",
         "marker": {
          "color": "#888",
          "line": {
           "width": 2
          },
          "size": 10
         },
         "mode": "markers",
         "type": "scatter",
         "x": [
          0.1744592615811025
         ],
         "y": [
          -1.1348961717523434
         ]
        },
        {
         "hoverinfo": "none",
         "marker": {
          "color": "#888",
          "line": {
           "width": 2
          },
          "size": 10
         },
         "mode": "markers",
         "type": "scatter",
         "x": [
          -14.738682194317086
         ],
         "y": [
          8.156340178082862
         ]
        },
        {
         "hoverinfo": "none",
         "marker": {
          "color": "#888",
          "line": {
           "width": 2
          },
          "size": 10
         },
         "mode": "markers",
         "type": "scatter",
         "x": [
          9.34557240098908
         ],
         "y": [
          0.4313166163179522
         ]
        },
        {
         "hoverinfo": "none",
         "marker": {
          "color": "#888",
          "line": {
           "width": 2
          },
          "size": 10
         },
         "mode": "markers",
         "type": "scatter",
         "x": [
          12.169142095854337
         ],
         "y": [
          16.40306729275234
         ]
        },
        {
         "hoverinfo": "none",
         "marker": {
          "color": "#888",
          "line": {
           "width": 2
          },
          "size": 10
         },
         "mode": "markers",
         "type": "scatter",
         "x": [
          3.6326646588444107
         ],
         "y": [
          -1.4756471194383631
         ]
        },
        {
         "hoverinfo": "none",
         "marker": {
          "color": "#888",
          "line": {
           "width": 2
          },
          "size": 10
         },
         "mode": "markers",
         "type": "scatter",
         "x": [
          1.905029217077987
         ],
         "y": [
          -7.099563953563344
         ]
        },
        {
         "hoverinfo": "none",
         "marker": {
          "color": "#888",
          "line": {
           "width": 2
          },
          "size": 10
         },
         "mode": "markers",
         "type": "scatter",
         "x": [
          -16.2909189497966
         ],
         "y": [
          5.645084946451373
         ]
        },
        {
         "hoverinfo": "none",
         "marker": {
          "color": "#888",
          "line": {
           "width": 2
          },
          "size": 10
         },
         "mode": "markers",
         "type": "scatter",
         "x": [
          -11.553292544980156
         ],
         "y": [
          3.2809011757388564
         ]
        },
        {
         "hoverinfo": "none",
         "marker": {
          "color": "#888",
          "line": {
           "width": 2
          },
          "size": 10
         },
         "mode": "markers",
         "type": "scatter",
         "x": [
          -0.9472272877365316
         ],
         "y": [
          -4.23980044061418
         ]
        },
        {
         "hoverinfo": "none",
         "marker": {
          "color": "#888",
          "line": {
           "width": 2
          },
          "size": 10
         },
         "mode": "markers",
         "type": "scatter",
         "x": [
          3.6425205213278526
         ],
         "y": [
          10.807510162810859
         ]
        },
        {
         "hoverinfo": "none",
         "marker": {
          "color": "#888",
          "line": {
           "width": 2
          },
          "size": 10
         },
         "mode": "markers",
         "type": "scatter",
         "x": [
          15.679733889620024
         ],
         "y": [
          3.3711792397441593
         ]
        },
        {
         "hoverinfo": "none",
         "marker": {
          "color": "#888",
          "line": {
           "width": 2
          },
          "size": 10
         },
         "mode": "markers",
         "type": "scatter",
         "x": [
          -4.598675256467904
         ],
         "y": [
          -10.356386865556448
         ]
        },
        {
         "hoverinfo": "none",
         "marker": {
          "color": "#888",
          "line": {
           "width": 2
          },
          "size": 10
         },
         "mode": "markers",
         "type": "scatter",
         "x": [
          5.193585347708125
         ],
         "y": [
          -5.357081213311661
         ]
        },
        {
         "hoverinfo": "none",
         "marker": {
          "color": "#888",
          "line": {
           "width": 2
          },
          "size": 10
         },
         "mode": "markers",
         "type": "scatter",
         "x": [
          8.471068409496226
         ],
         "y": [
          -8.45781832025705
         ]
        },
        {
         "hoverinfo": "none",
         "marker": {
          "color": "#888",
          "line": {
           "width": 2
          },
          "size": 10
         },
         "mode": "markers",
         "type": "scatter",
         "x": [
          -13.344963661516292
         ],
         "y": [
          -12.918651326395585
         ]
        },
        {
         "hoverinfo": "none",
         "marker": {
          "color": "#888",
          "line": {
           "width": 2
          },
          "size": 10
         },
         "mode": "markers",
         "type": "scatter",
         "x": [
          5.558812741164841
         ],
         "y": [
          -5.74234940606536
         ]
        },
        {
         "hoverinfo": "none",
         "marker": {
          "color": "#888",
          "line": {
           "width": 2
          },
          "size": 10
         },
         "mode": "markers",
         "type": "scatter",
         "x": [
          11.426561691695863
         ],
         "y": [
          -6.665940645406766
         ]
        },
        {
         "hoverinfo": "none",
         "marker": {
          "color": "#888",
          "line": {
           "width": 2
          },
          "size": 10
         },
         "mode": "markers",
         "type": "scatter",
         "x": [
          -14.155822592040346
         ],
         "y": [
          -4.314145598094317
         ]
        },
        {
         "hoverinfo": "none",
         "marker": {
          "color": "#888",
          "line": {
           "width": 2
          },
          "size": 10
         },
         "mode": "markers",
         "type": "scatter",
         "x": [
          3.526484994931132
         ],
         "y": [
          -3.648910154028087
         ]
        },
        {
         "hoverinfo": "none",
         "marker": {
          "color": "#888",
          "line": {
           "width": 2
          },
          "size": 10
         },
         "mode": "markers",
         "type": "scatter",
         "x": [
          5.961434891198717
         ],
         "y": [
          -10.171849435588875
         ]
        },
        {
         "hoverinfo": "none",
         "marker": {
          "color": "#888",
          "line": {
           "width": 2
          },
          "size": 10
         },
         "mode": "markers",
         "type": "scatter",
         "x": [
          14.543780775965471
         ],
         "y": [
          9.717896588068353
         ]
        },
        {
         "hoverinfo": "none",
         "marker": {
          "color": "#888",
          "line": {
           "width": 2
          },
          "size": 10
         },
         "mode": "markers",
         "type": "scatter",
         "x": [
          -9.255428238495067
         ],
         "y": [
          -15.222742746865027
         ]
        },
        {
         "hoverinfo": "none",
         "marker": {
          "color": "#888",
          "line": {
           "width": 2
          },
          "size": 10
         },
         "mode": "markers",
         "type": "scatter",
         "x": [
          2.456982085072308
         ],
         "y": [
          12.149540375815487
         ]
        },
        {
         "hoverinfo": "none",
         "marker": {
          "color": "#888",
          "line": {
           "width": 2
          },
          "size": 10
         },
         "mode": "markers",
         "type": "scatter",
         "x": [
          -3.012863303628775
         ],
         "y": [
          5.457380638474051
         ]
        },
        {
         "hoverinfo": "none",
         "marker": {
          "color": "#888",
          "line": {
           "width": 2
          },
          "size": 10
         },
         "mode": "markers",
         "type": "scatter",
         "x": [
          -10.023324666324378
         ],
         "y": [
          -9.028219495242066
         ]
        },
        {
         "hoverinfo": "none",
         "marker": {
          "color": "#888",
          "line": {
           "width": 2
          },
          "size": 10
         },
         "mode": "markers",
         "type": "scatter",
         "x": [
          -18.597436559150292
         ],
         "y": [
          -1.9297521300317286
         ]
        },
        {
         "hoverinfo": "none",
         "marker": {
          "color": "#888",
          "line": {
           "width": 2
          },
          "size": 10
         },
         "mode": "markers",
         "type": "scatter",
         "x": [
          8.151228046517248
         ],
         "y": [
          8.171330607969175
         ]
        },
        {
         "hoverinfo": "none",
         "marker": {
          "color": "#888",
          "line": {
           "width": 2
          },
          "size": 10
         },
         "mode": "markers",
         "type": "scatter",
         "x": [
          -0.5501248003318392
         ],
         "y": [
          -6.099994514669404
         ]
        },
        {
         "hoverinfo": "none",
         "marker": {
          "color": "#888",
          "line": {
           "width": 2
          },
          "size": 10
         },
         "mode": "markers",
         "type": "scatter",
         "x": [
          -3.3935408679056804
         ],
         "y": [
          0.4530057944101925
         ]
        },
        {
         "hoverinfo": "none",
         "marker": {
          "color": "#888",
          "line": {
           "width": 2
          },
          "size": 10
         },
         "mode": "markers",
         "type": "scatter",
         "x": [
          7.3745511361259535
         ],
         "y": [
          -6.175946114355426
         ]
        },
        {
         "hoverinfo": "none",
         "marker": {
          "color": "#888",
          "line": {
           "width": 2
          },
          "size": 10
         },
         "mode": "markers",
         "type": "scatter",
         "x": [
          0.9240499081143705
         ],
         "y": [
          -8.758021369285418
         ]
        },
        {
         "hoverinfo": "none",
         "marker": {
          "color": "#888",
          "line": {
           "width": 2
          },
          "size": 10
         },
         "mode": "markers",
         "type": "scatter",
         "x": [
          4.1839798803505275
         ],
         "y": [
          17.84419898340317
         ]
        },
        {
         "hoverinfo": "none",
         "marker": {
          "color": "#888",
          "line": {
           "width": 2
          },
          "size": 10
         },
         "mode": "markers",
         "type": "scatter",
         "x": [
          3.5113503118250406
         ],
         "y": [
          -8.609841389471784
         ]
        },
        {
         "hoverinfo": "none",
         "marker": {
          "color": "#888",
          "line": {
           "width": 2
          },
          "size": 10
         },
         "mode": "markers",
         "type": "scatter",
         "x": [
          11.984411059777731
         ],
         "y": [
          -6.671404271103451
         ]
        },
        {
         "hoverinfo": "none",
         "marker": {
          "color": "#888",
          "line": {
           "width": 2
          },
          "size": 10
         },
         "mode": "markers",
         "type": "scatter",
         "x": [
          -3.805586079305235
         ],
         "y": [
          -13.23234660705393
         ]
        },
        {
         "hoverinfo": "none",
         "marker": {
          "color": "#888",
          "line": {
           "width": 2
          },
          "size": 10
         },
         "mode": "markers",
         "type": "scatter",
         "x": [
          11.168963247643495
         ],
         "y": [
          -4.454509035314048
         ]
        },
        {
         "hoverinfo": "none",
         "marker": {
          "color": "#888",
          "line": {
           "width": 2
          },
          "size": 10
         },
         "mode": "markers",
         "type": "scatter",
         "x": [
          3.874567535872222
         ],
         "y": [
          -2.1613086096570773
         ]
        },
        {
         "hoverinfo": "none",
         "marker": {
          "color": "#888",
          "line": {
           "width": 2
          },
          "size": 10
         },
         "mode": "markers",
         "type": "scatter",
         "x": [
          18.039446034006833
         ],
         "y": [
          -3.400315534373285
         ]
        },
        {
         "hoverinfo": "none",
         "marker": {
          "color": "#888",
          "line": {
           "width": 2
          },
          "size": 10
         },
         "mode": "markers",
         "type": "scatter",
         "x": [
          11.151124680643766
         ],
         "y": [
          -13.6825214789269
         ]
        },
        {
         "hoverinfo": "none",
         "marker": {
          "color": "#888",
          "line": {
           "width": 2
          },
          "size": 10
         },
         "mode": "markers",
         "type": "scatter",
         "x": [
          -8.024767679818128
         ],
         "y": [
          17.084790753784958
         ]
        },
        {
         "hoverinfo": "none",
         "marker": {
          "color": "#888",
          "line": {
           "width": 2
          },
          "size": 10
         },
         "mode": "markers",
         "type": "scatter",
         "x": [
          9.66636791593676
         ],
         "y": [
          -8.80824708205615
         ]
        },
        {
         "hoverinfo": "none",
         "marker": {
          "color": "#888",
          "line": {
           "width": 2
          },
          "size": 10
         },
         "mode": "markers",
         "type": "scatter",
         "x": [
          -3.2967840477594486
         ],
         "y": [
          1.9018136130483656
         ]
        },
        {
         "hoverinfo": "none",
         "marker": {
          "color": "#888",
          "line": {
           "width": 2
          },
          "size": 10
         },
         "mode": "markers",
         "type": "scatter",
         "x": [
          5.516024154531266
         ],
         "y": [
          0.7118703654150784
         ]
        },
        {
         "hoverinfo": "none",
         "marker": {
          "color": "#888",
          "line": {
           "width": 2
          },
          "size": 10
         },
         "mode": "markers",
         "type": "scatter",
         "x": [
          -0.39185903556080803
         ],
         "y": [
          4.0276332133048705
         ]
        },
        {
         "hoverinfo": "none",
         "marker": {
          "color": "#888",
          "line": {
           "width": 2
          },
          "size": 10
         },
         "mode": "markers",
         "type": "scatter",
         "x": [
          -11.47986239159813
         ],
         "y": [
          -15.90075079298978
         ]
        },
        {
         "hoverinfo": "none",
         "marker": {
          "color": "#888",
          "line": {
           "width": 2
          },
          "size": 10
         },
         "mode": "markers",
         "type": "scatter",
         "x": [
          -12.721706941959015
         ],
         "y": [
          1.1508258113554384
         ]
        },
        {
         "hoverinfo": "none",
         "marker": {
          "color": "#888",
          "line": {
           "width": 2
          },
          "size": 10
         },
         "mode": "markers",
         "type": "scatter",
         "x": [
          5.22081540696476
         ],
         "y": [
          13.51231111624325
         ]
        },
        {
         "hoverinfo": "none",
         "marker": {
          "color": "#888",
          "line": {
           "width": 2
          },
          "size": 10
         },
         "mode": "markers",
         "type": "scatter",
         "x": [
          2.065012590055837
         ],
         "y": [
          14.985464396381733
         ]
        },
        {
         "hoverinfo": "none",
         "marker": {
          "color": "#888",
          "line": {
           "width": 2
          },
          "size": 10
         },
         "mode": "markers",
         "type": "scatter",
         "x": [
          11.567472904464944
         ],
         "y": [
          15.178295242450204
         ]
        },
        {
         "hoverinfo": "none",
         "marker": {
          "color": "#888",
          "line": {
           "width": 2
          },
          "size": 10
         },
         "mode": "markers",
         "type": "scatter",
         "x": [
          -9.18692670717951
         ],
         "y": [
          4.6142890883636625
         ]
        },
        {
         "hoverinfo": "none",
         "marker": {
          "color": "#888",
          "line": {
           "width": 2
          },
          "size": 10
         },
         "mode": "markers",
         "type": "scatter",
         "x": [
          -18.951217605529223
         ],
         "y": [
          -7.163447814314773
         ]
        },
        {
         "hoverinfo": "none",
         "marker": {
          "color": "#888",
          "line": {
           "width": 2
          },
          "size": 10
         },
         "mode": "markers",
         "type": "scatter",
         "x": [
          -2.502683280914341
         ],
         "y": [
          9.234516775112127
         ]
        },
        {
         "hoverinfo": "none",
         "marker": {
          "color": "#888",
          "line": {
           "width": 2
          },
          "size": 10
         },
         "mode": "markers",
         "type": "scatter",
         "x": [
          10.967112693445102
         ],
         "y": [
          7.432725423915559
         ]
        },
        {
         "hoverinfo": "none",
         "marker": {
          "color": "#888",
          "line": {
           "width": 2
          },
          "size": 10
         },
         "mode": "markers",
         "type": "scatter",
         "x": [
          -0.09740145717931915
         ],
         "y": [
          11.784298111703642
         ]
        },
        {
         "hoverinfo": "none",
         "marker": {
          "color": "#888",
          "line": {
           "width": 2
          },
          "size": 10
         },
         "mode": "markers",
         "type": "scatter",
         "x": [
          16.37121533437886
         ],
         "y": [
          4.5642090288912325
         ]
        },
        {
         "hoverinfo": "none",
         "marker": {
          "color": "#888",
          "line": {
           "width": 2
          },
          "size": 10
         },
         "mode": "markers",
         "type": "scatter",
         "x": [
          5.944710398807999
         ],
         "y": [
          9.863217822536233
         ]
        },
        {
         "hoverinfo": "none",
         "marker": {
          "color": "#888",
          "line": {
           "width": 2
          },
          "size": 10
         },
         "mode": "markers",
         "type": "scatter",
         "x": [
          5.809834854927542
         ],
         "y": [
          -2.5161831614124224
         ]
        },
        {
         "hoverinfo": "none",
         "marker": {
          "color": "#888",
          "line": {
           "width": 2
          },
          "size": 10
         },
         "mode": "markers",
         "type": "scatter",
         "x": [
          -13.178173033177604
         ],
         "y": [
          -4.076377105345899
         ]
        },
        {
         "hoverinfo": "none",
         "marker": {
          "color": "#888",
          "line": {
           "width": 2
          },
          "size": 10
         },
         "mode": "markers",
         "type": "scatter",
         "x": [
          17.776613455734516
         ],
         "y": [
          4.17272970199667
         ]
        },
        {
         "hoverinfo": "none",
         "marker": {
          "color": "#888",
          "line": {
           "width": 2
          },
          "size": 10
         },
         "mode": "markers",
         "type": "scatter",
         "x": [
          -3.5135531960250606
         ],
         "y": [
          7.972007310878966
         ]
        },
        {
         "hoverinfo": "none",
         "marker": {
          "color": "#888",
          "line": {
           "width": 2
          },
          "size": 10
         },
         "mode": "markers",
         "type": "scatter",
         "x": [
          -4.694346695097119
         ],
         "y": [
          8.14583284462339
         ]
        },
        {
         "hoverinfo": "none",
         "marker": {
          "color": "#888",
          "line": {
           "width": 2
          },
          "size": 10
         },
         "mode": "markers",
         "type": "scatter",
         "x": [
          2.8278482487173346
         ],
         "y": [
          8.384689052488795
         ]
        },
        {
         "hoverinfo": "none",
         "marker": {
          "color": "#888",
          "line": {
           "width": 2
          },
          "size": 10
         },
         "mode": "markers",
         "type": "scatter",
         "x": [
          7.19937690534933
         ],
         "y": [
          13.503985974636855
         ]
        },
        {
         "hoverinfo": "none",
         "marker": {
          "color": "#888",
          "line": {
           "width": 2
          },
          "size": 10
         },
         "mode": "markers",
         "type": "scatter",
         "x": [
          1.1803051824875905
         ],
         "y": [
          -1.5407967981086699
         ]
        },
        {
         "hoverinfo": "none",
         "marker": {
          "color": "#888",
          "line": {
           "width": 2
          },
          "size": 10
         },
         "mode": "markers",
         "type": "scatter",
         "x": [
          -6.673984272320311
         ],
         "y": [
          3.199718922866082
         ]
        },
        {
         "hoverinfo": "none",
         "marker": {
          "color": "#888",
          "line": {
           "width": 2
          },
          "size": 10
         },
         "mode": "markers",
         "type": "scatter",
         "x": [
          3.245419016363045
         ],
         "y": [
          -12.52870629579672
         ]
        },
        {
         "hoverinfo": "none",
         "marker": {
          "color": "#888",
          "line": {
           "width": 2
          },
          "size": 10
         },
         "mode": "markers",
         "type": "scatter",
         "x": [
          -22.71486164318251
         ],
         "y": [
          -4.955632183833462
         ]
        },
        {
         "hoverinfo": "none",
         "marker": {
          "color": "#888",
          "line": {
           "width": 2
          },
          "size": 10
         },
         "mode": "markers",
         "type": "scatter",
         "x": [
          13.468642328158804
         ],
         "y": [
          -5.719650511016646
         ]
        },
        {
         "hoverinfo": "none",
         "marker": {
          "color": "#888",
          "line": {
           "width": 2
          },
          "size": 10
         },
         "mode": "markers",
         "type": "scatter",
         "x": [
          8.322288078762966
         ],
         "y": [
          -4.176909124267737
         ]
        },
        {
         "hoverinfo": "none",
         "marker": {
          "color": "#888",
          "line": {
           "width": 2
          },
          "size": 10
         },
         "mode": "markers",
         "type": "scatter",
         "x": [
          -2.9781797698620087
         ],
         "y": [
          15.052798299724268
         ]
        },
        {
         "hoverinfo": "none",
         "marker": {
          "color": "#888",
          "line": {
           "width": 2
          },
          "size": 10
         },
         "mode": "markers",
         "type": "scatter",
         "x": [
          4.504903988571338
         ],
         "y": [
          -7.550710153225033
         ]
        },
        {
         "hoverinfo": "none",
         "marker": {
          "color": "#888",
          "line": {
           "width": 2
          },
          "size": 10
         },
         "mode": "markers",
         "type": "scatter",
         "x": [
          -20.732841239868268
         ],
         "y": [
          -1.0474080450146692
         ]
        },
        {
         "hoverinfo": "none",
         "marker": {
          "color": "#888",
          "line": {
           "width": 2
          },
          "size": 10
         },
         "mode": "markers",
         "type": "scatter",
         "x": [
          8.999169553496952
         ],
         "y": [
          -3.480390889443736
         ]
        },
        {
         "hoverinfo": "none",
         "marker": {
          "color": "#888",
          "line": {
           "width": 2
          },
          "size": 10
         },
         "mode": "markers",
         "type": "scatter",
         "x": [
          -9.859723344800482
         ],
         "y": [
          26.858221313458696
         ]
        },
        {
         "hoverinfo": "none",
         "marker": {
          "color": "#888",
          "line": {
           "width": 2
          },
          "size": 10
         },
         "mode": "markers",
         "type": "scatter",
         "x": [
          0.8873083467420657
         ],
         "y": [
          11.407987040077082
         ]
        },
        {
         "hoverinfo": "none",
         "marker": {
          "color": "#888",
          "line": {
           "width": 2
          },
          "size": 10
         },
         "mode": "markers",
         "type": "scatter",
         "x": [
          -1.0092546248266046
         ],
         "y": [
          -17.61532057380435
         ]
        },
        {
         "hoverinfo": "none",
         "marker": {
          "color": "#888",
          "line": {
           "width": 2
          },
          "size": 10
         },
         "mode": "markers",
         "type": "scatter",
         "x": [
          1.7784348782667374
         ],
         "y": [
          3.999900146056794
         ]
        },
        {
         "hoverinfo": "none",
         "marker": {
          "color": "#888",
          "line": {
           "width": 2
          },
          "size": 10
         },
         "mode": "markers",
         "type": "scatter",
         "x": [
          -9.621154619797515
         ],
         "y": [
          1.5864636195993123
         ]
        },
        {
         "hoverinfo": "none",
         "marker": {
          "color": "#888",
          "line": {
           "width": 2
          },
          "size": 10
         },
         "mode": "markers",
         "type": "scatter",
         "x": [
          -2.785720990040778
         ],
         "y": [
          -16.173057309565834
         ]
        },
        {
         "hoverinfo": "none",
         "marker": {
          "color": "#888",
          "line": {
           "width": 2
          },
          "size": 10
         },
         "mode": "markers",
         "type": "scatter",
         "x": [
          8.747867834949814
         ],
         "y": [
          1.6685829197669007
         ]
        },
        {
         "hoverinfo": "none",
         "marker": {
          "color": "#888",
          "line": {
           "width": 2
          },
          "size": 10
         },
         "mode": "markers",
         "type": "scatter",
         "x": [
          -15.020065478414555
         ],
         "y": [
          1.0409826731529632
         ]
        },
        {
         "hoverinfo": "none",
         "marker": {
          "color": "#888",
          "line": {
           "width": 2
          },
          "size": 10
         },
         "mode": "markers",
         "type": "scatter",
         "x": [
          6.57458804691434
         ],
         "y": [
          -0.9897469032694755
         ]
        },
        {
         "hoverinfo": "none",
         "marker": {
          "color": "#888",
          "line": {
           "width": 2
          },
          "size": 10
         },
         "mode": "markers",
         "type": "scatter",
         "x": [
          12.237350955307065
         ],
         "y": [
          -4.574772264241918
         ]
        },
        {
         "hoverinfo": "none",
         "marker": {
          "color": "#888",
          "line": {
           "width": 2
          },
          "size": 10
         },
         "mode": "markers",
         "type": "scatter",
         "x": [
          14.891709015251347
         ],
         "y": [
          -10.183595391139018
         ]
        },
        {
         "hoverinfo": "none",
         "marker": {
          "color": "#888",
          "line": {
           "width": 2
          },
          "size": 10
         },
         "mode": "markers",
         "type": "scatter",
         "x": [
          -6.688995912133564
         ],
         "y": [
          18.955088172045674
         ]
        },
        {
         "hoverinfo": "none",
         "marker": {
          "color": "#888",
          "line": {
           "width": 2
          },
          "size": 10
         },
         "mode": "markers",
         "type": "scatter",
         "x": [
          -6.562053857880881
         ],
         "y": [
          10.158124809531524
         ]
        },
        {
         "hoverinfo": "none",
         "marker": {
          "color": "#888",
          "line": {
           "width": 2
          },
          "size": 10
         },
         "mode": "markers",
         "type": "scatter",
         "x": [
          -3.2600406008642446
         ],
         "y": [
          -23.30780361602595
         ]
        },
        {
         "hoverinfo": "none",
         "marker": {
          "color": "#888",
          "line": {
           "width": 2
          },
          "size": 10
         },
         "mode": "markers",
         "type": "scatter",
         "x": [
          3.082936987629867
         ],
         "y": [
          -3.594518893892209
         ]
        },
        {
         "hoverinfo": "none",
         "marker": {
          "color": "#888",
          "line": {
           "width": 2
          },
          "size": 10
         },
         "mode": "markers",
         "type": "scatter",
         "x": [
          -12.709746886685396
         ],
         "y": [
          8.62817930644236
         ]
        },
        {
         "hoverinfo": "none",
         "marker": {
          "color": "#888",
          "line": {
           "width": 2
          },
          "size": 10
         },
         "mode": "markers",
         "type": "scatter",
         "x": [
          10.496056414249706
         ],
         "y": [
          -7.211776281990944
         ]
        },
        {
         "hoverinfo": "none",
         "marker": {
          "color": "#888",
          "line": {
           "width": 2
          },
          "size": 10
         },
         "mode": "markers",
         "type": "scatter",
         "x": [
          2.02399811931425
         ],
         "y": [
          9.882457244365291
         ]
        },
        {
         "hoverinfo": "none",
         "marker": {
          "color": "#888",
          "line": {
           "width": 2
          },
          "size": 10
         },
         "mode": "markers",
         "type": "scatter",
         "x": [
          -8.279929131297687
         ],
         "y": [
          -3.0050565514002106
         ]
        },
        {
         "hoverinfo": "none",
         "marker": {
          "color": "#888",
          "line": {
           "width": 2
          },
          "size": 10
         },
         "mode": "markers",
         "type": "scatter",
         "x": [
          4.514845011807757
         ],
         "y": [
          9.68822074023078
         ]
        },
        {
         "hoverinfo": "none",
         "marker": {
          "color": "#888",
          "line": {
           "width": 2
          },
          "size": 10
         },
         "mode": "markers",
         "type": "scatter",
         "x": [
          3.0811123097573514
         ],
         "y": [
          2.5579065381527895
         ]
        },
        {
         "hoverinfo": "none",
         "marker": {
          "color": "#888",
          "line": {
           "width": 2
          },
          "size": 10
         },
         "mode": "markers",
         "type": "scatter",
         "x": [
          20.8980612377534
         ],
         "y": [
          -9.970530675171641
         ]
        },
        {
         "hoverinfo": "none",
         "marker": {
          "color": "#888",
          "line": {
           "width": 2
          },
          "size": 10
         },
         "mode": "markers",
         "type": "scatter",
         "x": [
          -11.885272658157245
         ],
         "y": [
          -0.6453810667322406
         ]
        },
        {
         "hoverinfo": "none",
         "marker": {
          "color": "#888",
          "line": {
           "width": 2
          },
          "size": 10
         },
         "mode": "markers",
         "type": "scatter",
         "x": [
          -2.132896519812111
         ],
         "y": [
          -8.718736768333478
         ]
        },
        {
         "hoverinfo": "none",
         "marker": {
          "color": "#888",
          "line": {
           "width": 2
          },
          "size": 10
         },
         "mode": "markers",
         "type": "scatter",
         "x": [
          -3.4928083465762154
         ],
         "y": [
          8.131048925494508
         ]
        },
        {
         "hoverinfo": "none",
         "marker": {
          "color": "#888",
          "line": {
           "width": 2
          },
          "size": 10
         },
         "mode": "markers",
         "type": "scatter",
         "x": [
          -6.661343718337529
         ],
         "y": [
          -11.383393382239538
         ]
        },
        {
         "hoverinfo": "none",
         "marker": {
          "color": "#888",
          "line": {
           "width": 2
          },
          "size": 10
         },
         "mode": "markers",
         "type": "scatter",
         "x": [
          19.700169678245484
         ],
         "y": [
          -4.905028246382784
         ]
        },
        {
         "hoverinfo": "none",
         "marker": {
          "color": "#888",
          "line": {
           "width": 2
          },
          "size": 10
         },
         "mode": "markers",
         "type": "scatter",
         "x": [
          -8.864692910987703
         ],
         "y": [
          6.005633008011941
         ]
        },
        {
         "hoverinfo": "none",
         "marker": {
          "color": "#888",
          "line": {
           "width": 2
          },
          "size": 10
         },
         "mode": "markers",
         "type": "scatter",
         "x": [
          8.72128423326687
         ],
         "y": [
          -16.330172475396054
         ]
        },
        {
         "hoverinfo": "none",
         "marker": {
          "color": "#888",
          "line": {
           "width": 2
          },
          "size": 10
         },
         "mode": "markers",
         "type": "scatter",
         "x": [
          1.2384634992358048
         ],
         "y": [
          13.398018425946969
         ]
        },
        {
         "hoverinfo": "none",
         "marker": {
          "color": "#888",
          "line": {
           "width": 2
          },
          "size": 10
         },
         "mode": "markers",
         "type": "scatter",
         "x": [
          2.5681603530114936
         ],
         "y": [
          -5.026339581688516
         ]
        },
        {
         "hoverinfo": "none",
         "marker": {
          "color": "#888",
          "line": {
           "width": 2
          },
          "size": 10
         },
         "mode": "markers",
         "type": "scatter",
         "x": [
          -4.646293074311753
         ],
         "y": [
          -12.622483635783698
         ]
        },
        {
         "hoverinfo": "none",
         "marker": {
          "color": "#888",
          "line": {
           "width": 2
          },
          "size": 10
         },
         "mode": "markers",
         "type": "scatter",
         "x": [
          -17.90981810776813
         ],
         "y": [
          -2.419647678153488
         ]
        },
        {
         "hoverinfo": "none",
         "marker": {
          "color": "#888",
          "line": {
           "width": 2
          },
          "size": 10
         },
         "mode": "markers",
         "type": "scatter",
         "x": [
          3.0918310709142682
         ],
         "y": [
          -7.629586755511121
         ]
        },
        {
         "hoverinfo": "none",
         "marker": {
          "color": "#888",
          "line": {
           "width": 2
          },
          "size": 10
         },
         "mode": "markers",
         "type": "scatter",
         "x": [
          6.4305772057498265
         ],
         "y": [
          26.055579693866203
         ]
        },
        {
         "hoverinfo": "none",
         "marker": {
          "color": "#888",
          "line": {
           "width": 2
          },
          "size": 10
         },
         "mode": "markers",
         "type": "scatter",
         "x": [
          2.7468531312391784
         ],
         "y": [
          -16.079757643646648
         ]
        },
        {
         "hoverinfo": "none",
         "marker": {
          "color": "#888",
          "line": {
           "width": 2
          },
          "size": 10
         },
         "mode": "markers",
         "type": "scatter",
         "x": [
          18.534571069659375
         ],
         "y": [
          10.483549553323712
         ]
        },
        {
         "hoverinfo": "none",
         "marker": {
          "color": "#888",
          "line": {
           "width": 2
          },
          "size": 10
         },
         "mode": "markers",
         "type": "scatter",
         "x": [
          -13.71220926008101
         ],
         "y": [
          4.206558928319928
         ]
        },
        {
         "hoverinfo": "none",
         "marker": {
          "color": "#888",
          "line": {
           "width": 2
          },
          "size": 10
         },
         "mode": "markers",
         "type": "scatter",
         "x": [
          -5.579440638867048
         ],
         "y": [
          -6.997906626361593
         ]
        },
        {
         "hoverinfo": "none",
         "marker": {
          "color": "#888",
          "line": {
           "width": 2
          },
          "size": 10
         },
         "mode": "markers",
         "type": "scatter",
         "x": [
          -5.228390186355211
         ],
         "y": [
          -8.481868379903865
         ]
        },
        {
         "hoverinfo": "none",
         "marker": {
          "color": "#888",
          "line": {
           "width": 2
          },
          "size": 10
         },
         "mode": "markers",
         "type": "scatter",
         "x": [
          -12.440252625011263
         ],
         "y": [
          17.952812357319456
         ]
        },
        {
         "hoverinfo": "none",
         "marker": {
          "color": "#888",
          "line": {
           "width": 2
          },
          "size": 10
         },
         "mode": "markers",
         "type": "scatter",
         "x": [
          -13.22191973190414
         ],
         "y": [
          -10.179959419150759
         ]
        },
        {
         "hoverinfo": "none",
         "marker": {
          "color": "#888",
          "line": {
           "width": 2
          },
          "size": 10
         },
         "mode": "markers",
         "type": "scatter",
         "x": [
          -6.044115165319973
         ],
         "y": [
          7.157454587183068
         ]
        },
        {
         "hoverinfo": "none",
         "marker": {
          "color": "#888",
          "line": {
           "width": 2
          },
          "size": 10
         },
         "mode": "markers",
         "type": "scatter",
         "x": [
          -3.618098014000431
         ],
         "y": [
          11.141845937116589
         ]
        },
        {
         "hoverinfo": "none",
         "marker": {
          "color": "#888",
          "line": {
           "width": 2
          },
          "size": 10
         },
         "mode": "markers",
         "type": "scatter",
         "x": [
          -1.7459513624262262
         ],
         "y": [
          7.829563438329052
         ]
        },
        {
         "hoverinfo": "none",
         "marker": {
          "color": "#888",
          "line": {
           "width": 2
          },
          "size": 10
         },
         "mode": "markers",
         "type": "scatter",
         "x": [
          7.2779902803010845
         ],
         "y": [
          12.35418444885524
         ]
        },
        {
         "hoverinfo": "none",
         "marker": {
          "color": "#888",
          "line": {
           "width": 2
          },
          "size": 10
         },
         "mode": "markers",
         "type": "scatter",
         "x": [
          26.237577973787115
         ],
         "y": [
          2.909881597940766
         ]
        },
        {
         "hoverinfo": "none",
         "marker": {
          "color": "#888",
          "line": {
           "width": 2
          },
          "size": 10
         },
         "mode": "markers",
         "type": "scatter",
         "x": [
          5.474464571390464
         ],
         "y": [
          7.786043677929105
         ]
        },
        {
         "hoverinfo": "none",
         "marker": {
          "color": "#888",
          "line": {
           "width": 2
          },
          "size": 10
         },
         "mode": "markers",
         "type": "scatter",
         "x": [
          -1.1080382324175182
         ],
         "y": [
          0.8719699025156507
         ]
        },
        {
         "hoverinfo": "none",
         "marker": {
          "color": "#888",
          "line": {
           "width": 2
          },
          "size": 10
         },
         "mode": "markers",
         "type": "scatter",
         "x": [
          -12.573301221632212
         ],
         "y": [
          -1.5791589740897536
         ]
        },
        {
         "hoverinfo": "none",
         "marker": {
          "color": "#888",
          "line": {
           "width": 2
          },
          "size": 10
         },
         "mode": "markers",
         "type": "scatter",
         "x": [
          -6.659190714325534
         ],
         "y": [
          -6.405663399532466
         ]
        },
        {
         "hoverinfo": "none",
         "marker": {
          "color": "#888",
          "line": {
           "width": 2
          },
          "size": 10
         },
         "mode": "markers",
         "type": "scatter",
         "x": [
          -6.911217610923606
         ],
         "y": [
          -7.317891922347521
         ]
        },
        {
         "hoverinfo": "none",
         "marker": {
          "color": "#888",
          "line": {
           "width": 2
          },
          "size": 10
         },
         "mode": "markers",
         "type": "scatter",
         "x": [
          7.478506541610463
         ],
         "y": [
          -1.146178135927791
         ]
        },
        {
         "hoverinfo": "none",
         "marker": {
          "color": "#888",
          "line": {
           "width": 2
          },
          "size": 10
         },
         "mode": "markers",
         "type": "scatter",
         "x": [
          -2.9277509991008683
         ],
         "y": [
          8.26275185949906
         ]
        },
        {
         "hoverinfo": "none",
         "marker": {
          "color": "#888",
          "line": {
           "width": 2
          },
          "size": 10
         },
         "mode": "markers",
         "type": "scatter",
         "x": [
          6.506017688822156
         ],
         "y": [
          11.600810979599157
         ]
        },
        {
         "hoverinfo": "none",
         "marker": {
          "color": "#888",
          "line": {
           "width": 2
          },
          "size": 10
         },
         "mode": "markers",
         "type": "scatter",
         "x": [
          9.517751681897689
         ],
         "y": [
          0.6938698196890648
         ]
        },
        {
         "hoverinfo": "none",
         "marker": {
          "color": "#888",
          "line": {
           "width": 2
          },
          "size": 10
         },
         "mode": "markers",
         "type": "scatter",
         "x": [
          -6.028844877752055
         ],
         "y": [
          -4.613147712083613
         ]
        },
        {
         "hoverinfo": "none",
         "marker": {
          "color": "#888",
          "line": {
           "width": 2
          },
          "size": 10
         },
         "mode": "markers",
         "type": "scatter",
         "x": [
          2.1962972633917124
         ],
         "y": [
          -3.878863550834768
         ]
        },
        {
         "hoverinfo": "none",
         "marker": {
          "color": "#888",
          "line": {
           "width": 2
          },
          "size": 10
         },
         "mode": "markers",
         "type": "scatter",
         "x": [
          0.4766763872010876
         ],
         "y": [
          13.355376005709195
         ]
        },
        {
         "hoverinfo": "none",
         "marker": {
          "color": "#888",
          "line": {
           "width": 2
          },
          "size": 10
         },
         "mode": "markers",
         "type": "scatter",
         "x": [
          -1.1245748922777967
         ],
         "y": [
          -4.122760603536778
         ]
        },
        {
         "hoverinfo": "none",
         "marker": {
          "color": "#888",
          "line": {
           "width": 2
          },
          "size": 10
         },
         "mode": "markers",
         "type": "scatter",
         "x": [
          -2.4698286658070874
         ],
         "y": [
          -15.68479488095138
         ]
        },
        {
         "hoverinfo": "none",
         "marker": {
          "color": "#888",
          "line": {
           "width": 2
          },
          "size": 10
         },
         "mode": "markers",
         "type": "scatter",
         "x": [
          7.906445978390093
         ],
         "y": [
          10.18091516518454
         ]
        },
        {
         "hoverinfo": "none",
         "marker": {
          "color": "#888",
          "line": {
           "width": 2
          },
          "size": 10
         },
         "mode": "markers",
         "type": "scatter",
         "x": [
          15.848663132122384
         ],
         "y": [
          5.763408439317229
         ]
        },
        {
         "hoverinfo": "none",
         "marker": {
          "color": "#888",
          "line": {
           "width": 2
          },
          "size": 10
         },
         "mode": "markers",
         "type": "scatter",
         "x": [
          -6.798745293841387
         ],
         "y": [
          7.816069983985551
         ]
        },
        {
         "hoverinfo": "none",
         "marker": {
          "color": "#888",
          "line": {
           "width": 2
          },
          "size": 10
         },
         "mode": "markers",
         "type": "scatter",
         "x": [
          11.292038966140595
         ],
         "y": [
          -6.009669081731853
         ]
        },
        {
         "hoverinfo": "none",
         "marker": {
          "color": "#888",
          "line": {
           "width": 2
          },
          "size": 10
         },
         "mode": "markers",
         "type": "scatter",
         "x": [
          -4.935220296657501
         ],
         "y": [
          6.347106464148613
         ]
        },
        {
         "hoverinfo": "none",
         "marker": {
          "color": "#888",
          "line": {
           "width": 2
          },
          "size": 10
         },
         "mode": "markers",
         "type": "scatter",
         "x": [
          0.5838562569712057
         ],
         "y": [
          -11.434374736668877
         ]
        },
        {
         "hoverinfo": "none",
         "marker": {
          "color": "#888",
          "line": {
           "width": 2
          },
          "size": 10
         },
         "mode": "markers",
         "type": "scatter",
         "x": [
          -23.490033010423772
         ],
         "y": [
          -4.596519579249174
         ]
        },
        {
         "hoverinfo": "none",
         "marker": {
          "color": "#888",
          "line": {
           "width": 2
          },
          "size": 10
         },
         "mode": "markers",
         "type": "scatter",
         "x": [
          3.4126312973743325
         ],
         "y": [
          5.098267036330386
         ]
        },
        {
         "hoverinfo": "none",
         "marker": {
          "color": "#888",
          "line": {
           "width": 2
          },
          "size": 10
         },
         "mode": "markers",
         "type": "scatter",
         "x": [
          19.415581330520897
         ],
         "y": [
          -12.512912908138157
         ]
        },
        {
         "hoverinfo": "none",
         "marker": {
          "color": "#888",
          "line": {
           "width": 2
          },
          "size": 10
         },
         "mode": "markers",
         "type": "scatter",
         "x": [
          -0.00946920170929982
         ],
         "y": [
          13.858573657403532
         ]
        },
        {
         "hoverinfo": "none",
         "marker": {
          "color": "#888",
          "line": {
           "width": 2
          },
          "size": 10
         },
         "mode": "markers",
         "type": "scatter",
         "x": [
          -11.146538905602153
         ],
         "y": [
          32.624335685315195
         ]
        },
        {
         "hoverinfo": "none",
         "marker": {
          "color": "#888",
          "line": {
           "width": 2
          },
          "size": 10
         },
         "mode": "markers",
         "type": "scatter",
         "x": [
          0.2780317253524234
         ],
         "y": [
          -16.062907646482632
         ]
        },
        {
         "hoverinfo": "none",
         "marker": {
          "color": "#888",
          "line": {
           "width": 2
          },
          "size": 10
         },
         "mode": "markers",
         "type": "scatter",
         "x": [
          -1.5879397681099936
         ],
         "y": [
          11.266407505581267
         ]
        },
        {
         "hoverinfo": "none",
         "marker": {
          "color": "#888",
          "line": {
           "width": 2
          },
          "size": 10
         },
         "mode": "markers",
         "type": "scatter",
         "x": [
          1.3051535147829574
         ],
         "y": [
          -4.341662676191229
         ]
        },
        {
         "hoverinfo": "none",
         "marker": {
          "color": "#888",
          "line": {
           "width": 2
          },
          "size": 10
         },
         "mode": "markers",
         "type": "scatter",
         "x": [
          -4.042893560824278
         ],
         "y": [
          -4.3677686011319565
         ]
        },
        {
         "hoverinfo": "none",
         "marker": {
          "color": "#888",
          "line": {
           "width": 2
          },
          "size": 10
         },
         "mode": "markers",
         "type": "scatter",
         "x": [
          1.8481227620948604
         ],
         "y": [
          4.493434641552705
         ]
        },
        {
         "hoverinfo": "none",
         "marker": {
          "color": "#888",
          "line": {
           "width": 2
          },
          "size": 10
         },
         "mode": "markers",
         "type": "scatter",
         "x": [
          -8.841117972299601
         ],
         "y": [
          17.313993042525723
         ]
        },
        {
         "hoverinfo": "none",
         "marker": {
          "color": "#888",
          "line": {
           "width": 2
          },
          "size": 10
         },
         "mode": "markers",
         "type": "scatter",
         "x": [
          -4.37272252364004
         ],
         "y": [
          8.985449804203016
         ]
        },
        {
         "hoverinfo": "none",
         "marker": {
          "color": "#888",
          "line": {
           "width": 2
          },
          "size": 10
         },
         "mode": "markers",
         "type": "scatter",
         "x": [
          -5.77884639176658
         ],
         "y": [
          0.018370071781481912
         ]
        },
        {
         "hoverinfo": "none",
         "marker": {
          "color": "#888",
          "line": {
           "width": 2
          },
          "size": 10
         },
         "mode": "markers",
         "type": "scatter",
         "x": [
          -12.024979840667353
         ],
         "y": [
          12.49436249528953
         ]
        },
        {
         "hoverinfo": "none",
         "marker": {
          "color": "#888",
          "line": {
           "width": 2
          },
          "size": 10
         },
         "mode": "markers",
         "type": "scatter",
         "x": [
          7.805945801437531
         ],
         "y": [
          -18.35343859564061
         ]
        },
        {
         "hoverinfo": "none",
         "marker": {
          "color": "#888",
          "line": {
           "width": 2
          },
          "size": 10
         },
         "mode": "markers",
         "type": "scatter",
         "x": [
          -4.332332855696264
         ],
         "y": [
          -11.05957131049093
         ]
        },
        {
         "hoverinfo": "none",
         "marker": {
          "color": "#888",
          "line": {
           "width": 2
          },
          "size": 10
         },
         "mode": "markers",
         "type": "scatter",
         "x": [
          13.00673053051726
         ],
         "y": [
          12.993955812655022
         ]
        },
        {
         "hoverinfo": "none",
         "marker": {
          "color": "#888",
          "line": {
           "width": 2
          },
          "size": 10
         },
         "mode": "markers",
         "type": "scatter",
         "x": [
          -13.327637776822517
         ],
         "y": [
          2.6328561301301336
         ]
        },
        {
         "hoverinfo": "none",
         "marker": {
          "color": "#888",
          "line": {
           "width": 2
          },
          "size": 10
         },
         "mode": "markers",
         "type": "scatter",
         "x": [
          9.233276842616828
         ],
         "y": [
          -0.04503127734858854
         ]
        },
        {
         "hoverinfo": "none",
         "marker": {
          "color": "#888",
          "line": {
           "width": 2
          },
          "size": 10
         },
         "mode": "markers",
         "type": "scatter",
         "x": [
          -4.037672847704929
         ],
         "y": [
          -13.588272253210317
         ]
        },
        {
         "hoverinfo": "none",
         "marker": {
          "color": "#888",
          "line": {
           "width": 2
          },
          "size": 10
         },
         "mode": "markers",
         "type": "scatter",
         "x": [
          -8.876060825469573
         ],
         "y": [
          -2.0571160366371135
         ]
        },
        {
         "hoverinfo": "none",
         "marker": {
          "color": "#888",
          "line": {
           "width": 2
          },
          "size": 10
         },
         "mode": "markers",
         "type": "scatter",
         "x": [
          4.64490511861017
         ],
         "y": [
          9.12821752672829
         ]
        },
        {
         "hoverinfo": "none",
         "marker": {
          "color": "#888",
          "line": {
           "width": 2
          },
          "size": 10
         },
         "mode": "markers",
         "type": "scatter",
         "x": [
          4.178013522028631
         ],
         "y": [
          1.2824642873686556
         ]
        },
        {
         "hoverinfo": "none",
         "marker": {
          "color": "#888",
          "line": {
           "width": 2
          },
          "size": 10
         },
         "mode": "markers",
         "type": "scatter",
         "x": [
          13.91917180336582
         ],
         "y": [
          0.605350034871278
         ]
        },
        {
         "hoverinfo": "none",
         "marker": {
          "color": "#888",
          "line": {
           "width": 2
          },
          "size": 10
         },
         "mode": "markers",
         "type": "scatter",
         "x": [
          -13.402566245591084
         ],
         "y": [
          6.494046900763342
         ]
        },
        {
         "hoverinfo": "none",
         "marker": {
          "color": "#888",
          "line": {
           "width": 2
          },
          "size": 10
         },
         "mode": "markers",
         "type": "scatter",
         "x": [
          2.9601442605052695
         ],
         "y": [
          13.985401490110734
         ]
        },
        {
         "hoverinfo": "none",
         "marker": {
          "color": "#888",
          "line": {
           "width": 2
          },
          "size": 10
         },
         "mode": "markers",
         "type": "scatter",
         "x": [
          7.569676368547872
         ],
         "y": [
          -7.9773274363505555
         ]
        },
        {
         "hoverinfo": "none",
         "marker": {
          "color": "#888",
          "line": {
           "width": 2
          },
          "size": 10
         },
         "mode": "markers",
         "type": "scatter",
         "x": [
          5.362811521845362
         ],
         "y": [
          -4.749946306421248
         ]
        },
        {
         "hoverinfo": "none",
         "marker": {
          "color": "#888",
          "line": {
           "width": 2
          },
          "size": 10
         },
         "mode": "markers",
         "type": "scatter",
         "x": [
          2.2732880786406486
         ],
         "y": [
          3.5913032868457013
         ]
        }
       ],
       "layout": {
        "showlegend": false,
        "template": {
         "data": {
          "bar": [
           {
            "error_x": {
             "color": "#2a3f5f"
            },
            "error_y": {
             "color": "#2a3f5f"
            },
            "marker": {
             "line": {
              "color": "#E5ECF6",
              "width": 0.5
             },
             "pattern": {
              "fillmode": "overlay",
              "size": 10,
              "solidity": 0.2
             }
            },
            "type": "bar"
           }
          ],
          "barpolar": [
           {
            "marker": {
             "line": {
              "color": "#E5ECF6",
              "width": 0.5
             },
             "pattern": {
              "fillmode": "overlay",
              "size": 10,
              "solidity": 0.2
             }
            },
            "type": "barpolar"
           }
          ],
          "carpet": [
           {
            "aaxis": {
             "endlinecolor": "#2a3f5f",
             "gridcolor": "white",
             "linecolor": "white",
             "minorgridcolor": "white",
             "startlinecolor": "#2a3f5f"
            },
            "baxis": {
             "endlinecolor": "#2a3f5f",
             "gridcolor": "white",
             "linecolor": "white",
             "minorgridcolor": "white",
             "startlinecolor": "#2a3f5f"
            },
            "type": "carpet"
           }
          ],
          "choropleth": [
           {
            "colorbar": {
             "outlinewidth": 0,
             "ticks": ""
            },
            "type": "choropleth"
           }
          ],
          "contour": [
           {
            "colorbar": {
             "outlinewidth": 0,
             "ticks": ""
            },
            "colorscale": [
             [
              0,
              "#0d0887"
             ],
             [
              0.1111111111111111,
              "#46039f"
             ],
             [
              0.2222222222222222,
              "#7201a8"
             ],
             [
              0.3333333333333333,
              "#9c179e"
             ],
             [
              0.4444444444444444,
              "#bd3786"
             ],
             [
              0.5555555555555556,
              "#d8576b"
             ],
             [
              0.6666666666666666,
              "#ed7953"
             ],
             [
              0.7777777777777778,
              "#fb9f3a"
             ],
             [
              0.8888888888888888,
              "#fdca26"
             ],
             [
              1,
              "#f0f921"
             ]
            ],
            "type": "contour"
           }
          ],
          "contourcarpet": [
           {
            "colorbar": {
             "outlinewidth": 0,
             "ticks": ""
            },
            "type": "contourcarpet"
           }
          ],
          "heatmap": [
           {
            "colorbar": {
             "outlinewidth": 0,
             "ticks": ""
            },
            "colorscale": [
             [
              0,
              "#0d0887"
             ],
             [
              0.1111111111111111,
              "#46039f"
             ],
             [
              0.2222222222222222,
              "#7201a8"
             ],
             [
              0.3333333333333333,
              "#9c179e"
             ],
             [
              0.4444444444444444,
              "#bd3786"
             ],
             [
              0.5555555555555556,
              "#d8576b"
             ],
             [
              0.6666666666666666,
              "#ed7953"
             ],
             [
              0.7777777777777778,
              "#fb9f3a"
             ],
             [
              0.8888888888888888,
              "#fdca26"
             ],
             [
              1,
              "#f0f921"
             ]
            ],
            "type": "heatmap"
           }
          ],
          "heatmapgl": [
           {
            "colorbar": {
             "outlinewidth": 0,
             "ticks": ""
            },
            "colorscale": [
             [
              0,
              "#0d0887"
             ],
             [
              0.1111111111111111,
              "#46039f"
             ],
             [
              0.2222222222222222,
              "#7201a8"
             ],
             [
              0.3333333333333333,
              "#9c179e"
             ],
             [
              0.4444444444444444,
              "#bd3786"
             ],
             [
              0.5555555555555556,
              "#d8576b"
             ],
             [
              0.6666666666666666,
              "#ed7953"
             ],
             [
              0.7777777777777778,
              "#fb9f3a"
             ],
             [
              0.8888888888888888,
              "#fdca26"
             ],
             [
              1,
              "#f0f921"
             ]
            ],
            "type": "heatmapgl"
           }
          ],
          "histogram": [
           {
            "marker": {
             "pattern": {
              "fillmode": "overlay",
              "size": 10,
              "solidity": 0.2
             }
            },
            "type": "histogram"
           }
          ],
          "histogram2d": [
           {
            "colorbar": {
             "outlinewidth": 0,
             "ticks": ""
            },
            "colorscale": [
             [
              0,
              "#0d0887"
             ],
             [
              0.1111111111111111,
              "#46039f"
             ],
             [
              0.2222222222222222,
              "#7201a8"
             ],
             [
              0.3333333333333333,
              "#9c179e"
             ],
             [
              0.4444444444444444,
              "#bd3786"
             ],
             [
              0.5555555555555556,
              "#d8576b"
             ],
             [
              0.6666666666666666,
              "#ed7953"
             ],
             [
              0.7777777777777778,
              "#fb9f3a"
             ],
             [
              0.8888888888888888,
              "#fdca26"
             ],
             [
              1,
              "#f0f921"
             ]
            ],
            "type": "histogram2d"
           }
          ],
          "histogram2dcontour": [
           {
            "colorbar": {
             "outlinewidth": 0,
             "ticks": ""
            },
            "colorscale": [
             [
              0,
              "#0d0887"
             ],
             [
              0.1111111111111111,
              "#46039f"
             ],
             [
              0.2222222222222222,
              "#7201a8"
             ],
             [
              0.3333333333333333,
              "#9c179e"
             ],
             [
              0.4444444444444444,
              "#bd3786"
             ],
             [
              0.5555555555555556,
              "#d8576b"
             ],
             [
              0.6666666666666666,
              "#ed7953"
             ],
             [
              0.7777777777777778,
              "#fb9f3a"
             ],
             [
              0.8888888888888888,
              "#fdca26"
             ],
             [
              1,
              "#f0f921"
             ]
            ],
            "type": "histogram2dcontour"
           }
          ],
          "mesh3d": [
           {
            "colorbar": {
             "outlinewidth": 0,
             "ticks": ""
            },
            "type": "mesh3d"
           }
          ],
          "parcoords": [
           {
            "line": {
             "colorbar": {
              "outlinewidth": 0,
              "ticks": ""
             }
            },
            "type": "parcoords"
           }
          ],
          "pie": [
           {
            "automargin": true,
            "type": "pie"
           }
          ],
          "scatter": [
           {
            "fillpattern": {
             "fillmode": "overlay",
             "size": 10,
             "solidity": 0.2
            },
            "type": "scatter"
           }
          ],
          "scatter3d": [
           {
            "line": {
             "colorbar": {
              "outlinewidth": 0,
              "ticks": ""
             }
            },
            "marker": {
             "colorbar": {
              "outlinewidth": 0,
              "ticks": ""
             }
            },
            "type": "scatter3d"
           }
          ],
          "scattercarpet": [
           {
            "marker": {
             "colorbar": {
              "outlinewidth": 0,
              "ticks": ""
             }
            },
            "type": "scattercarpet"
           }
          ],
          "scattergeo": [
           {
            "marker": {
             "colorbar": {
              "outlinewidth": 0,
              "ticks": ""
             }
            },
            "type": "scattergeo"
           }
          ],
          "scattergl": [
           {
            "marker": {
             "colorbar": {
              "outlinewidth": 0,
              "ticks": ""
             }
            },
            "type": "scattergl"
           }
          ],
          "scattermapbox": [
           {
            "marker": {
             "colorbar": {
              "outlinewidth": 0,
              "ticks": ""
             }
            },
            "type": "scattermapbox"
           }
          ],
          "scatterpolar": [
           {
            "marker": {
             "colorbar": {
              "outlinewidth": 0,
              "ticks": ""
             }
            },
            "type": "scatterpolar"
           }
          ],
          "scatterpolargl": [
           {
            "marker": {
             "colorbar": {
              "outlinewidth": 0,
              "ticks": ""
             }
            },
            "type": "scatterpolargl"
           }
          ],
          "scatterternary": [
           {
            "marker": {
             "colorbar": {
              "outlinewidth": 0,
              "ticks": ""
             }
            },
            "type": "scatterternary"
           }
          ],
          "surface": [
           {
            "colorbar": {
             "outlinewidth": 0,
             "ticks": ""
            },
            "colorscale": [
             [
              0,
              "#0d0887"
             ],
             [
              0.1111111111111111,
              "#46039f"
             ],
             [
              0.2222222222222222,
              "#7201a8"
             ],
             [
              0.3333333333333333,
              "#9c179e"
             ],
             [
              0.4444444444444444,
              "#bd3786"
             ],
             [
              0.5555555555555556,
              "#d8576b"
             ],
             [
              0.6666666666666666,
              "#ed7953"
             ],
             [
              0.7777777777777778,
              "#fb9f3a"
             ],
             [
              0.8888888888888888,
              "#fdca26"
             ],
             [
              1,
              "#f0f921"
             ]
            ],
            "type": "surface"
           }
          ],
          "table": [
           {
            "cells": {
             "fill": {
              "color": "#EBF0F8"
             },
             "line": {
              "color": "white"
             }
            },
            "header": {
             "fill": {
              "color": "#C8D4E3"
             },
             "line": {
              "color": "white"
             }
            },
            "type": "table"
           }
          ]
         },
         "layout": {
          "annotationdefaults": {
           "arrowcolor": "#2a3f5f",
           "arrowhead": 0,
           "arrowwidth": 1
          },
          "autotypenumbers": "strict",
          "coloraxis": {
           "colorbar": {
            "outlinewidth": 0,
            "ticks": ""
           }
          },
          "colorscale": {
           "diverging": [
            [
             0,
             "#8e0152"
            ],
            [
             0.1,
             "#c51b7d"
            ],
            [
             0.2,
             "#de77ae"
            ],
            [
             0.3,
             "#f1b6da"
            ],
            [
             0.4,
             "#fde0ef"
            ],
            [
             0.5,
             "#f7f7f7"
            ],
            [
             0.6,
             "#e6f5d0"
            ],
            [
             0.7,
             "#b8e186"
            ],
            [
             0.8,
             "#7fbc41"
            ],
            [
             0.9,
             "#4d9221"
            ],
            [
             1,
             "#276419"
            ]
           ],
           "sequential": [
            [
             0,
             "#0d0887"
            ],
            [
             0.1111111111111111,
             "#46039f"
            ],
            [
             0.2222222222222222,
             "#7201a8"
            ],
            [
             0.3333333333333333,
             "#9c179e"
            ],
            [
             0.4444444444444444,
             "#bd3786"
            ],
            [
             0.5555555555555556,
             "#d8576b"
            ],
            [
             0.6666666666666666,
             "#ed7953"
            ],
            [
             0.7777777777777778,
             "#fb9f3a"
            ],
            [
             0.8888888888888888,
             "#fdca26"
            ],
            [
             1,
             "#f0f921"
            ]
           ],
           "sequentialminus": [
            [
             0,
             "#0d0887"
            ],
            [
             0.1111111111111111,
             "#46039f"
            ],
            [
             0.2222222222222222,
             "#7201a8"
            ],
            [
             0.3333333333333333,
             "#9c179e"
            ],
            [
             0.4444444444444444,
             "#bd3786"
            ],
            [
             0.5555555555555556,
             "#d8576b"
            ],
            [
             0.6666666666666666,
             "#ed7953"
            ],
            [
             0.7777777777777778,
             "#fb9f3a"
            ],
            [
             0.8888888888888888,
             "#fdca26"
            ],
            [
             1,
             "#f0f921"
            ]
           ]
          },
          "colorway": [
           "#636efa",
           "#EF553B",
           "#00cc96",
           "#ab63fa",
           "#FFA15A",
           "#19d3f3",
           "#FF6692",
           "#B6E880",
           "#FF97FF",
           "#FECB52"
          ],
          "font": {
           "color": "#2a3f5f"
          },
          "geo": {
           "bgcolor": "white",
           "lakecolor": "white",
           "landcolor": "#E5ECF6",
           "showlakes": true,
           "showland": true,
           "subunitcolor": "white"
          },
          "hoverlabel": {
           "align": "left"
          },
          "hovermode": "closest",
          "mapbox": {
           "style": "light"
          },
          "paper_bgcolor": "white",
          "plot_bgcolor": "#E5ECF6",
          "polar": {
           "angularaxis": {
            "gridcolor": "white",
            "linecolor": "white",
            "ticks": ""
           },
           "bgcolor": "#E5ECF6",
           "radialaxis": {
            "gridcolor": "white",
            "linecolor": "white",
            "ticks": ""
           }
          },
          "scene": {
           "xaxis": {
            "backgroundcolor": "#E5ECF6",
            "gridcolor": "white",
            "gridwidth": 2,
            "linecolor": "white",
            "showbackground": true,
            "ticks": "",
            "zerolinecolor": "white"
           },
           "yaxis": {
            "backgroundcolor": "#E5ECF6",
            "gridcolor": "white",
            "gridwidth": 2,
            "linecolor": "white",
            "showbackground": true,
            "ticks": "",
            "zerolinecolor": "white"
           },
           "zaxis": {
            "backgroundcolor": "#E5ECF6",
            "gridcolor": "white",
            "gridwidth": 2,
            "linecolor": "white",
            "showbackground": true,
            "ticks": "",
            "zerolinecolor": "white"
           }
          },
          "shapedefaults": {
           "line": {
            "color": "#2a3f5f"
           }
          },
          "ternary": {
           "aaxis": {
            "gridcolor": "white",
            "linecolor": "white",
            "ticks": ""
           },
           "baxis": {
            "gridcolor": "white",
            "linecolor": "white",
            "ticks": ""
           },
           "bgcolor": "#E5ECF6",
           "caxis": {
            "gridcolor": "white",
            "linecolor": "white",
            "ticks": ""
           }
          },
          "title": {
           "x": 0.05
          },
          "xaxis": {
           "automargin": true,
           "gridcolor": "white",
           "linecolor": "white",
           "ticks": "",
           "title": {
            "standoff": 15
           },
           "zerolinecolor": "white",
           "zerolinewidth": 2
          },
          "yaxis": {
           "automargin": true,
           "gridcolor": "white",
           "linecolor": "white",
           "ticks": "",
           "title": {
            "standoff": 15
           },
           "zerolinecolor": "white",
           "zerolinewidth": 2
          }
         }
        }
       }
      },
      "text/html": [
       "<div>                            <div id=\"9a6f2069-ddb0-4515-ac0e-bef927ca80b4\" class=\"plotly-graph-div\" style=\"height:525px; width:100%;\"></div>            <script type=\"text/javascript\">                require([\"plotly\"], function(Plotly) {                    window.PLOTLYENV=window.PLOTLYENV || {};                                    if (document.getElementById(\"9a6f2069-ddb0-4515-ac0e-bef927ca80b4\")) {                    Plotly.newPlot(                        \"9a6f2069-ddb0-4515-ac0e-bef927ca80b4\",                        [{\"hoverinfo\":\"none\",\"line\":{\"color\":\"#888\",\"width\":1},\"mode\":\"lines\",\"x\":[-21.685130247772506,9.300677017933207],\"y\":[-0.6859453979243356,-4.4281673916917015],\"type\":\"scatter\"},{\"hoverinfo\":\"none\",\"line\":{\"color\":\"#888\",\"width\":1},\"mode\":\"lines\",\"x\":[-13.779285036744607,-0.7310990297918758],\"y\":[5.898142850240584,-9.354058739445218],\"type\":\"scatter\"},{\"hoverinfo\":\"none\",\"line\":{\"color\":\"#888\",\"width\":1},\"mode\":\"lines\",\"x\":[0.1744592615811025,-14.738682194317086],\"y\":[-1.1348961717523434,8.156340178082862],\"type\":\"scatter\"},{\"hoverinfo\":\"none\",\"line\":{\"color\":\"#888\",\"width\":1},\"mode\":\"lines\",\"x\":[9.34557240098908,12.169142095854337],\"y\":[0.4313166163179522,16.40306729275234],\"type\":\"scatter\"},{\"hoverinfo\":\"none\",\"line\":{\"color\":\"#888\",\"width\":1},\"mode\":\"lines\",\"x\":[3.6326646588444107,1.905029217077987],\"y\":[-1.4756471194383631,-7.099563953563344],\"type\":\"scatter\"},{\"hoverinfo\":\"none\",\"line\":{\"color\":\"#888\",\"width\":1},\"mode\":\"lines\",\"x\":[-16.2909189497966,-11.553292544980156],\"y\":[5.645084946451373,3.2809011757388564],\"type\":\"scatter\"},{\"hoverinfo\":\"none\",\"line\":{\"color\":\"#888\",\"width\":1},\"mode\":\"lines\",\"x\":[-0.9472272877365316,3.6425205213278526],\"y\":[-4.23980044061418,10.807510162810859],\"type\":\"scatter\"},{\"hoverinfo\":\"none\",\"line\":{\"color\":\"#888\",\"width\":1},\"mode\":\"lines\",\"x\":[15.679733889620024,-4.598675256467904],\"y\":[3.3711792397441593,-10.356386865556448],\"type\":\"scatter\"},{\"hoverinfo\":\"none\",\"line\":{\"color\":\"#888\",\"width\":1},\"mode\":\"lines\",\"x\":[5.193585347708125,8.471068409496226],\"y\":[-5.357081213311661,-8.45781832025705],\"type\":\"scatter\"},{\"hoverinfo\":\"none\",\"line\":{\"color\":\"#888\",\"width\":1},\"mode\":\"lines\",\"x\":[-13.344963661516292,5.558812741164841],\"y\":[-12.918651326395585,-5.74234940606536],\"type\":\"scatter\"},{\"hoverinfo\":\"none\",\"line\":{\"color\":\"#888\",\"width\":1},\"mode\":\"lines\",\"x\":[11.426561691695863,-14.155822592040346],\"y\":[-6.665940645406766,-4.314145598094317],\"type\":\"scatter\"},{\"hoverinfo\":\"none\",\"line\":{\"color\":\"#888\",\"width\":1},\"mode\":\"lines\",\"x\":[3.526484994931132,5.961434891198717],\"y\":[-3.648910154028087,-10.171849435588875],\"type\":\"scatter\"},{\"hoverinfo\":\"none\",\"line\":{\"color\":\"#888\",\"width\":1},\"mode\":\"lines\",\"x\":[14.543780775965471,-9.255428238495067],\"y\":[9.717896588068353,-15.222742746865027],\"type\":\"scatter\"},{\"hoverinfo\":\"none\",\"line\":{\"color\":\"#888\",\"width\":1},\"mode\":\"lines\",\"x\":[2.456982085072308,-3.012863303628775],\"y\":[12.149540375815487,5.457380638474051],\"type\":\"scatter\"},{\"hoverinfo\":\"none\",\"line\":{\"color\":\"#888\",\"width\":1},\"mode\":\"lines\",\"x\":[-10.023324666324378,-18.597436559150292],\"y\":[-9.028219495242066,-1.9297521300317286],\"type\":\"scatter\"},{\"hoverinfo\":\"none\",\"line\":{\"color\":\"#888\",\"width\":1},\"mode\":\"lines\",\"x\":[8.151228046517248,-0.5501248003318392],\"y\":[8.171330607969175,-6.099994514669404],\"type\":\"scatter\"},{\"hoverinfo\":\"none\",\"line\":{\"color\":\"#888\",\"width\":1},\"mode\":\"lines\",\"x\":[-3.3935408679056804,7.3745511361259535],\"y\":[0.4530057944101925,-6.175946114355426],\"type\":\"scatter\"},{\"hoverinfo\":\"none\",\"line\":{\"color\":\"#888\",\"width\":1},\"mode\":\"lines\",\"x\":[-3.3935408679056804,0.9240499081143705],\"y\":[0.4530057944101925,-8.758021369285418],\"type\":\"scatter\"},{\"hoverinfo\":\"none\",\"line\":{\"color\":\"#888\",\"width\":1},\"mode\":\"lines\",\"x\":[-3.3935408679056804,4.1839798803505275],\"y\":[0.4530057944101925,17.84419898340317],\"type\":\"scatter\"},{\"hoverinfo\":\"none\",\"line\":{\"color\":\"#888\",\"width\":1},\"mode\":\"lines\",\"x\":[3.5113503118250406,11.984411059777731],\"y\":[-8.609841389471784,-6.671404271103451],\"type\":\"scatter\"},{\"hoverinfo\":\"none\",\"line\":{\"color\":\"#888\",\"width\":1},\"mode\":\"lines\",\"x\":[-3.805586079305235,11.168963247643495],\"y\":[-13.23234660705393,-4.454509035314048],\"type\":\"scatter\"},{\"hoverinfo\":\"none\",\"line\":{\"color\":\"#888\",\"width\":1},\"mode\":\"lines\",\"x\":[3.874567535872222,18.039446034006833],\"y\":[-2.1613086096570773,-3.400315534373285],\"type\":\"scatter\"},{\"hoverinfo\":\"none\",\"line\":{\"color\":\"#888\",\"width\":1},\"mode\":\"lines\",\"x\":[18.039446034006833,16.37121533437886],\"y\":[-3.400315534373285,4.5642090288912325],\"type\":\"scatter\"},{\"hoverinfo\":\"none\",\"line\":{\"color\":\"#888\",\"width\":1},\"mode\":\"lines\",\"x\":[18.039446034006833,-20.732841239868268],\"y\":[-3.400315534373285,-1.0474080450146692],\"type\":\"scatter\"},{\"hoverinfo\":\"none\",\"line\":{\"color\":\"#888\",\"width\":1},\"mode\":\"lines\",\"x\":[18.039446034006833,19.700169678245484],\"y\":[-3.400315534373285,-4.905028246382784],\"type\":\"scatter\"},{\"hoverinfo\":\"none\",\"line\":{\"color\":\"#888\",\"width\":1},\"mode\":\"lines\",\"x\":[18.039446034006833,-13.71220926008101],\"y\":[-3.400315534373285,4.206558928319928],\"type\":\"scatter\"},{\"hoverinfo\":\"none\",\"line\":{\"color\":\"#888\",\"width\":1},\"mode\":\"lines\",\"x\":[11.151124680643766,-8.024767679818128],\"y\":[-13.6825214789269,17.084790753784958],\"type\":\"scatter\"},{\"hoverinfo\":\"none\",\"line\":{\"color\":\"#888\",\"width\":1},\"mode\":\"lines\",\"x\":[-8.024767679818128,-20.732841239868268],\"y\":[17.084790753784958,-1.0474080450146692],\"type\":\"scatter\"},{\"hoverinfo\":\"none\",\"line\":{\"color\":\"#888\",\"width\":1},\"mode\":\"lines\",\"x\":[-8.024767679818128,6.506017688822156],\"y\":[17.084790753784958,11.600810979599157],\"type\":\"scatter\"},{\"hoverinfo\":\"none\",\"line\":{\"color\":\"#888\",\"width\":1},\"mode\":\"lines\",\"x\":[9.66636791593676,-3.2967840477594486],\"y\":[-8.80824708205615,1.9018136130483656],\"type\":\"scatter\"},{\"hoverinfo\":\"none\",\"line\":{\"color\":\"#888\",\"width\":1},\"mode\":\"lines\",\"x\":[-3.2967840477594486,16.37121533437886],\"y\":[1.9018136130483656,4.5642090288912325],\"type\":\"scatter\"},{\"hoverinfo\":\"none\",\"line\":{\"color\":\"#888\",\"width\":1},\"mode\":\"lines\",\"x\":[-3.2967840477594486,-20.732841239868268],\"y\":[1.9018136130483656,-1.0474080450146692],\"type\":\"scatter\"},{\"hoverinfo\":\"none\",\"line\":{\"color\":\"#888\",\"width\":1},\"mode\":\"lines\",\"x\":[5.516024154531266,-0.39185903556080803],\"y\":[0.7118703654150784,4.0276332133048705],\"type\":\"scatter\"},{\"hoverinfo\":\"none\",\"line\":{\"color\":\"#888\",\"width\":1},\"mode\":\"lines\",\"x\":[-11.47986239159813,-12.721706941959015],\"y\":[-15.90075079298978,1.1508258113554384],\"type\":\"scatter\"},{\"hoverinfo\":\"none\",\"line\":{\"color\":\"#888\",\"width\":1},\"mode\":\"lines\",\"x\":[5.22081540696476,2.065012590055837],\"y\":[13.51231111624325,14.985464396381733],\"type\":\"scatter\"},{\"hoverinfo\":\"none\",\"line\":{\"color\":\"#888\",\"width\":1},\"mode\":\"lines\",\"x\":[11.567472904464944,-9.18692670717951],\"y\":[15.178295242450204,4.6142890883636625],\"type\":\"scatter\"},{\"hoverinfo\":\"none\",\"line\":{\"color\":\"#888\",\"width\":1},\"mode\":\"lines\",\"x\":[-18.951217605529223,-2.502683280914341],\"y\":[-7.163447814314773,9.234516775112127],\"type\":\"scatter\"},{\"hoverinfo\":\"none\",\"line\":{\"color\":\"#888\",\"width\":1},\"mode\":\"lines\",\"x\":[10.967112693445102,-0.09740145717931915],\"y\":[7.432725423915559,11.784298111703642],\"type\":\"scatter\"},{\"hoverinfo\":\"none\",\"line\":{\"color\":\"#888\",\"width\":1},\"mode\":\"lines\",\"x\":[16.37121533437886,5.944710398807999],\"y\":[4.5642090288912325,9.863217822536233],\"type\":\"scatter\"},{\"hoverinfo\":\"none\",\"line\":{\"color\":\"#888\",\"width\":1},\"mode\":\"lines\",\"x\":[16.37121533437886,5.809834854927542],\"y\":[4.5642090288912325,-2.5161831614124224],\"type\":\"scatter\"},{\"hoverinfo\":\"none\",\"line\":{\"color\":\"#888\",\"width\":1},\"mode\":\"lines\",\"x\":[-13.178173033177604,17.776613455734516],\"y\":[-4.076377105345899,4.17272970199667],\"type\":\"scatter\"},{\"hoverinfo\":\"none\",\"line\":{\"color\":\"#888\",\"width\":1},\"mode\":\"lines\",\"x\":[-13.178173033177604,-3.5135531960250606],\"y\":[-4.076377105345899,7.972007310878966],\"type\":\"scatter\"},{\"hoverinfo\":\"none\",\"line\":{\"color\":\"#888\",\"width\":1},\"mode\":\"lines\",\"x\":[-13.178173033177604,-4.694346695097119],\"y\":[-4.076377105345899,8.14583284462339],\"type\":\"scatter\"},{\"hoverinfo\":\"none\",\"line\":{\"color\":\"#888\",\"width\":1},\"mode\":\"lines\",\"x\":[2.8278482487173346,7.19937690534933],\"y\":[8.384689052488795,13.503985974636855],\"type\":\"scatter\"},{\"hoverinfo\":\"none\",\"line\":{\"color\":\"#888\",\"width\":1},\"mode\":\"lines\",\"x\":[1.1803051824875905,-6.673984272320311],\"y\":[-1.5407967981086699,3.199718922866082],\"type\":\"scatter\"},{\"hoverinfo\":\"none\",\"line\":{\"color\":\"#888\",\"width\":1},\"mode\":\"lines\",\"x\":[3.245419016363045,-22.71486164318251],\"y\":[-12.52870629579672,-4.955632183833462],\"type\":\"scatter\"},{\"hoverinfo\":\"none\",\"line\":{\"color\":\"#888\",\"width\":1},\"mode\":\"lines\",\"x\":[13.468642328158804,8.322288078762966],\"y\":[-5.719650511016646,-4.176909124267737],\"type\":\"scatter\"},{\"hoverinfo\":\"none\",\"line\":{\"color\":\"#888\",\"width\":1},\"mode\":\"lines\",\"x\":[13.468642328158804,-6.688995912133564],\"y\":[-5.719650511016646,18.955088172045674],\"type\":\"scatter\"},{\"hoverinfo\":\"none\",\"line\":{\"color\":\"#888\",\"width\":1},\"mode\":\"lines\",\"x\":[-2.9781797698620087,4.504903988571338],\"y\":[15.052798299724268,-7.550710153225033],\"type\":\"scatter\"},{\"hoverinfo\":\"none\",\"line\":{\"color\":\"#888\",\"width\":1},\"mode\":\"lines\",\"x\":[-20.732841239868268,8.999169553496952],\"y\":[-1.0474080450146692,-3.480390889443736],\"type\":\"scatter\"},{\"hoverinfo\":\"none\",\"line\":{\"color\":\"#888\",\"width\":1},\"mode\":\"lines\",\"x\":[-9.859723344800482,0.8873083467420657],\"y\":[26.858221313458696,11.407987040077082],\"type\":\"scatter\"},{\"hoverinfo\":\"none\",\"line\":{\"color\":\"#888\",\"width\":1},\"mode\":\"lines\",\"x\":[-9.859723344800482,-1.0092546248266046],\"y\":[26.858221313458696,-17.61532057380435],\"type\":\"scatter\"},{\"hoverinfo\":\"none\",\"line\":{\"color\":\"#888\",\"width\":1},\"mode\":\"lines\",\"x\":[1.7784348782667374,-9.621154619797515],\"y\":[3.999900146056794,1.5864636195993123],\"type\":\"scatter\"},{\"hoverinfo\":\"none\",\"line\":{\"color\":\"#888\",\"width\":1},\"mode\":\"lines\",\"x\":[-2.785720990040778,8.747867834949814],\"y\":[-16.173057309565834,1.6685829197669007],\"type\":\"scatter\"},{\"hoverinfo\":\"none\",\"line\":{\"color\":\"#888\",\"width\":1},\"mode\":\"lines\",\"x\":[-15.020065478414555,6.57458804691434],\"y\":[1.0409826731529632,-0.9897469032694755],\"type\":\"scatter\"},{\"hoverinfo\":\"none\",\"line\":{\"color\":\"#888\",\"width\":1},\"mode\":\"lines\",\"x\":[12.237350955307065,14.891709015251347],\"y\":[-4.574772264241918,-10.183595391139018],\"type\":\"scatter\"},{\"hoverinfo\":\"none\",\"line\":{\"color\":\"#888\",\"width\":1},\"mode\":\"lines\",\"x\":[-6.562053857880881,-3.2600406008642446],\"y\":[10.158124809531524,-23.30780361602595],\"type\":\"scatter\"},{\"hoverinfo\":\"none\",\"line\":{\"color\":\"#888\",\"width\":1},\"mode\":\"lines\",\"x\":[3.082936987629867,-12.709746886685396],\"y\":[-3.594518893892209,8.62817930644236],\"type\":\"scatter\"},{\"hoverinfo\":\"none\",\"line\":{\"color\":\"#888\",\"width\":1},\"mode\":\"lines\",\"x\":[-12.709746886685396,10.496056414249706],\"y\":[8.62817930644236,-7.211776281990944],\"type\":\"scatter\"},{\"hoverinfo\":\"none\",\"line\":{\"color\":\"#888\",\"width\":1},\"mode\":\"lines\",\"x\":[-12.709746886685396,2.02399811931425],\"y\":[8.62817930644236,9.882457244365291],\"type\":\"scatter\"},{\"hoverinfo\":\"none\",\"line\":{\"color\":\"#888\",\"width\":1},\"mode\":\"lines\",\"x\":[-8.279929131297687,4.514845011807757],\"y\":[-3.0050565514002106,9.68822074023078],\"type\":\"scatter\"},{\"hoverinfo\":\"none\",\"line\":{\"color\":\"#888\",\"width\":1},\"mode\":\"lines\",\"x\":[3.0811123097573514,20.8980612377534],\"y\":[2.5579065381527895,-9.970530675171641],\"type\":\"scatter\"},{\"hoverinfo\":\"none\",\"line\":{\"color\":\"#888\",\"width\":1},\"mode\":\"lines\",\"x\":[-11.885272658157245,-2.132896519812111],\"y\":[-0.6453810667322406,-8.718736768333478],\"type\":\"scatter\"},{\"hoverinfo\":\"none\",\"line\":{\"color\":\"#888\",\"width\":1},\"mode\":\"lines\",\"x\":[-3.4928083465762154,-6.661343718337529],\"y\":[8.131048925494508,-11.383393382239538],\"type\":\"scatter\"},{\"hoverinfo\":\"none\",\"line\":{\"color\":\"#888\",\"width\":1},\"mode\":\"lines\",\"x\":[-8.864692910987703,8.72128423326687],\"y\":[6.005633008011941,-16.330172475396054],\"type\":\"scatter\"},{\"hoverinfo\":\"none\",\"line\":{\"color\":\"#888\",\"width\":1},\"mode\":\"lines\",\"x\":[1.2384634992358048,2.5681603530114936],\"y\":[13.398018425946969,-5.026339581688516],\"type\":\"scatter\"},{\"hoverinfo\":\"none\",\"line\":{\"color\":\"#888\",\"width\":1},\"mode\":\"lines\",\"x\":[-4.646293074311753,-17.90981810776813],\"y\":[-12.622483635783698,-2.419647678153488],\"type\":\"scatter\"},{\"hoverinfo\":\"none\",\"line\":{\"color\":\"#888\",\"width\":1},\"mode\":\"lines\",\"x\":[3.0918310709142682,6.4305772057498265],\"y\":[-7.629586755511121,26.055579693866203],\"type\":\"scatter\"},{\"hoverinfo\":\"none\",\"line\":{\"color\":\"#888\",\"width\":1},\"mode\":\"lines\",\"x\":[2.7468531312391784,18.534571069659375],\"y\":[-16.079757643646648,10.483549553323712],\"type\":\"scatter\"},{\"hoverinfo\":\"none\",\"line\":{\"color\":\"#888\",\"width\":1},\"mode\":\"lines\",\"x\":[-5.579440638867048,-5.228390186355211],\"y\":[-6.997906626361593,-8.481868379903865],\"type\":\"scatter\"},{\"hoverinfo\":\"none\",\"line\":{\"color\":\"#888\",\"width\":1},\"mode\":\"lines\",\"x\":[-12.440252625011263,-13.22191973190414],\"y\":[17.952812357319456,-10.179959419150759],\"type\":\"scatter\"},{\"hoverinfo\":\"none\",\"line\":{\"color\":\"#888\",\"width\":1},\"mode\":\"lines\",\"x\":[-6.044115165319973,-3.618098014000431],\"y\":[7.157454587183068,11.141845937116589],\"type\":\"scatter\"},{\"hoverinfo\":\"none\",\"line\":{\"color\":\"#888\",\"width\":1},\"mode\":\"lines\",\"x\":[-1.7459513624262262,7.2779902803010845],\"y\":[7.829563438329052,12.35418444885524],\"type\":\"scatter\"},{\"hoverinfo\":\"none\",\"line\":{\"color\":\"#888\",\"width\":1},\"mode\":\"lines\",\"x\":[26.237577973787115,5.474464571390464],\"y\":[2.909881597940766,7.786043677929105],\"type\":\"scatter\"},{\"hoverinfo\":\"none\",\"line\":{\"color\":\"#888\",\"width\":1},\"mode\":\"lines\",\"x\":[-1.1080382324175182,-12.573301221632212],\"y\":[0.8719699025156507,-1.5791589740897536],\"type\":\"scatter\"},{\"hoverinfo\":\"none\",\"line\":{\"color\":\"#888\",\"width\":1},\"mode\":\"lines\",\"x\":[-6.659190714325534,-6.911217610923606],\"y\":[-6.405663399532466,-7.317891922347521],\"type\":\"scatter\"},{\"hoverinfo\":\"none\",\"line\":{\"color\":\"#888\",\"width\":1},\"mode\":\"lines\",\"x\":[7.478506541610463,-2.9277509991008683],\"y\":[-1.146178135927791,8.26275185949906],\"type\":\"scatter\"},{\"hoverinfo\":\"none\",\"line\":{\"color\":\"#888\",\"width\":1},\"mode\":\"lines\",\"x\":[9.517751681897689,-6.028844877752055],\"y\":[0.6938698196890648,-4.613147712083613],\"type\":\"scatter\"},{\"hoverinfo\":\"none\",\"line\":{\"color\":\"#888\",\"width\":1},\"mode\":\"lines\",\"x\":[2.1962972633917124,0.4766763872010876],\"y\":[-3.878863550834768,13.355376005709195],\"type\":\"scatter\"},{\"hoverinfo\":\"none\",\"line\":{\"color\":\"#888\",\"width\":1},\"mode\":\"lines\",\"x\":[-1.1245748922777967,-2.4698286658070874],\"y\":[-4.122760603536778,-15.68479488095138],\"type\":\"scatter\"},{\"hoverinfo\":\"none\",\"line\":{\"color\":\"#888\",\"width\":1},\"mode\":\"lines\",\"x\":[7.906445978390093,15.848663132122384],\"y\":[10.18091516518454,5.763408439317229],\"type\":\"scatter\"},{\"hoverinfo\":\"none\",\"line\":{\"color\":\"#888\",\"width\":1},\"mode\":\"lines\",\"x\":[-6.798745293841387,11.292038966140595],\"y\":[7.816069983985551,-6.009669081731853],\"type\":\"scatter\"},{\"hoverinfo\":\"none\",\"line\":{\"color\":\"#888\",\"width\":1},\"mode\":\"lines\",\"x\":[-4.935220296657501,0.5838562569712057],\"y\":[6.347106464148613,-11.434374736668877],\"type\":\"scatter\"},{\"hoverinfo\":\"none\",\"line\":{\"color\":\"#888\",\"width\":1},\"mode\":\"lines\",\"x\":[-23.490033010423772,3.4126312973743325],\"y\":[-4.596519579249174,5.098267036330386],\"type\":\"scatter\"},{\"hoverinfo\":\"none\",\"line\":{\"color\":\"#888\",\"width\":1},\"mode\":\"lines\",\"x\":[19.415581330520897,-0.00946920170929982],\"y\":[-12.512912908138157,13.858573657403532],\"type\":\"scatter\"},{\"hoverinfo\":\"none\",\"line\":{\"color\":\"#888\",\"width\":1},\"mode\":\"lines\",\"x\":[-11.146538905602153,0.2780317253524234],\"y\":[32.624335685315195,-16.062907646482632],\"type\":\"scatter\"},{\"hoverinfo\":\"none\",\"line\":{\"color\":\"#888\",\"width\":1},\"mode\":\"lines\",\"x\":[-1.5879397681099936,1.3051535147829574],\"y\":[11.266407505581267,-4.341662676191229],\"type\":\"scatter\"},{\"hoverinfo\":\"none\",\"line\":{\"color\":\"#888\",\"width\":1},\"mode\":\"lines\",\"x\":[-4.042893560824278,1.8481227620948604],\"y\":[-4.3677686011319565,4.493434641552705],\"type\":\"scatter\"},{\"hoverinfo\":\"none\",\"line\":{\"color\":\"#888\",\"width\":1},\"mode\":\"lines\",\"x\":[-8.841117972299601,-4.37272252364004],\"y\":[17.313993042525723,8.985449804203016],\"type\":\"scatter\"},{\"hoverinfo\":\"none\",\"line\":{\"color\":\"#888\",\"width\":1},\"mode\":\"lines\",\"x\":[-5.77884639176658,-12.024979840667353],\"y\":[0.018370071781481912,12.49436249528953],\"type\":\"scatter\"},{\"hoverinfo\":\"none\",\"line\":{\"color\":\"#888\",\"width\":1},\"mode\":\"lines\",\"x\":[7.805945801437531,-4.332332855696264],\"y\":[-18.35343859564061,-11.05957131049093],\"type\":\"scatter\"},{\"hoverinfo\":\"none\",\"line\":{\"color\":\"#888\",\"width\":1},\"mode\":\"lines\",\"x\":[13.00673053051726,-13.327637776822517],\"y\":[12.993955812655022,2.6328561301301336],\"type\":\"scatter\"},{\"hoverinfo\":\"none\",\"line\":{\"color\":\"#888\",\"width\":1},\"mode\":\"lines\",\"x\":[9.233276842616828,-4.037672847704929],\"y\":[-0.04503127734858854,-13.588272253210317],\"type\":\"scatter\"},{\"hoverinfo\":\"none\",\"line\":{\"color\":\"#888\",\"width\":1},\"mode\":\"lines\",\"x\":[9.233276842616828,7.569676368547872],\"y\":[-0.04503127734858854,-7.9773274363505555],\"type\":\"scatter\"},{\"hoverinfo\":\"none\",\"line\":{\"color\":\"#888\",\"width\":1},\"mode\":\"lines\",\"x\":[-8.876060825469573,4.64490511861017],\"y\":[-2.0571160366371135,9.12821752672829],\"type\":\"scatter\"},{\"hoverinfo\":\"none\",\"line\":{\"color\":\"#888\",\"width\":1},\"mode\":\"lines\",\"x\":[4.178013522028631,13.91917180336582],\"y\":[1.2824642873686556,0.605350034871278],\"type\":\"scatter\"},{\"hoverinfo\":\"none\",\"line\":{\"color\":\"#888\",\"width\":1},\"mode\":\"lines\",\"x\":[-13.402566245591084,2.9601442605052695],\"y\":[6.494046900763342,13.985401490110734],\"type\":\"scatter\"},{\"hoverinfo\":\"none\",\"line\":{\"color\":\"#888\",\"width\":1},\"mode\":\"lines\",\"x\":[5.362811521845362,2.2732880786406486],\"y\":[-4.749946306421248,3.5913032868457013],\"type\":\"scatter\"},{\"hoverinfo\":\"none\",\"marker\":{\"color\":\"#888\",\"line\":{\"width\":2},\"size\":10},\"mode\":\"markers\",\"x\":[-21.685130247772506],\"y\":[-0.6859453979243356],\"type\":\"scatter\"},{\"hoverinfo\":\"none\",\"marker\":{\"color\":\"#888\",\"line\":{\"width\":2},\"size\":10},\"mode\":\"markers\",\"x\":[9.300677017933207],\"y\":[-4.4281673916917015],\"type\":\"scatter\"},{\"hoverinfo\":\"none\",\"marker\":{\"color\":\"#888\",\"line\":{\"width\":2},\"size\":10},\"mode\":\"markers\",\"x\":[-13.779285036744607],\"y\":[5.898142850240584],\"type\":\"scatter\"},{\"hoverinfo\":\"none\",\"marker\":{\"color\":\"#888\",\"line\":{\"width\":2},\"size\":10},\"mode\":\"markers\",\"x\":[-0.7310990297918758],\"y\":[-9.354058739445218],\"type\":\"scatter\"},{\"hoverinfo\":\"none\",\"marker\":{\"color\":\"#888\",\"line\":{\"width\":2},\"size\":10},\"mode\":\"markers\",\"x\":[0.1744592615811025],\"y\":[-1.1348961717523434],\"type\":\"scatter\"},{\"hoverinfo\":\"none\",\"marker\":{\"color\":\"#888\",\"line\":{\"width\":2},\"size\":10},\"mode\":\"markers\",\"x\":[-14.738682194317086],\"y\":[8.156340178082862],\"type\":\"scatter\"},{\"hoverinfo\":\"none\",\"marker\":{\"color\":\"#888\",\"line\":{\"width\":2},\"size\":10},\"mode\":\"markers\",\"x\":[9.34557240098908],\"y\":[0.4313166163179522],\"type\":\"scatter\"},{\"hoverinfo\":\"none\",\"marker\":{\"color\":\"#888\",\"line\":{\"width\":2},\"size\":10},\"mode\":\"markers\",\"x\":[12.169142095854337],\"y\":[16.40306729275234],\"type\":\"scatter\"},{\"hoverinfo\":\"none\",\"marker\":{\"color\":\"#888\",\"line\":{\"width\":2},\"size\":10},\"mode\":\"markers\",\"x\":[3.6326646588444107],\"y\":[-1.4756471194383631],\"type\":\"scatter\"},{\"hoverinfo\":\"none\",\"marker\":{\"color\":\"#888\",\"line\":{\"width\":2},\"size\":10},\"mode\":\"markers\",\"x\":[1.905029217077987],\"y\":[-7.099563953563344],\"type\":\"scatter\"},{\"hoverinfo\":\"none\",\"marker\":{\"color\":\"#888\",\"line\":{\"width\":2},\"size\":10},\"mode\":\"markers\",\"x\":[-16.2909189497966],\"y\":[5.645084946451373],\"type\":\"scatter\"},{\"hoverinfo\":\"none\",\"marker\":{\"color\":\"#888\",\"line\":{\"width\":2},\"size\":10},\"mode\":\"markers\",\"x\":[-11.553292544980156],\"y\":[3.2809011757388564],\"type\":\"scatter\"},{\"hoverinfo\":\"none\",\"marker\":{\"color\":\"#888\",\"line\":{\"width\":2},\"size\":10},\"mode\":\"markers\",\"x\":[-0.9472272877365316],\"y\":[-4.23980044061418],\"type\":\"scatter\"},{\"hoverinfo\":\"none\",\"marker\":{\"color\":\"#888\",\"line\":{\"width\":2},\"size\":10},\"mode\":\"markers\",\"x\":[3.6425205213278526],\"y\":[10.807510162810859],\"type\":\"scatter\"},{\"hoverinfo\":\"none\",\"marker\":{\"color\":\"#888\",\"line\":{\"width\":2},\"size\":10},\"mode\":\"markers\",\"x\":[15.679733889620024],\"y\":[3.3711792397441593],\"type\":\"scatter\"},{\"hoverinfo\":\"none\",\"marker\":{\"color\":\"#888\",\"line\":{\"width\":2},\"size\":10},\"mode\":\"markers\",\"x\":[-4.598675256467904],\"y\":[-10.356386865556448],\"type\":\"scatter\"},{\"hoverinfo\":\"none\",\"marker\":{\"color\":\"#888\",\"line\":{\"width\":2},\"size\":10},\"mode\":\"markers\",\"x\":[5.193585347708125],\"y\":[-5.357081213311661],\"type\":\"scatter\"},{\"hoverinfo\":\"none\",\"marker\":{\"color\":\"#888\",\"line\":{\"width\":2},\"size\":10},\"mode\":\"markers\",\"x\":[8.471068409496226],\"y\":[-8.45781832025705],\"type\":\"scatter\"},{\"hoverinfo\":\"none\",\"marker\":{\"color\":\"#888\",\"line\":{\"width\":2},\"size\":10},\"mode\":\"markers\",\"x\":[-13.344963661516292],\"y\":[-12.918651326395585],\"type\":\"scatter\"},{\"hoverinfo\":\"none\",\"marker\":{\"color\":\"#888\",\"line\":{\"width\":2},\"size\":10},\"mode\":\"markers\",\"x\":[5.558812741164841],\"y\":[-5.74234940606536],\"type\":\"scatter\"},{\"hoverinfo\":\"none\",\"marker\":{\"color\":\"#888\",\"line\":{\"width\":2},\"size\":10},\"mode\":\"markers\",\"x\":[11.426561691695863],\"y\":[-6.665940645406766],\"type\":\"scatter\"},{\"hoverinfo\":\"none\",\"marker\":{\"color\":\"#888\",\"line\":{\"width\":2},\"size\":10},\"mode\":\"markers\",\"x\":[-14.155822592040346],\"y\":[-4.314145598094317],\"type\":\"scatter\"},{\"hoverinfo\":\"none\",\"marker\":{\"color\":\"#888\",\"line\":{\"width\":2},\"size\":10},\"mode\":\"markers\",\"x\":[3.526484994931132],\"y\":[-3.648910154028087],\"type\":\"scatter\"},{\"hoverinfo\":\"none\",\"marker\":{\"color\":\"#888\",\"line\":{\"width\":2},\"size\":10},\"mode\":\"markers\",\"x\":[5.961434891198717],\"y\":[-10.171849435588875],\"type\":\"scatter\"},{\"hoverinfo\":\"none\",\"marker\":{\"color\":\"#888\",\"line\":{\"width\":2},\"size\":10},\"mode\":\"markers\",\"x\":[14.543780775965471],\"y\":[9.717896588068353],\"type\":\"scatter\"},{\"hoverinfo\":\"none\",\"marker\":{\"color\":\"#888\",\"line\":{\"width\":2},\"size\":10},\"mode\":\"markers\",\"x\":[-9.255428238495067],\"y\":[-15.222742746865027],\"type\":\"scatter\"},{\"hoverinfo\":\"none\",\"marker\":{\"color\":\"#888\",\"line\":{\"width\":2},\"size\":10},\"mode\":\"markers\",\"x\":[2.456982085072308],\"y\":[12.149540375815487],\"type\":\"scatter\"},{\"hoverinfo\":\"none\",\"marker\":{\"color\":\"#888\",\"line\":{\"width\":2},\"size\":10},\"mode\":\"markers\",\"x\":[-3.012863303628775],\"y\":[5.457380638474051],\"type\":\"scatter\"},{\"hoverinfo\":\"none\",\"marker\":{\"color\":\"#888\",\"line\":{\"width\":2},\"size\":10},\"mode\":\"markers\",\"x\":[-10.023324666324378],\"y\":[-9.028219495242066],\"type\":\"scatter\"},{\"hoverinfo\":\"none\",\"marker\":{\"color\":\"#888\",\"line\":{\"width\":2},\"size\":10},\"mode\":\"markers\",\"x\":[-18.597436559150292],\"y\":[-1.9297521300317286],\"type\":\"scatter\"},{\"hoverinfo\":\"none\",\"marker\":{\"color\":\"#888\",\"line\":{\"width\":2},\"size\":10},\"mode\":\"markers\",\"x\":[8.151228046517248],\"y\":[8.171330607969175],\"type\":\"scatter\"},{\"hoverinfo\":\"none\",\"marker\":{\"color\":\"#888\",\"line\":{\"width\":2},\"size\":10},\"mode\":\"markers\",\"x\":[-0.5501248003318392],\"y\":[-6.099994514669404],\"type\":\"scatter\"},{\"hoverinfo\":\"none\",\"marker\":{\"color\":\"#888\",\"line\":{\"width\":2},\"size\":10},\"mode\":\"markers\",\"x\":[-3.3935408679056804],\"y\":[0.4530057944101925],\"type\":\"scatter\"},{\"hoverinfo\":\"none\",\"marker\":{\"color\":\"#888\",\"line\":{\"width\":2},\"size\":10},\"mode\":\"markers\",\"x\":[7.3745511361259535],\"y\":[-6.175946114355426],\"type\":\"scatter\"},{\"hoverinfo\":\"none\",\"marker\":{\"color\":\"#888\",\"line\":{\"width\":2},\"size\":10},\"mode\":\"markers\",\"x\":[0.9240499081143705],\"y\":[-8.758021369285418],\"type\":\"scatter\"},{\"hoverinfo\":\"none\",\"marker\":{\"color\":\"#888\",\"line\":{\"width\":2},\"size\":10},\"mode\":\"markers\",\"x\":[4.1839798803505275],\"y\":[17.84419898340317],\"type\":\"scatter\"},{\"hoverinfo\":\"none\",\"marker\":{\"color\":\"#888\",\"line\":{\"width\":2},\"size\":10},\"mode\":\"markers\",\"x\":[3.5113503118250406],\"y\":[-8.609841389471784],\"type\":\"scatter\"},{\"hoverinfo\":\"none\",\"marker\":{\"color\":\"#888\",\"line\":{\"width\":2},\"size\":10},\"mode\":\"markers\",\"x\":[11.984411059777731],\"y\":[-6.671404271103451],\"type\":\"scatter\"},{\"hoverinfo\":\"none\",\"marker\":{\"color\":\"#888\",\"line\":{\"width\":2},\"size\":10},\"mode\":\"markers\",\"x\":[-3.805586079305235],\"y\":[-13.23234660705393],\"type\":\"scatter\"},{\"hoverinfo\":\"none\",\"marker\":{\"color\":\"#888\",\"line\":{\"width\":2},\"size\":10},\"mode\":\"markers\",\"x\":[11.168963247643495],\"y\":[-4.454509035314048],\"type\":\"scatter\"},{\"hoverinfo\":\"none\",\"marker\":{\"color\":\"#888\",\"line\":{\"width\":2},\"size\":10},\"mode\":\"markers\",\"x\":[3.874567535872222],\"y\":[-2.1613086096570773],\"type\":\"scatter\"},{\"hoverinfo\":\"none\",\"marker\":{\"color\":\"#888\",\"line\":{\"width\":2},\"size\":10},\"mode\":\"markers\",\"x\":[18.039446034006833],\"y\":[-3.400315534373285],\"type\":\"scatter\"},{\"hoverinfo\":\"none\",\"marker\":{\"color\":\"#888\",\"line\":{\"width\":2},\"size\":10},\"mode\":\"markers\",\"x\":[11.151124680643766],\"y\":[-13.6825214789269],\"type\":\"scatter\"},{\"hoverinfo\":\"none\",\"marker\":{\"color\":\"#888\",\"line\":{\"width\":2},\"size\":10},\"mode\":\"markers\",\"x\":[-8.024767679818128],\"y\":[17.084790753784958],\"type\":\"scatter\"},{\"hoverinfo\":\"none\",\"marker\":{\"color\":\"#888\",\"line\":{\"width\":2},\"size\":10},\"mode\":\"markers\",\"x\":[9.66636791593676],\"y\":[-8.80824708205615],\"type\":\"scatter\"},{\"hoverinfo\":\"none\",\"marker\":{\"color\":\"#888\",\"line\":{\"width\":2},\"size\":10},\"mode\":\"markers\",\"x\":[-3.2967840477594486],\"y\":[1.9018136130483656],\"type\":\"scatter\"},{\"hoverinfo\":\"none\",\"marker\":{\"color\":\"#888\",\"line\":{\"width\":2},\"size\":10},\"mode\":\"markers\",\"x\":[5.516024154531266],\"y\":[0.7118703654150784],\"type\":\"scatter\"},{\"hoverinfo\":\"none\",\"marker\":{\"color\":\"#888\",\"line\":{\"width\":2},\"size\":10},\"mode\":\"markers\",\"x\":[-0.39185903556080803],\"y\":[4.0276332133048705],\"type\":\"scatter\"},{\"hoverinfo\":\"none\",\"marker\":{\"color\":\"#888\",\"line\":{\"width\":2},\"size\":10},\"mode\":\"markers\",\"x\":[-11.47986239159813],\"y\":[-15.90075079298978],\"type\":\"scatter\"},{\"hoverinfo\":\"none\",\"marker\":{\"color\":\"#888\",\"line\":{\"width\":2},\"size\":10},\"mode\":\"markers\",\"x\":[-12.721706941959015],\"y\":[1.1508258113554384],\"type\":\"scatter\"},{\"hoverinfo\":\"none\",\"marker\":{\"color\":\"#888\",\"line\":{\"width\":2},\"size\":10},\"mode\":\"markers\",\"x\":[5.22081540696476],\"y\":[13.51231111624325],\"type\":\"scatter\"},{\"hoverinfo\":\"none\",\"marker\":{\"color\":\"#888\",\"line\":{\"width\":2},\"size\":10},\"mode\":\"markers\",\"x\":[2.065012590055837],\"y\":[14.985464396381733],\"type\":\"scatter\"},{\"hoverinfo\":\"none\",\"marker\":{\"color\":\"#888\",\"line\":{\"width\":2},\"size\":10},\"mode\":\"markers\",\"x\":[11.567472904464944],\"y\":[15.178295242450204],\"type\":\"scatter\"},{\"hoverinfo\":\"none\",\"marker\":{\"color\":\"#888\",\"line\":{\"width\":2},\"size\":10},\"mode\":\"markers\",\"x\":[-9.18692670717951],\"y\":[4.6142890883636625],\"type\":\"scatter\"},{\"hoverinfo\":\"none\",\"marker\":{\"color\":\"#888\",\"line\":{\"width\":2},\"size\":10},\"mode\":\"markers\",\"x\":[-18.951217605529223],\"y\":[-7.163447814314773],\"type\":\"scatter\"},{\"hoverinfo\":\"none\",\"marker\":{\"color\":\"#888\",\"line\":{\"width\":2},\"size\":10},\"mode\":\"markers\",\"x\":[-2.502683280914341],\"y\":[9.234516775112127],\"type\":\"scatter\"},{\"hoverinfo\":\"none\",\"marker\":{\"color\":\"#888\",\"line\":{\"width\":2},\"size\":10},\"mode\":\"markers\",\"x\":[10.967112693445102],\"y\":[7.432725423915559],\"type\":\"scatter\"},{\"hoverinfo\":\"none\",\"marker\":{\"color\":\"#888\",\"line\":{\"width\":2},\"size\":10},\"mode\":\"markers\",\"x\":[-0.09740145717931915],\"y\":[11.784298111703642],\"type\":\"scatter\"},{\"hoverinfo\":\"none\",\"marker\":{\"color\":\"#888\",\"line\":{\"width\":2},\"size\":10},\"mode\":\"markers\",\"x\":[16.37121533437886],\"y\":[4.5642090288912325],\"type\":\"scatter\"},{\"hoverinfo\":\"none\",\"marker\":{\"color\":\"#888\",\"line\":{\"width\":2},\"size\":10},\"mode\":\"markers\",\"x\":[5.944710398807999],\"y\":[9.863217822536233],\"type\":\"scatter\"},{\"hoverinfo\":\"none\",\"marker\":{\"color\":\"#888\",\"line\":{\"width\":2},\"size\":10},\"mode\":\"markers\",\"x\":[5.809834854927542],\"y\":[-2.5161831614124224],\"type\":\"scatter\"},{\"hoverinfo\":\"none\",\"marker\":{\"color\":\"#888\",\"line\":{\"width\":2},\"size\":10},\"mode\":\"markers\",\"x\":[-13.178173033177604],\"y\":[-4.076377105345899],\"type\":\"scatter\"},{\"hoverinfo\":\"none\",\"marker\":{\"color\":\"#888\",\"line\":{\"width\":2},\"size\":10},\"mode\":\"markers\",\"x\":[17.776613455734516],\"y\":[4.17272970199667],\"type\":\"scatter\"},{\"hoverinfo\":\"none\",\"marker\":{\"color\":\"#888\",\"line\":{\"width\":2},\"size\":10},\"mode\":\"markers\",\"x\":[-3.5135531960250606],\"y\":[7.972007310878966],\"type\":\"scatter\"},{\"hoverinfo\":\"none\",\"marker\":{\"color\":\"#888\",\"line\":{\"width\":2},\"size\":10},\"mode\":\"markers\",\"x\":[-4.694346695097119],\"y\":[8.14583284462339],\"type\":\"scatter\"},{\"hoverinfo\":\"none\",\"marker\":{\"color\":\"#888\",\"line\":{\"width\":2},\"size\":10},\"mode\":\"markers\",\"x\":[2.8278482487173346],\"y\":[8.384689052488795],\"type\":\"scatter\"},{\"hoverinfo\":\"none\",\"marker\":{\"color\":\"#888\",\"line\":{\"width\":2},\"size\":10},\"mode\":\"markers\",\"x\":[7.19937690534933],\"y\":[13.503985974636855],\"type\":\"scatter\"},{\"hoverinfo\":\"none\",\"marker\":{\"color\":\"#888\",\"line\":{\"width\":2},\"size\":10},\"mode\":\"markers\",\"x\":[1.1803051824875905],\"y\":[-1.5407967981086699],\"type\":\"scatter\"},{\"hoverinfo\":\"none\",\"marker\":{\"color\":\"#888\",\"line\":{\"width\":2},\"size\":10},\"mode\":\"markers\",\"x\":[-6.673984272320311],\"y\":[3.199718922866082],\"type\":\"scatter\"},{\"hoverinfo\":\"none\",\"marker\":{\"color\":\"#888\",\"line\":{\"width\":2},\"size\":10},\"mode\":\"markers\",\"x\":[3.245419016363045],\"y\":[-12.52870629579672],\"type\":\"scatter\"},{\"hoverinfo\":\"none\",\"marker\":{\"color\":\"#888\",\"line\":{\"width\":2},\"size\":10},\"mode\":\"markers\",\"x\":[-22.71486164318251],\"y\":[-4.955632183833462],\"type\":\"scatter\"},{\"hoverinfo\":\"none\",\"marker\":{\"color\":\"#888\",\"line\":{\"width\":2},\"size\":10},\"mode\":\"markers\",\"x\":[13.468642328158804],\"y\":[-5.719650511016646],\"type\":\"scatter\"},{\"hoverinfo\":\"none\",\"marker\":{\"color\":\"#888\",\"line\":{\"width\":2},\"size\":10},\"mode\":\"markers\",\"x\":[8.322288078762966],\"y\":[-4.176909124267737],\"type\":\"scatter\"},{\"hoverinfo\":\"none\",\"marker\":{\"color\":\"#888\",\"line\":{\"width\":2},\"size\":10},\"mode\":\"markers\",\"x\":[-2.9781797698620087],\"y\":[15.052798299724268],\"type\":\"scatter\"},{\"hoverinfo\":\"none\",\"marker\":{\"color\":\"#888\",\"line\":{\"width\":2},\"size\":10},\"mode\":\"markers\",\"x\":[4.504903988571338],\"y\":[-7.550710153225033],\"type\":\"scatter\"},{\"hoverinfo\":\"none\",\"marker\":{\"color\":\"#888\",\"line\":{\"width\":2},\"size\":10},\"mode\":\"markers\",\"x\":[-20.732841239868268],\"y\":[-1.0474080450146692],\"type\":\"scatter\"},{\"hoverinfo\":\"none\",\"marker\":{\"color\":\"#888\",\"line\":{\"width\":2},\"size\":10},\"mode\":\"markers\",\"x\":[8.999169553496952],\"y\":[-3.480390889443736],\"type\":\"scatter\"},{\"hoverinfo\":\"none\",\"marker\":{\"color\":\"#888\",\"line\":{\"width\":2},\"size\":10},\"mode\":\"markers\",\"x\":[-9.859723344800482],\"y\":[26.858221313458696],\"type\":\"scatter\"},{\"hoverinfo\":\"none\",\"marker\":{\"color\":\"#888\",\"line\":{\"width\":2},\"size\":10},\"mode\":\"markers\",\"x\":[0.8873083467420657],\"y\":[11.407987040077082],\"type\":\"scatter\"},{\"hoverinfo\":\"none\",\"marker\":{\"color\":\"#888\",\"line\":{\"width\":2},\"size\":10},\"mode\":\"markers\",\"x\":[-1.0092546248266046],\"y\":[-17.61532057380435],\"type\":\"scatter\"},{\"hoverinfo\":\"none\",\"marker\":{\"color\":\"#888\",\"line\":{\"width\":2},\"size\":10},\"mode\":\"markers\",\"x\":[1.7784348782667374],\"y\":[3.999900146056794],\"type\":\"scatter\"},{\"hoverinfo\":\"none\",\"marker\":{\"color\":\"#888\",\"line\":{\"width\":2},\"size\":10},\"mode\":\"markers\",\"x\":[-9.621154619797515],\"y\":[1.5864636195993123],\"type\":\"scatter\"},{\"hoverinfo\":\"none\",\"marker\":{\"color\":\"#888\",\"line\":{\"width\":2},\"size\":10},\"mode\":\"markers\",\"x\":[-2.785720990040778],\"y\":[-16.173057309565834],\"type\":\"scatter\"},{\"hoverinfo\":\"none\",\"marker\":{\"color\":\"#888\",\"line\":{\"width\":2},\"size\":10},\"mode\":\"markers\",\"x\":[8.747867834949814],\"y\":[1.6685829197669007],\"type\":\"scatter\"},{\"hoverinfo\":\"none\",\"marker\":{\"color\":\"#888\",\"line\":{\"width\":2},\"size\":10},\"mode\":\"markers\",\"x\":[-15.020065478414555],\"y\":[1.0409826731529632],\"type\":\"scatter\"},{\"hoverinfo\":\"none\",\"marker\":{\"color\":\"#888\",\"line\":{\"width\":2},\"size\":10},\"mode\":\"markers\",\"x\":[6.57458804691434],\"y\":[-0.9897469032694755],\"type\":\"scatter\"},{\"hoverinfo\":\"none\",\"marker\":{\"color\":\"#888\",\"line\":{\"width\":2},\"size\":10},\"mode\":\"markers\",\"x\":[12.237350955307065],\"y\":[-4.574772264241918],\"type\":\"scatter\"},{\"hoverinfo\":\"none\",\"marker\":{\"color\":\"#888\",\"line\":{\"width\":2},\"size\":10},\"mode\":\"markers\",\"x\":[14.891709015251347],\"y\":[-10.183595391139018],\"type\":\"scatter\"},{\"hoverinfo\":\"none\",\"marker\":{\"color\":\"#888\",\"line\":{\"width\":2},\"size\":10},\"mode\":\"markers\",\"x\":[-6.688995912133564],\"y\":[18.955088172045674],\"type\":\"scatter\"},{\"hoverinfo\":\"none\",\"marker\":{\"color\":\"#888\",\"line\":{\"width\":2},\"size\":10},\"mode\":\"markers\",\"x\":[-6.562053857880881],\"y\":[10.158124809531524],\"type\":\"scatter\"},{\"hoverinfo\":\"none\",\"marker\":{\"color\":\"#888\",\"line\":{\"width\":2},\"size\":10},\"mode\":\"markers\",\"x\":[-3.2600406008642446],\"y\":[-23.30780361602595],\"type\":\"scatter\"},{\"hoverinfo\":\"none\",\"marker\":{\"color\":\"#888\",\"line\":{\"width\":2},\"size\":10},\"mode\":\"markers\",\"x\":[3.082936987629867],\"y\":[-3.594518893892209],\"type\":\"scatter\"},{\"hoverinfo\":\"none\",\"marker\":{\"color\":\"#888\",\"line\":{\"width\":2},\"size\":10},\"mode\":\"markers\",\"x\":[-12.709746886685396],\"y\":[8.62817930644236],\"type\":\"scatter\"},{\"hoverinfo\":\"none\",\"marker\":{\"color\":\"#888\",\"line\":{\"width\":2},\"size\":10},\"mode\":\"markers\",\"x\":[10.496056414249706],\"y\":[-7.211776281990944],\"type\":\"scatter\"},{\"hoverinfo\":\"none\",\"marker\":{\"color\":\"#888\",\"line\":{\"width\":2},\"size\":10},\"mode\":\"markers\",\"x\":[2.02399811931425],\"y\":[9.882457244365291],\"type\":\"scatter\"},{\"hoverinfo\":\"none\",\"marker\":{\"color\":\"#888\",\"line\":{\"width\":2},\"size\":10},\"mode\":\"markers\",\"x\":[-8.279929131297687],\"y\":[-3.0050565514002106],\"type\":\"scatter\"},{\"hoverinfo\":\"none\",\"marker\":{\"color\":\"#888\",\"line\":{\"width\":2},\"size\":10},\"mode\":\"markers\",\"x\":[4.514845011807757],\"y\":[9.68822074023078],\"type\":\"scatter\"},{\"hoverinfo\":\"none\",\"marker\":{\"color\":\"#888\",\"line\":{\"width\":2},\"size\":10},\"mode\":\"markers\",\"x\":[3.0811123097573514],\"y\":[2.5579065381527895],\"type\":\"scatter\"},{\"hoverinfo\":\"none\",\"marker\":{\"color\":\"#888\",\"line\":{\"width\":2},\"size\":10},\"mode\":\"markers\",\"x\":[20.8980612377534],\"y\":[-9.970530675171641],\"type\":\"scatter\"},{\"hoverinfo\":\"none\",\"marker\":{\"color\":\"#888\",\"line\":{\"width\":2},\"size\":10},\"mode\":\"markers\",\"x\":[-11.885272658157245],\"y\":[-0.6453810667322406],\"type\":\"scatter\"},{\"hoverinfo\":\"none\",\"marker\":{\"color\":\"#888\",\"line\":{\"width\":2},\"size\":10},\"mode\":\"markers\",\"x\":[-2.132896519812111],\"y\":[-8.718736768333478],\"type\":\"scatter\"},{\"hoverinfo\":\"none\",\"marker\":{\"color\":\"#888\",\"line\":{\"width\":2},\"size\":10},\"mode\":\"markers\",\"x\":[-3.4928083465762154],\"y\":[8.131048925494508],\"type\":\"scatter\"},{\"hoverinfo\":\"none\",\"marker\":{\"color\":\"#888\",\"line\":{\"width\":2},\"size\":10},\"mode\":\"markers\",\"x\":[-6.661343718337529],\"y\":[-11.383393382239538],\"type\":\"scatter\"},{\"hoverinfo\":\"none\",\"marker\":{\"color\":\"#888\",\"line\":{\"width\":2},\"size\":10},\"mode\":\"markers\",\"x\":[19.700169678245484],\"y\":[-4.905028246382784],\"type\":\"scatter\"},{\"hoverinfo\":\"none\",\"marker\":{\"color\":\"#888\",\"line\":{\"width\":2},\"size\":10},\"mode\":\"markers\",\"x\":[-8.864692910987703],\"y\":[6.005633008011941],\"type\":\"scatter\"},{\"hoverinfo\":\"none\",\"marker\":{\"color\":\"#888\",\"line\":{\"width\":2},\"size\":10},\"mode\":\"markers\",\"x\":[8.72128423326687],\"y\":[-16.330172475396054],\"type\":\"scatter\"},{\"hoverinfo\":\"none\",\"marker\":{\"color\":\"#888\",\"line\":{\"width\":2},\"size\":10},\"mode\":\"markers\",\"x\":[1.2384634992358048],\"y\":[13.398018425946969],\"type\":\"scatter\"},{\"hoverinfo\":\"none\",\"marker\":{\"color\":\"#888\",\"line\":{\"width\":2},\"size\":10},\"mode\":\"markers\",\"x\":[2.5681603530114936],\"y\":[-5.026339581688516],\"type\":\"scatter\"},{\"hoverinfo\":\"none\",\"marker\":{\"color\":\"#888\",\"line\":{\"width\":2},\"size\":10},\"mode\":\"markers\",\"x\":[-4.646293074311753],\"y\":[-12.622483635783698],\"type\":\"scatter\"},{\"hoverinfo\":\"none\",\"marker\":{\"color\":\"#888\",\"line\":{\"width\":2},\"size\":10},\"mode\":\"markers\",\"x\":[-17.90981810776813],\"y\":[-2.419647678153488],\"type\":\"scatter\"},{\"hoverinfo\":\"none\",\"marker\":{\"color\":\"#888\",\"line\":{\"width\":2},\"size\":10},\"mode\":\"markers\",\"x\":[3.0918310709142682],\"y\":[-7.629586755511121],\"type\":\"scatter\"},{\"hoverinfo\":\"none\",\"marker\":{\"color\":\"#888\",\"line\":{\"width\":2},\"size\":10},\"mode\":\"markers\",\"x\":[6.4305772057498265],\"y\":[26.055579693866203],\"type\":\"scatter\"},{\"hoverinfo\":\"none\",\"marker\":{\"color\":\"#888\",\"line\":{\"width\":2},\"size\":10},\"mode\":\"markers\",\"x\":[2.7468531312391784],\"y\":[-16.079757643646648],\"type\":\"scatter\"},{\"hoverinfo\":\"none\",\"marker\":{\"color\":\"#888\",\"line\":{\"width\":2},\"size\":10},\"mode\":\"markers\",\"x\":[18.534571069659375],\"y\":[10.483549553323712],\"type\":\"scatter\"},{\"hoverinfo\":\"none\",\"marker\":{\"color\":\"#888\",\"line\":{\"width\":2},\"size\":10},\"mode\":\"markers\",\"x\":[-13.71220926008101],\"y\":[4.206558928319928],\"type\":\"scatter\"},{\"hoverinfo\":\"none\",\"marker\":{\"color\":\"#888\",\"line\":{\"width\":2},\"size\":10},\"mode\":\"markers\",\"x\":[-5.579440638867048],\"y\":[-6.997906626361593],\"type\":\"scatter\"},{\"hoverinfo\":\"none\",\"marker\":{\"color\":\"#888\",\"line\":{\"width\":2},\"size\":10},\"mode\":\"markers\",\"x\":[-5.228390186355211],\"y\":[-8.481868379903865],\"type\":\"scatter\"},{\"hoverinfo\":\"none\",\"marker\":{\"color\":\"#888\",\"line\":{\"width\":2},\"size\":10},\"mode\":\"markers\",\"x\":[-12.440252625011263],\"y\":[17.952812357319456],\"type\":\"scatter\"},{\"hoverinfo\":\"none\",\"marker\":{\"color\":\"#888\",\"line\":{\"width\":2},\"size\":10},\"mode\":\"markers\",\"x\":[-13.22191973190414],\"y\":[-10.179959419150759],\"type\":\"scatter\"},{\"hoverinfo\":\"none\",\"marker\":{\"color\":\"#888\",\"line\":{\"width\":2},\"size\":10},\"mode\":\"markers\",\"x\":[-6.044115165319973],\"y\":[7.157454587183068],\"type\":\"scatter\"},{\"hoverinfo\":\"none\",\"marker\":{\"color\":\"#888\",\"line\":{\"width\":2},\"size\":10},\"mode\":\"markers\",\"x\":[-3.618098014000431],\"y\":[11.141845937116589],\"type\":\"scatter\"},{\"hoverinfo\":\"none\",\"marker\":{\"color\":\"#888\",\"line\":{\"width\":2},\"size\":10},\"mode\":\"markers\",\"x\":[-1.7459513624262262],\"y\":[7.829563438329052],\"type\":\"scatter\"},{\"hoverinfo\":\"none\",\"marker\":{\"color\":\"#888\",\"line\":{\"width\":2},\"size\":10},\"mode\":\"markers\",\"x\":[7.2779902803010845],\"y\":[12.35418444885524],\"type\":\"scatter\"},{\"hoverinfo\":\"none\",\"marker\":{\"color\":\"#888\",\"line\":{\"width\":2},\"size\":10},\"mode\":\"markers\",\"x\":[26.237577973787115],\"y\":[2.909881597940766],\"type\":\"scatter\"},{\"hoverinfo\":\"none\",\"marker\":{\"color\":\"#888\",\"line\":{\"width\":2},\"size\":10},\"mode\":\"markers\",\"x\":[5.474464571390464],\"y\":[7.786043677929105],\"type\":\"scatter\"},{\"hoverinfo\":\"none\",\"marker\":{\"color\":\"#888\",\"line\":{\"width\":2},\"size\":10},\"mode\":\"markers\",\"x\":[-1.1080382324175182],\"y\":[0.8719699025156507],\"type\":\"scatter\"},{\"hoverinfo\":\"none\",\"marker\":{\"color\":\"#888\",\"line\":{\"width\":2},\"size\":10},\"mode\":\"markers\",\"x\":[-12.573301221632212],\"y\":[-1.5791589740897536],\"type\":\"scatter\"},{\"hoverinfo\":\"none\",\"marker\":{\"color\":\"#888\",\"line\":{\"width\":2},\"size\":10},\"mode\":\"markers\",\"x\":[-6.659190714325534],\"y\":[-6.405663399532466],\"type\":\"scatter\"},{\"hoverinfo\":\"none\",\"marker\":{\"color\":\"#888\",\"line\":{\"width\":2},\"size\":10},\"mode\":\"markers\",\"x\":[-6.911217610923606],\"y\":[-7.317891922347521],\"type\":\"scatter\"},{\"hoverinfo\":\"none\",\"marker\":{\"color\":\"#888\",\"line\":{\"width\":2},\"size\":10},\"mode\":\"markers\",\"x\":[7.478506541610463],\"y\":[-1.146178135927791],\"type\":\"scatter\"},{\"hoverinfo\":\"none\",\"marker\":{\"color\":\"#888\",\"line\":{\"width\":2},\"size\":10},\"mode\":\"markers\",\"x\":[-2.9277509991008683],\"y\":[8.26275185949906],\"type\":\"scatter\"},{\"hoverinfo\":\"none\",\"marker\":{\"color\":\"#888\",\"line\":{\"width\":2},\"size\":10},\"mode\":\"markers\",\"x\":[6.506017688822156],\"y\":[11.600810979599157],\"type\":\"scatter\"},{\"hoverinfo\":\"none\",\"marker\":{\"color\":\"#888\",\"line\":{\"width\":2},\"size\":10},\"mode\":\"markers\",\"x\":[9.517751681897689],\"y\":[0.6938698196890648],\"type\":\"scatter\"},{\"hoverinfo\":\"none\",\"marker\":{\"color\":\"#888\",\"line\":{\"width\":2},\"size\":10},\"mode\":\"markers\",\"x\":[-6.028844877752055],\"y\":[-4.613147712083613],\"type\":\"scatter\"},{\"hoverinfo\":\"none\",\"marker\":{\"color\":\"#888\",\"line\":{\"width\":2},\"size\":10},\"mode\":\"markers\",\"x\":[2.1962972633917124],\"y\":[-3.878863550834768],\"type\":\"scatter\"},{\"hoverinfo\":\"none\",\"marker\":{\"color\":\"#888\",\"line\":{\"width\":2},\"size\":10},\"mode\":\"markers\",\"x\":[0.4766763872010876],\"y\":[13.355376005709195],\"type\":\"scatter\"},{\"hoverinfo\":\"none\",\"marker\":{\"color\":\"#888\",\"line\":{\"width\":2},\"size\":10},\"mode\":\"markers\",\"x\":[-1.1245748922777967],\"y\":[-4.122760603536778],\"type\":\"scatter\"},{\"hoverinfo\":\"none\",\"marker\":{\"color\":\"#888\",\"line\":{\"width\":2},\"size\":10},\"mode\":\"markers\",\"x\":[-2.4698286658070874],\"y\":[-15.68479488095138],\"type\":\"scatter\"},{\"hoverinfo\":\"none\",\"marker\":{\"color\":\"#888\",\"line\":{\"width\":2},\"size\":10},\"mode\":\"markers\",\"x\":[7.906445978390093],\"y\":[10.18091516518454],\"type\":\"scatter\"},{\"hoverinfo\":\"none\",\"marker\":{\"color\":\"#888\",\"line\":{\"width\":2},\"size\":10},\"mode\":\"markers\",\"x\":[15.848663132122384],\"y\":[5.763408439317229],\"type\":\"scatter\"},{\"hoverinfo\":\"none\",\"marker\":{\"color\":\"#888\",\"line\":{\"width\":2},\"size\":10},\"mode\":\"markers\",\"x\":[-6.798745293841387],\"y\":[7.816069983985551],\"type\":\"scatter\"},{\"hoverinfo\":\"none\",\"marker\":{\"color\":\"#888\",\"line\":{\"width\":2},\"size\":10},\"mode\":\"markers\",\"x\":[11.292038966140595],\"y\":[-6.009669081731853],\"type\":\"scatter\"},{\"hoverinfo\":\"none\",\"marker\":{\"color\":\"#888\",\"line\":{\"width\":2},\"size\":10},\"mode\":\"markers\",\"x\":[-4.935220296657501],\"y\":[6.347106464148613],\"type\":\"scatter\"},{\"hoverinfo\":\"none\",\"marker\":{\"color\":\"#888\",\"line\":{\"width\":2},\"size\":10},\"mode\":\"markers\",\"x\":[0.5838562569712057],\"y\":[-11.434374736668877],\"type\":\"scatter\"},{\"hoverinfo\":\"none\",\"marker\":{\"color\":\"#888\",\"line\":{\"width\":2},\"size\":10},\"mode\":\"markers\",\"x\":[-23.490033010423772],\"y\":[-4.596519579249174],\"type\":\"scatter\"},{\"hoverinfo\":\"none\",\"marker\":{\"color\":\"#888\",\"line\":{\"width\":2},\"size\":10},\"mode\":\"markers\",\"x\":[3.4126312973743325],\"y\":[5.098267036330386],\"type\":\"scatter\"},{\"hoverinfo\":\"none\",\"marker\":{\"color\":\"#888\",\"line\":{\"width\":2},\"size\":10},\"mode\":\"markers\",\"x\":[19.415581330520897],\"y\":[-12.512912908138157],\"type\":\"scatter\"},{\"hoverinfo\":\"none\",\"marker\":{\"color\":\"#888\",\"line\":{\"width\":2},\"size\":10},\"mode\":\"markers\",\"x\":[-0.00946920170929982],\"y\":[13.858573657403532],\"type\":\"scatter\"},{\"hoverinfo\":\"none\",\"marker\":{\"color\":\"#888\",\"line\":{\"width\":2},\"size\":10},\"mode\":\"markers\",\"x\":[-11.146538905602153],\"y\":[32.624335685315195],\"type\":\"scatter\"},{\"hoverinfo\":\"none\",\"marker\":{\"color\":\"#888\",\"line\":{\"width\":2},\"size\":10},\"mode\":\"markers\",\"x\":[0.2780317253524234],\"y\":[-16.062907646482632],\"type\":\"scatter\"},{\"hoverinfo\":\"none\",\"marker\":{\"color\":\"#888\",\"line\":{\"width\":2},\"size\":10},\"mode\":\"markers\",\"x\":[-1.5879397681099936],\"y\":[11.266407505581267],\"type\":\"scatter\"},{\"hoverinfo\":\"none\",\"marker\":{\"color\":\"#888\",\"line\":{\"width\":2},\"size\":10},\"mode\":\"markers\",\"x\":[1.3051535147829574],\"y\":[-4.341662676191229],\"type\":\"scatter\"},{\"hoverinfo\":\"none\",\"marker\":{\"color\":\"#888\",\"line\":{\"width\":2},\"size\":10},\"mode\":\"markers\",\"x\":[-4.042893560824278],\"y\":[-4.3677686011319565],\"type\":\"scatter\"},{\"hoverinfo\":\"none\",\"marker\":{\"color\":\"#888\",\"line\":{\"width\":2},\"size\":10},\"mode\":\"markers\",\"x\":[1.8481227620948604],\"y\":[4.493434641552705],\"type\":\"scatter\"},{\"hoverinfo\":\"none\",\"marker\":{\"color\":\"#888\",\"line\":{\"width\":2},\"size\":10},\"mode\":\"markers\",\"x\":[-8.841117972299601],\"y\":[17.313993042525723],\"type\":\"scatter\"},{\"hoverinfo\":\"none\",\"marker\":{\"color\":\"#888\",\"line\":{\"width\":2},\"size\":10},\"mode\":\"markers\",\"x\":[-4.37272252364004],\"y\":[8.985449804203016],\"type\":\"scatter\"},{\"hoverinfo\":\"none\",\"marker\":{\"color\":\"#888\",\"line\":{\"width\":2},\"size\":10},\"mode\":\"markers\",\"x\":[-5.77884639176658],\"y\":[0.018370071781481912],\"type\":\"scatter\"},{\"hoverinfo\":\"none\",\"marker\":{\"color\":\"#888\",\"line\":{\"width\":2},\"size\":10},\"mode\":\"markers\",\"x\":[-12.024979840667353],\"y\":[12.49436249528953],\"type\":\"scatter\"},{\"hoverinfo\":\"none\",\"marker\":{\"color\":\"#888\",\"line\":{\"width\":2},\"size\":10},\"mode\":\"markers\",\"x\":[7.805945801437531],\"y\":[-18.35343859564061],\"type\":\"scatter\"},{\"hoverinfo\":\"none\",\"marker\":{\"color\":\"#888\",\"line\":{\"width\":2},\"size\":10},\"mode\":\"markers\",\"x\":[-4.332332855696264],\"y\":[-11.05957131049093],\"type\":\"scatter\"},{\"hoverinfo\":\"none\",\"marker\":{\"color\":\"#888\",\"line\":{\"width\":2},\"size\":10},\"mode\":\"markers\",\"x\":[13.00673053051726],\"y\":[12.993955812655022],\"type\":\"scatter\"},{\"hoverinfo\":\"none\",\"marker\":{\"color\":\"#888\",\"line\":{\"width\":2},\"size\":10},\"mode\":\"markers\",\"x\":[-13.327637776822517],\"y\":[2.6328561301301336],\"type\":\"scatter\"},{\"hoverinfo\":\"none\",\"marker\":{\"color\":\"#888\",\"line\":{\"width\":2},\"size\":10},\"mode\":\"markers\",\"x\":[9.233276842616828],\"y\":[-0.04503127734858854],\"type\":\"scatter\"},{\"hoverinfo\":\"none\",\"marker\":{\"color\":\"#888\",\"line\":{\"width\":2},\"size\":10},\"mode\":\"markers\",\"x\":[-4.037672847704929],\"y\":[-13.588272253210317],\"type\":\"scatter\"},{\"hoverinfo\":\"none\",\"marker\":{\"color\":\"#888\",\"line\":{\"width\":2},\"size\":10},\"mode\":\"markers\",\"x\":[-8.876060825469573],\"y\":[-2.0571160366371135],\"type\":\"scatter\"},{\"hoverinfo\":\"none\",\"marker\":{\"color\":\"#888\",\"line\":{\"width\":2},\"size\":10},\"mode\":\"markers\",\"x\":[4.64490511861017],\"y\":[9.12821752672829],\"type\":\"scatter\"},{\"hoverinfo\":\"none\",\"marker\":{\"color\":\"#888\",\"line\":{\"width\":2},\"size\":10},\"mode\":\"markers\",\"x\":[4.178013522028631],\"y\":[1.2824642873686556],\"type\":\"scatter\"},{\"hoverinfo\":\"none\",\"marker\":{\"color\":\"#888\",\"line\":{\"width\":2},\"size\":10},\"mode\":\"markers\",\"x\":[13.91917180336582],\"y\":[0.605350034871278],\"type\":\"scatter\"},{\"hoverinfo\":\"none\",\"marker\":{\"color\":\"#888\",\"line\":{\"width\":2},\"size\":10},\"mode\":\"markers\",\"x\":[-13.402566245591084],\"y\":[6.494046900763342],\"type\":\"scatter\"},{\"hoverinfo\":\"none\",\"marker\":{\"color\":\"#888\",\"line\":{\"width\":2},\"size\":10},\"mode\":\"markers\",\"x\":[2.9601442605052695],\"y\":[13.985401490110734],\"type\":\"scatter\"},{\"hoverinfo\":\"none\",\"marker\":{\"color\":\"#888\",\"line\":{\"width\":2},\"size\":10},\"mode\":\"markers\",\"x\":[7.569676368547872],\"y\":[-7.9773274363505555],\"type\":\"scatter\"},{\"hoverinfo\":\"none\",\"marker\":{\"color\":\"#888\",\"line\":{\"width\":2},\"size\":10},\"mode\":\"markers\",\"x\":[5.362811521845362],\"y\":[-4.749946306421248],\"type\":\"scatter\"},{\"hoverinfo\":\"none\",\"marker\":{\"color\":\"#888\",\"line\":{\"width\":2},\"size\":10},\"mode\":\"markers\",\"x\":[2.2732880786406486],\"y\":[3.5913032868457013],\"type\":\"scatter\"}],                        {\"showlegend\":false,\"template\":{\"data\":{\"barpolar\":[{\"marker\":{\"line\":{\"color\":\"#E5ECF6\",\"width\":0.5},\"pattern\":{\"fillmode\":\"overlay\",\"size\":10,\"solidity\":0.2}},\"type\":\"barpolar\"}],\"bar\":[{\"error_x\":{\"color\":\"#2a3f5f\"},\"error_y\":{\"color\":\"#2a3f5f\"},\"marker\":{\"line\":{\"color\":\"#E5ECF6\",\"width\":0.5},\"pattern\":{\"fillmode\":\"overlay\",\"size\":10,\"solidity\":0.2}},\"type\":\"bar\"}],\"carpet\":[{\"aaxis\":{\"endlinecolor\":\"#2a3f5f\",\"gridcolor\":\"white\",\"linecolor\":\"white\",\"minorgridcolor\":\"white\",\"startlinecolor\":\"#2a3f5f\"},\"baxis\":{\"endlinecolor\":\"#2a3f5f\",\"gridcolor\":\"white\",\"linecolor\":\"white\",\"minorgridcolor\":\"white\",\"startlinecolor\":\"#2a3f5f\"},\"type\":\"carpet\"}],\"choropleth\":[{\"colorbar\":{\"outlinewidth\":0,\"ticks\":\"\"},\"type\":\"choropleth\"}],\"contourcarpet\":[{\"colorbar\":{\"outlinewidth\":0,\"ticks\":\"\"},\"type\":\"contourcarpet\"}],\"contour\":[{\"colorbar\":{\"outlinewidth\":0,\"ticks\":\"\"},\"colorscale\":[[0.0,\"#0d0887\"],[0.1111111111111111,\"#46039f\"],[0.2222222222222222,\"#7201a8\"],[0.3333333333333333,\"#9c179e\"],[0.4444444444444444,\"#bd3786\"],[0.5555555555555556,\"#d8576b\"],[0.6666666666666666,\"#ed7953\"],[0.7777777777777778,\"#fb9f3a\"],[0.8888888888888888,\"#fdca26\"],[1.0,\"#f0f921\"]],\"type\":\"contour\"}],\"heatmapgl\":[{\"colorbar\":{\"outlinewidth\":0,\"ticks\":\"\"},\"colorscale\":[[0.0,\"#0d0887\"],[0.1111111111111111,\"#46039f\"],[0.2222222222222222,\"#7201a8\"],[0.3333333333333333,\"#9c179e\"],[0.4444444444444444,\"#bd3786\"],[0.5555555555555556,\"#d8576b\"],[0.6666666666666666,\"#ed7953\"],[0.7777777777777778,\"#fb9f3a\"],[0.8888888888888888,\"#fdca26\"],[1.0,\"#f0f921\"]],\"type\":\"heatmapgl\"}],\"heatmap\":[{\"colorbar\":{\"outlinewidth\":0,\"ticks\":\"\"},\"colorscale\":[[0.0,\"#0d0887\"],[0.1111111111111111,\"#46039f\"],[0.2222222222222222,\"#7201a8\"],[0.3333333333333333,\"#9c179e\"],[0.4444444444444444,\"#bd3786\"],[0.5555555555555556,\"#d8576b\"],[0.6666666666666666,\"#ed7953\"],[0.7777777777777778,\"#fb9f3a\"],[0.8888888888888888,\"#fdca26\"],[1.0,\"#f0f921\"]],\"type\":\"heatmap\"}],\"histogram2dcontour\":[{\"colorbar\":{\"outlinewidth\":0,\"ticks\":\"\"},\"colorscale\":[[0.0,\"#0d0887\"],[0.1111111111111111,\"#46039f\"],[0.2222222222222222,\"#7201a8\"],[0.3333333333333333,\"#9c179e\"],[0.4444444444444444,\"#bd3786\"],[0.5555555555555556,\"#d8576b\"],[0.6666666666666666,\"#ed7953\"],[0.7777777777777778,\"#fb9f3a\"],[0.8888888888888888,\"#fdca26\"],[1.0,\"#f0f921\"]],\"type\":\"histogram2dcontour\"}],\"histogram2d\":[{\"colorbar\":{\"outlinewidth\":0,\"ticks\":\"\"},\"colorscale\":[[0.0,\"#0d0887\"],[0.1111111111111111,\"#46039f\"],[0.2222222222222222,\"#7201a8\"],[0.3333333333333333,\"#9c179e\"],[0.4444444444444444,\"#bd3786\"],[0.5555555555555556,\"#d8576b\"],[0.6666666666666666,\"#ed7953\"],[0.7777777777777778,\"#fb9f3a\"],[0.8888888888888888,\"#fdca26\"],[1.0,\"#f0f921\"]],\"type\":\"histogram2d\"}],\"histogram\":[{\"marker\":{\"pattern\":{\"fillmode\":\"overlay\",\"size\":10,\"solidity\":0.2}},\"type\":\"histogram\"}],\"mesh3d\":[{\"colorbar\":{\"outlinewidth\":0,\"ticks\":\"\"},\"type\":\"mesh3d\"}],\"parcoords\":[{\"line\":{\"colorbar\":{\"outlinewidth\":0,\"ticks\":\"\"}},\"type\":\"parcoords\"}],\"pie\":[{\"automargin\":true,\"type\":\"pie\"}],\"scatter3d\":[{\"line\":{\"colorbar\":{\"outlinewidth\":0,\"ticks\":\"\"}},\"marker\":{\"colorbar\":{\"outlinewidth\":0,\"ticks\":\"\"}},\"type\":\"scatter3d\"}],\"scattercarpet\":[{\"marker\":{\"colorbar\":{\"outlinewidth\":0,\"ticks\":\"\"}},\"type\":\"scattercarpet\"}],\"scattergeo\":[{\"marker\":{\"colorbar\":{\"outlinewidth\":0,\"ticks\":\"\"}},\"type\":\"scattergeo\"}],\"scattergl\":[{\"marker\":{\"colorbar\":{\"outlinewidth\":0,\"ticks\":\"\"}},\"type\":\"scattergl\"}],\"scattermapbox\":[{\"marker\":{\"colorbar\":{\"outlinewidth\":0,\"ticks\":\"\"}},\"type\":\"scattermapbox\"}],\"scatterpolargl\":[{\"marker\":{\"colorbar\":{\"outlinewidth\":0,\"ticks\":\"\"}},\"type\":\"scatterpolargl\"}],\"scatterpolar\":[{\"marker\":{\"colorbar\":{\"outlinewidth\":0,\"ticks\":\"\"}},\"type\":\"scatterpolar\"}],\"scatter\":[{\"fillpattern\":{\"fillmode\":\"overlay\",\"size\":10,\"solidity\":0.2},\"type\":\"scatter\"}],\"scatterternary\":[{\"marker\":{\"colorbar\":{\"outlinewidth\":0,\"ticks\":\"\"}},\"type\":\"scatterternary\"}],\"surface\":[{\"colorbar\":{\"outlinewidth\":0,\"ticks\":\"\"},\"colorscale\":[[0.0,\"#0d0887\"],[0.1111111111111111,\"#46039f\"],[0.2222222222222222,\"#7201a8\"],[0.3333333333333333,\"#9c179e\"],[0.4444444444444444,\"#bd3786\"],[0.5555555555555556,\"#d8576b\"],[0.6666666666666666,\"#ed7953\"],[0.7777777777777778,\"#fb9f3a\"],[0.8888888888888888,\"#fdca26\"],[1.0,\"#f0f921\"]],\"type\":\"surface\"}],\"table\":[{\"cells\":{\"fill\":{\"color\":\"#EBF0F8\"},\"line\":{\"color\":\"white\"}},\"header\":{\"fill\":{\"color\":\"#C8D4E3\"},\"line\":{\"color\":\"white\"}},\"type\":\"table\"}]},\"layout\":{\"annotationdefaults\":{\"arrowcolor\":\"#2a3f5f\",\"arrowhead\":0,\"arrowwidth\":1},\"autotypenumbers\":\"strict\",\"coloraxis\":{\"colorbar\":{\"outlinewidth\":0,\"ticks\":\"\"}},\"colorscale\":{\"diverging\":[[0,\"#8e0152\"],[0.1,\"#c51b7d\"],[0.2,\"#de77ae\"],[0.3,\"#f1b6da\"],[0.4,\"#fde0ef\"],[0.5,\"#f7f7f7\"],[0.6,\"#e6f5d0\"],[0.7,\"#b8e186\"],[0.8,\"#7fbc41\"],[0.9,\"#4d9221\"],[1,\"#276419\"]],\"sequential\":[[0.0,\"#0d0887\"],[0.1111111111111111,\"#46039f\"],[0.2222222222222222,\"#7201a8\"],[0.3333333333333333,\"#9c179e\"],[0.4444444444444444,\"#bd3786\"],[0.5555555555555556,\"#d8576b\"],[0.6666666666666666,\"#ed7953\"],[0.7777777777777778,\"#fb9f3a\"],[0.8888888888888888,\"#fdca26\"],[1.0,\"#f0f921\"]],\"sequentialminus\":[[0.0,\"#0d0887\"],[0.1111111111111111,\"#46039f\"],[0.2222222222222222,\"#7201a8\"],[0.3333333333333333,\"#9c179e\"],[0.4444444444444444,\"#bd3786\"],[0.5555555555555556,\"#d8576b\"],[0.6666666666666666,\"#ed7953\"],[0.7777777777777778,\"#fb9f3a\"],[0.8888888888888888,\"#fdca26\"],[1.0,\"#f0f921\"]]},\"colorway\":[\"#636efa\",\"#EF553B\",\"#00cc96\",\"#ab63fa\",\"#FFA15A\",\"#19d3f3\",\"#FF6692\",\"#B6E880\",\"#FF97FF\",\"#FECB52\"],\"font\":{\"color\":\"#2a3f5f\"},\"geo\":{\"bgcolor\":\"white\",\"lakecolor\":\"white\",\"landcolor\":\"#E5ECF6\",\"showlakes\":true,\"showland\":true,\"subunitcolor\":\"white\"},\"hoverlabel\":{\"align\":\"left\"},\"hovermode\":\"closest\",\"mapbox\":{\"style\":\"light\"},\"paper_bgcolor\":\"white\",\"plot_bgcolor\":\"#E5ECF6\",\"polar\":{\"angularaxis\":{\"gridcolor\":\"white\",\"linecolor\":\"white\",\"ticks\":\"\"},\"bgcolor\":\"#E5ECF6\",\"radialaxis\":{\"gridcolor\":\"white\",\"linecolor\":\"white\",\"ticks\":\"\"}},\"scene\":{\"xaxis\":{\"backgroundcolor\":\"#E5ECF6\",\"gridcolor\":\"white\",\"gridwidth\":2,\"linecolor\":\"white\",\"showbackground\":true,\"ticks\":\"\",\"zerolinecolor\":\"white\"},\"yaxis\":{\"backgroundcolor\":\"#E5ECF6\",\"gridcolor\":\"white\",\"gridwidth\":2,\"linecolor\":\"white\",\"showbackground\":true,\"ticks\":\"\",\"zerolinecolor\":\"white\"},\"zaxis\":{\"backgroundcolor\":\"#E5ECF6\",\"gridcolor\":\"white\",\"gridwidth\":2,\"linecolor\":\"white\",\"showbackground\":true,\"ticks\":\"\",\"zerolinecolor\":\"white\"}},\"shapedefaults\":{\"line\":{\"color\":\"#2a3f5f\"}},\"ternary\":{\"aaxis\":{\"gridcolor\":\"white\",\"linecolor\":\"white\",\"ticks\":\"\"},\"baxis\":{\"gridcolor\":\"white\",\"linecolor\":\"white\",\"ticks\":\"\"},\"bgcolor\":\"#E5ECF6\",\"caxis\":{\"gridcolor\":\"white\",\"linecolor\":\"white\",\"ticks\":\"\"}},\"title\":{\"x\":0.05},\"xaxis\":{\"automargin\":true,\"gridcolor\":\"white\",\"linecolor\":\"white\",\"ticks\":\"\",\"title\":{\"standoff\":15},\"zerolinecolor\":\"white\",\"zerolinewidth\":2},\"yaxis\":{\"automargin\":true,\"gridcolor\":\"white\",\"linecolor\":\"white\",\"ticks\":\"\",\"title\":{\"standoff\":15},\"zerolinecolor\":\"white\",\"zerolinewidth\":2}}}},                        {\"responsive\": true}                    ).then(function(){\n",
       "                            \n",
       "var gd = document.getElementById('9a6f2069-ddb0-4515-ac0e-bef927ca80b4');\n",
       "var x = new MutationObserver(function (mutations, observer) {{\n",
       "        var display = window.getComputedStyle(gd).display;\n",
       "        if (!display || display === 'none') {{\n",
       "            console.log([gd, 'removed!']);\n",
       "            Plotly.purge(gd);\n",
       "            observer.disconnect();\n",
       "        }}\n",
       "}});\n",
       "\n",
       "// Listen for the removal of the full notebook cells\n",
       "var notebookContainer = gd.closest('#notebook-container');\n",
       "if (notebookContainer) {{\n",
       "    x.observe(notebookContainer, {childList: true});\n",
       "}}\n",
       "\n",
       "// Listen for the clearing of the current output cell\n",
       "var outputEl = gd.closest('.output');\n",
       "if (outputEl) {{\n",
       "    x.observe(outputEl, {childList: true});\n",
       "}}\n",
       "\n",
       "                        })                };                });            </script>        </div>"
      ]
     },
     "metadata": {},
     "output_type": "display_data"
    }
   ],
   "source": [
    "plotNetwork(musicGraph)"
   ]
  },
  {
   "cell_type": "markdown",
   "metadata": {},
   "source": []
  }
 ],
 "metadata": {
  "kernelspec": {
   "display_name": "Python 3 (ipykernel)",
   "language": "python",
   "name": "python3"
  },
  "language_info": {
   "codemirror_mode": {
    "name": "ipython",
    "version": 3
   },
   "file_extension": ".py",
   "mimetype": "text/x-python",
   "name": "python",
   "nbconvert_exporter": "python",
   "pygments_lexer": "ipython3",
   "version": "3.10.9"
  }
 },
 "nbformat": 4,
 "nbformat_minor": 2
}
